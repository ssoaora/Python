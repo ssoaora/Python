{
 "cells": [
  {
   "cell_type": "code",
   "execution_count": 1,
   "metadata": {},
   "outputs": [
    {
     "name": "stdout",
     "output_type": "stream",
     "text": [
      "Hello World!\n"
     ]
    }
   ],
   "source": [
    "print(\"Hello World!\")"
   ]
  },
  {
   "cell_type": "markdown",
   "metadata": {},
   "source": [
    "- `print()` is a function that outputs the text inside the parentheses to the console."
   ]
  },
  {
   "cell_type": "code",
   "execution_count": 2,
   "metadata": {},
   "outputs": [
    {
     "name": "stdout",
     "output_type": "stream",
     "text": [
      "The result of 7 + 5 is 12\n"
     ]
    }
   ],
   "source": [
    "a = 7\n",
    "b = 5\n",
    "result = a + b\n",
    "\n",
    "print(f\"The result of {a} + {b} is {result}\")"
   ]
  },
  {
   "cell_type": "markdown",
   "metadata": {},
   "source": [
    "- `a` and `b` are two variables storing integer values.\n",
    "- The result of their addition is stored in `result`.\n",
    "- The `print()` function outputs the result, formatted using an f-string. (Python 3.6+)."
   ]
  },
  {
   "cell_type": "code",
   "execution_count": 3,
   "metadata": {},
   "outputs": [
    {
     "name": "stdout",
     "output_type": "stream",
     "text": [
      "x is type of <class 'str'> and value: Python is easy to learn\n",
      "x is now type of <class 'int'> and value: 42\n"
     ]
    }
   ],
   "source": [
    "x = 'Python is easy to learn'\n",
    "print(f\"x is type of {type(x)} and value: {x}\")\n",
    "\n",
    "x = 42\n",
    "print(f\"x is now type of {type(x)} and value: {x}\")"
   ]
  },
  {
   "cell_type": "markdown",
   "metadata": {},
   "source": [
    "- The `type()` function checks the type of the variable.\n",
    "- Python allows changing the type of variables dynamically during execution."
   ]
  },
  {
   "cell_type": "code",
   "execution_count": 1,
   "metadata": {},
   "outputs": [
    {
     "name": "stdout",
     "output_type": "stream",
     "text": [
      "Dongmin Lee\n",
      "12\n",
      "a + b\n"
     ]
    }
   ],
   "source": [
    "# 1. Variables and Printing Values\n",
    "# Defining variables \n",
    "professor = \"Dongmin Lee\"\n",
    "a = 7\n",
    "b = 5\n",
    "\n",
    "#Printing variables and results\n",
    "print(professor)  # Outputs: Dongmin Lee\n",
    "print(a + b)      # Outputs: 12\n",
    "print(\"a + b\")    # Outputs: a + b"
   ]
  },
  {
   "cell_type": "markdown",
   "metadata": {},
   "source": [
    "- Variable `professor` holds a string\n",
    "- `a` and `b` are integers, and `print(a + b)` adds them.\n",
    "- Quotation marks around `'a + b'` treat it as a string."
   ]
  },
  {
   "cell_type": "code",
   "execution_count": 2,
   "metadata": {},
   "outputs": [
    {
     "name": "stdout",
     "output_type": "stream",
     "text": [
      "1 <class 'int'>\n",
      "1.5 <class 'float'>\n",
      "ABC <class 'str'>\n",
      "True <class 'bool'>\n"
     ]
    }
   ],
   "source": [
    "# 2. Data Types in Python\n",
    "# Integer and float\n",
    "a = 1   # integer\n",
    "b = 1.5 # float\n",
    "\n",
    "# String and boolean\n",
    "c = \"ABC\"  # string\n",
    "d = True   # boolean\n",
    "\n",
    "# Printing values and their types\n",
    "print(a, type(a))\n",
    "print(b, type(b))\n",
    "print(c, type(c))\n",
    "print(d, type(d))"
   ]
  },
  {
   "cell_type": "markdown",
   "metadata": {},
   "source": [
    "- `type()` reveals the data type of a variable."
   ]
  },
  {
   "cell_type": "code",
   "execution_count": 3,
   "metadata": {},
   "outputs": [
    {
     "name": "stdout",
     "output_type": "stream",
     "text": [
      "55\n",
      "18\n",
      "150\n",
      "6.0\n",
      "243\n",
      "3\n",
      "1\n"
     ]
    }
   ],
   "source": [
    "# 3. Basic Arithmetic Operations\n",
    "# Arithmetic operations\n",
    "print(25 + 30)\n",
    "print(30 - 12)\n",
    "print(50 * 3)\n",
    "print(30 / 5)\n",
    "\n",
    "# Exponentiation\n",
    "print(3 ** 5)\n",
    "\n",
    "# Floor division and modulus\n",
    "print(7 // 2)\n",
    "print(7 % 2)"
   ]
  },
  {
   "cell_type": "markdown",
   "metadata": {},
   "source": [
    "- Demonstrates basic arithmetic and operations such as floor division (`//`) and modulus (`%`)."
   ]
  },
  {
   "cell_type": "code",
   "execution_count": 4,
   "metadata": {},
   "outputs": [
    {
     "name": "stdout",
     "output_type": "stream",
     "text": [
      "10.0\n",
      "76.3\n",
      "10\n"
     ]
    }
   ],
   "source": [
    "# 4. Data Type Conversion\n",
    "# Integer to float\n",
    "a = 10\n",
    "print(float(a))\n",
    "\n",
    "# Float to float\n",
    "b = \"76.3\"\n",
    "print(float(b))\n",
    "\n",
    "# Float to integer\n",
    "c = 10.7\n",
    "print(int(c))"
   ]
  },
  {
   "cell_type": "markdown",
   "metadata": {},
   "source": [
    "- Convert between integers, floats, and strings using `float()` and `int()`."
   ]
  },
  {
   "cell_type": "code",
   "execution_count": 5,
   "metadata": {},
   "outputs": [
    {
     "name": "stdout",
     "output_type": "stream",
     "text": [
      "<class 'int'>\n",
      "<class 'float'>\n",
      "<class 'str'>\n"
     ]
    }
   ],
   "source": [
    "# 5. Type Checking with type()\n",
    "a = int(10.3)   # Integer type\n",
    "b = float(10.3) # Float type\n",
    "c = str(10.3)   # String type\n",
    "\n",
    "# Checking types\n",
    "print(type(a))\n",
    "print(type(b))\n",
    "print(type(c))"
   ]
  },
  {
   "cell_type": "markdown",
   "metadata": {},
   "source": [
    "- Use `type()` to check the type of any variable."
   ]
  },
  {
   "cell_type": "code",
   "execution_count": 6,
   "metadata": {},
   "outputs": [
    {
     "name": "stdout",
     "output_type": "stream",
     "text": [
      "Hi Dongmin How are you today?\n"
     ]
    }
   ],
   "source": [
    "# 1. Input and Output with input() and print()\n",
    "# Taking input from the user and displaying output\n",
    "name = input(\"Enter your name: \") # Input from the user\n",
    "print(\"Hi\", name, \"How are you today?\") # Output using print()"
   ]
  },
  {
   "cell_type": "markdown",
   "metadata": {},
   "source": [
    "<b>Explanation:</b>\n",
    "- The `input()` function prompts the user to enter data, which is stored in the `name` variable.\n",
    "- The `print()` function displays the greeting message."
   ]
  },
  {
   "cell_type": "code",
   "execution_count": 7,
   "metadata": {},
   "outputs": [
    {
     "name": "stdout",
     "output_type": "stream",
     "text": [
      "This is a Celsius to Faherenheit converter program.\n",
      "Celsius: 77.0\n",
      "Fahrenheit: 170.6\n"
     ]
    }
   ],
   "source": [
    "# 2. Temperature Converter (Celsius to Fahrenheit)\n",
    "# Celsius to Fahrenheit converter\n",
    "print(\"This is a Celsius to Faherenheit converter program.\")\n",
    "celcius = float(input(\"Enter the temperature in Celsius: \"))  # Input as float\n",
    "fahrenheit = (celcius * 1.8) + 32  # Conversion formula\n",
    "print(\"Celsius:\", celcius)\n",
    "print(\"Fahrenheit:\", fahrenheit)"
   ]
  },
  {
   "cell_type": "code",
   "execution_count": 8,
   "metadata": {},
   "outputs": [
    {
     "name": "stdout",
     "output_type": "stream",
     "text": [
      "red\n",
      "green\n",
      "3\n"
     ]
    }
   ],
   "source": [
    "# 3. List Basics and Indexing\n",
    "# Creating a list and using indexing\n",
    "colors = ['red', 'blue', 'green']\n",
    "print(colors[0])  # Accessing the first element (red)\n",
    "print(colors[2])  # Accessing the third element (green)\n",
    "print(len(colors)) # Finding the length length of the list (3)"
   ]
  },
  {
   "cell_type": "markdown",
   "metadata": {},
   "source": [
    "<b>Explanation:</b>\n",
    "- Lists store multiple values in one variable, and elements can be accessed by their index."
   ]
  },
  {
   "cell_type": "code",
   "execution_count": 9,
   "metadata": {},
   "outputs": [
    {
     "name": "stdout",
     "output_type": "stream",
     "text": [
      "['Seoul', 'Busan', 'Incheon', 'Daegu', 'Daejeon', 'Gwangju']\n",
      "['Gwangju', 'Ulsan', 'Suwon']\n",
      "['Suwon', 'Ulsan', 'Gwangju', 'Daejeon', 'Daegu', 'Incheon', 'Busan', 'Seoul']\n"
     ]
    }
   ],
   "source": [
    "# 4. Slicing Lists\n",
    "# List slicing\n",
    "cities = ['Seoul', 'Busan', 'Incheon', 'Daegu', 'Daejeon', 'Gwangju', 'Ulsan', 'Suwon']\n",
    "print(cities[0:6])  # Slice from index 0 to 5\n",
    "print(cities[5:])   # Slice from index 5 to end\n",
    "print(cities[::-1]) # Reversing the list using slicing"
   ]
  },
  {
   "cell_type": "markdown",
   "metadata": {},
   "source": [
    "<b>Explanation:</b>\n",
    "- Slicing extracts parts of a list, and [::-1] reverses the list."
   ]
  },
  {
   "cell_type": "code",
   "execution_count": 10,
   "metadata": {},
   "outputs": [
    {
     "name": "stdout",
     "output_type": "stream",
     "text": [
      "['red', 'blue', 'green', 'orange', 'black', 'white']\n",
      "['red', 'blue', 'green', 'red', 'blue', 'green']\n",
      "False\n"
     ]
    }
   ],
   "source": [
    "# 5. List Operation: Addition, Multiplication, and Membership\n",
    "# List addition and multiplication\n",
    "color1 = ['red', 'blue', 'green']\n",
    "color2 = ['orange', 'black', 'white']\n",
    "print(color1 + color2)  # Adding two lists\n",
    "print(color1 * 2)       # Multiplying a list (repeats elements)\n",
    "print('blue' in color2) # Checking if 'blue' is in color2 (False)"
   ]
  },
  {
   "cell_type": "markdown",
   "metadata": {},
   "source": [
    "<b>Explanation:</b>\n",
    "- You can add lists to combine them, multiply to repeat elements, and use the `in` operator to check membership."
   ]
  },
  {
   "cell_type": "code",
   "execution_count": 11,
   "metadata": {},
   "outputs": [
    {
     "name": "stdout",
     "output_type": "stream",
     "text": [
      "['red', 'blue', 'green', 'white']\n",
      "['red', 'blue', 'green', 'white', 'black', 'purple']\n",
      "['orange', 'red', 'blue', 'green', 'white', 'black', 'purple']\n",
      "['orange', 'blue', 'green', 'white', 'black', 'purple']\n"
     ]
    }
   ],
   "source": [
    "# 6. List Modification: Append, Extend, Insert, and Remove\n",
    "# Modifying Lists\n",
    "color = ['red', 'blue', 'green']\n",
    "color.append('white')   # Appending a new element\n",
    "print(color)\n",
    "\n",
    "color.extend(['black', 'purple'])  # Extending the list with another list\n",
    "print(color)\n",
    "\n",
    "color.insert(0, 'orange') # Inserting 'orange' at index 0\n",
    "print(color)\n",
    "\n",
    "color.remove('red') # Removing 'red' from the list\n",
    "print(color)"
   ]
  },
  {
   "cell_type": "markdown",
   "metadata": {},
   "source": [
    "<b>Explanation:</b>\n",
    "- `append()` adds elements, `extend()` merges lists, `insert()` adds elements at specific positions, and `remove()` deletes values."
   ]
  },
  {
   "cell_type": "code",
   "execution_count": 13,
   "metadata": {},
   "outputs": [
    {
     "name": "stdout",
     "output_type": "stream",
     "text": [
      "[[49, 79, 20, 100, 80], [43, 59, 85, 30, 90], [49, 79, 48, 60, 100]]\n",
      "20\n",
      "3\n",
      "5\n",
      "2239981647552\n",
      "2239981647360\n",
      "2239981647936\n",
      "2239981639680\n"
     ]
    }
   ],
   "source": [
    "# 7. Two-Dimensional Lists\n",
    "# Two-dimensional lists (list of lists)\n",
    "kor_score = [49, 79, 20, 100, 80]\n",
    "math_score = [43, 59, 85, 30, 90]\n",
    "eng_score = [49, 79, 48, 60, 100]\n",
    "midterm_score = [kor_score, math_score, eng_score]\n",
    "\n",
    "# Accessing elements in a 2D list\n",
    "print(midterm_score)\n",
    "print(midterm_score[0][2])  # Accessing the 3rd element of the first list (20)\n",
    "\n",
    "print(len(midterm_score))\n",
    "print(len(midterm_score[0]))\n",
    "\n",
    "print(id(midterm_score))\n",
    "print(id(midterm_score[0]))\n",
    "print(id(midterm_score[1]))\n",
    "print(id(midterm_score[2]))"
   ]
  }
 ],
 "metadata": {
  "kernelspec": {
   "display_name": "base",
   "language": "python",
   "name": "python3"
  },
  "language_info": {
   "codemirror_mode": {
    "name": "ipython",
    "version": 3
   },
   "file_extension": ".py",
   "mimetype": "text/x-python",
   "name": "python",
   "nbconvert_exporter": "python",
   "pygments_lexer": "ipython3",
   "version": "3.12.4"
  }
 },
 "nbformat": 4,
 "nbformat_minor": 2
}
