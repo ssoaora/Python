{
 "cells": [
  {
   "cell_type": "code",
   "execution_count": 1,
   "metadata": {},
   "outputs": [
    {
     "name": "stdout",
     "output_type": "stream",
     "text": [
      "Dongmin Lee\n",
      "12\n"
     ]
    }
   ],
   "source": [
    "# Question 1: Basic Python Syntax\n",
    "# Write a Python program to print your name and the result of 5 + 7.\n",
    "\n",
    "# Your answer here\n",
    "print(\"Dongmin Lee\")\n",
    "print(5 + 7)"
   ]
  },
  {
   "cell_type": "code",
   "execution_count": 2,
   "metadata": {},
   "outputs": [
    {
     "name": "stdout",
     "output_type": "stream",
     "text": [
      "10 <class 'int'>\n",
      "10.5 <class 'float'>\n",
      "Hello, World! <class 'str'>\n",
      "True <class 'bool'>\n"
     ]
    }
   ],
   "source": [
    "# Question 2: Identifying Data Types\n",
    "# Create variables with different data types (integer, float, string, boolean).\n",
    "# Print their values and types using type().\n",
    "\n",
    "# Your answer here\n",
    "a = 10\n",
    "b = 10.5\n",
    "c = \"Hello, World!\"\n",
    "d = True\n",
    "\n",
    "print(a, type(a))\n",
    "print(b, type(b))\n",
    "print(c, type(c))\n",
    "print(d, type(d))"
   ]
  },
  {
   "cell_type": "code",
   "execution_count": 3,
   "metadata": {},
   "outputs": [
    {
     "name": "stdout",
     "output_type": "stream",
     "text": [
      "Fahrenhiet temperature is: 86.0\n"
     ]
    }
   ],
   "source": [
    "# Question 3: Celsius to Fahrenheit\n",
    "# Write a program that takes a temperature in Celsius and converts it to Fahrenheit.\n",
    "# Fahrenheit = (Celsius * 1.8) + 32\n",
    "\n",
    "# Your answer here\n",
    "celsius = input(\"Enter the temperature in Celsius:\")\n",
    "fahrenhiet = (float(celsius) * 1.8) + 32\n",
    "print(\"Fahrenhiet temperature is:\", fahrenhiet)"
   ]
  },
  {
   "cell_type": "code",
   "execution_count": 4,
   "metadata": {},
   "outputs": [
    {
     "name": "stdout",
     "output_type": "stream",
     "text": [
      "1.51.51.51.5\n"
     ]
    }
   ],
   "source": [
    "# Question 4: String and Integer Multiplication\n",
    "# Given the code below, what will be the output? Run it and explain.\n",
    "a = \"1.5\"\n",
    "b = 4\n",
    "print(a * b)\n",
    "\n",
    "# Explain the result here\n",
    "# a is a String and b is an Integer. When we multiply 'a' String with an Integer, it will repeat the String 'b' times."
   ]
  },
  {
   "cell_type": "code",
   "execution_count": 6,
   "metadata": {},
   "outputs": [
    {
     "name": "stdout",
     "output_type": "stream",
     "text": [
      "10 30.5\n"
     ]
    }
   ],
   "source": [
    "# Question 5: Type Conversion\n",
    "# Take two inputs (one integer and one float) and convert them to strings. Then print them together.\n",
    "\n",
    "# Your answer here\n",
    "a = int(input(\"Enter an integer:\"))\n",
    "b = float(input(\"Enter a float:\"))\n",
    "\n",
    "a = str(a)\n",
    "b = str(b)\n",
    "\n",
    "print(a, b)"
   ]
  },
  {
   "cell_type": "code",
   "execution_count": 7,
   "metadata": {},
   "outputs": [
    {
     "name": "stdout",
     "output_type": "stream",
     "text": [
      "red blue\n"
     ]
    }
   ],
   "source": [
    "# Question 6: List Indexing\n",
    "# Create a list of five colors. Print the first and the last color.\n",
    "\n",
    "# Your answer here\n",
    "color = ['red', 'orange', 'yellow', 'green', 'blue']\n",
    "print(color[0], color[-1])"
   ]
  },
  {
   "cell_type": "code",
   "execution_count": 8,
   "metadata": {},
   "outputs": [
    {
     "name": "stdout",
     "output_type": "stream",
     "text": [
      "['apple', 'banana', 'cherry', 'orange', 'kiwi', 'melon']\n",
      "['apple', 'banana', 'cherry', 'apple', 'banana', 'cherry', 'apple', 'banana', 'cherry']\n"
     ]
    }
   ],
   "source": [
    "# Question 7: List Operations\n",
    "# Concatenate two lists and print the result. Multiply one list by 3 and print the result.\n",
    "\n",
    "# Your answer here\n",
    "list1 = ['apple', 'banana', 'cherry']\n",
    "list2 = ['orange', 'kiwi', 'melon']\n",
    "print(list1 + list2)\n",
    "\n",
    "list3 = list1 * 3\n",
    "print(list3)"
   ]
  },
  {
   "cell_type": "code",
   "execution_count": 9,
   "metadata": {},
   "outputs": [
    {
     "name": "stdout",
     "output_type": "stream",
     "text": [
      "['Seoul', 'New York', 'Paris']\n",
      "['Tokyo', 'London', 'Paris', 'New York', 'Seoul']\n"
     ]
    }
   ],
   "source": [
    "# Question 8: List Slicing and Reversing\n",
    "# Create a list of cities. Slice the list to show the first three cities and reverse the list.\n",
    "\n",
    "# Your answer here\n",
    "cities = ['Seoul', 'New York', 'Paris', 'London', 'Tokyo']\n",
    "print(cities[:3])\n",
    "print(cities[::-1])"
   ]
  },
  {
   "cell_type": "code",
   "execution_count": 12,
   "metadata": {},
   "outputs": [
    {
     "name": "stdout",
     "output_type": "stream",
     "text": [
      "['red', 'orange', 'yellow', 'green', 'blue']\n",
      "['red', 'orange', 'yellow', 'green', 'blue', 'purple']\n",
      "['white', 'red', 'orange', 'yellow', 'green', 'blue', 'purple']\n",
      "['white', 'red', 'yellow', 'green', 'blue', 'purple']\n"
     ]
    }
   ],
   "source": [
    "# Question 9: List Modification\n",
    "# Create a list of colors and:\n",
    "# 1. Append a color\n",
    "# 2. Insert a color at the beginning\n",
    "# 3. Remove the third color\n",
    "\n",
    "# Your answer here\n",
    "color = ['red', 'orange', 'yellow', 'green', 'blue']\n",
    "print(color)\n",
    "\n",
    "color.append('purple')\n",
    "print(color)\n",
    "\n",
    "color.insert(0, 'white')\n",
    "print(color)\n",
    "\n",
    "color.remove(color[2])\n",
    "print(color)"
   ]
  },
  {
   "cell_type": "code",
   "execution_count": 13,
   "metadata": {},
   "outputs": [
    {
     "name": "stdout",
     "output_type": "stream",
     "text": [
      "79\n",
      "95\n"
     ]
    }
   ],
   "source": [
    "# Question 10: Two-Dimensional Lists\n",
    "# Create two lists: kor_score and math_score. Combine them into a 2D list and access specific elements.\n",
    "\n",
    "kor_score = [49, 79, 20]\n",
    "math_score = [50, 89, 95]\n",
    "midterm_score = [kor_score, math_score]\n",
    "\n",
    "# Print the second element of the first list and the third element of the second list.\n",
    "\n",
    "# Your answer here\n",
    "print(midterm_score[0][1])\n",
    "print(midterm_score[1][2])"
   ]
  }
 ],
 "metadata": {
  "kernelspec": {
   "display_name": "base",
   "language": "python",
   "name": "python3"
  },
  "language_info": {
   "codemirror_mode": {
    "name": "ipython",
    "version": 3
   },
   "file_extension": ".py",
   "mimetype": "text/x-python",
   "name": "python",
   "nbconvert_exporter": "python",
   "pygments_lexer": "ipython3",
   "version": "3.12.4"
  }
 },
 "nbformat": 4,
 "nbformat_minor": 2
}
