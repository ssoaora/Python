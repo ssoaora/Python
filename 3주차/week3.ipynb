{
 "cells": [
  {
   "cell_type": "markdown",
   "metadata": {},
   "source": [
    "## Conditional Statements Section\n",
    "### if-else statement (guessing student category)"
   ]
  },
  {
   "cell_type": "code",
   "execution_count": 15,
   "metadata": {},
   "outputs": [
    {
     "name": "stdout",
     "output_type": "stream",
     "text": [
      "Tell me your age?\n",
      "Welcome to the Club.\n"
     ]
    }
   ],
   "source": [
    "print(\"Tell me your age?\")\n",
    "myage = int(input())\n",
    "if myage < 30:\n",
    "  print(\"Welcome to the Club.\")\n",
    "else:\n",
    "  print(\"Oh! No. You are not accepted.\")"
   ]
  },
  {
   "cell_type": "markdown",
   "metadata": {},
   "source": [
    "### if-elif-else statement (grade assignment)"
   ]
  },
  {
   "cell_type": "code",
   "execution_count": 16,
   "metadata": {},
   "outputs": [
    {
     "name": "stdout",
     "output_type": "stream",
     "text": [
      "Your grade is: A\n"
     ]
    }
   ],
   "source": [
    "score = int(input(\"Enter your score.\"))\n",
    "if score >= 90:\n",
    "  grade = 'A'\n",
    "elif score >= 80:\n",
    "  grade = 'B'\n",
    "elif score >= 70:\n",
    "  grade = 'C'\n",
    "elif score >= 60:\n",
    "  grade = 'D'\n",
    "else:\n",
    "  grade = 'F'\n",
    "print(f\"Your grade is: {grade}\")"
   ]
  },
  {
   "cell_type": "markdown",
   "metadata": {},
   "source": [
    "## Loops Section\n",
    "### for loop (multiplication table)"
   ]
  },
  {
   "cell_type": "code",
   "execution_count": 17,
   "metadata": {},
   "outputs": [
    {
     "name": "stdout",
     "output_type": "stream",
     "text": [
      "구구단 6단을 계산합니다.\n",
      "6 x 1 = 6\n",
      "6 x 2 = 12\n",
      "6 x 3 = 18\n",
      "6 x 4 = 24\n",
      "6 x 5 = 30\n",
      "6 x 6 = 36\n",
      "6 x 7 = 42\n",
      "6 x 8 = 48\n",
      "6 x 9 = 54\n"
     ]
    }
   ],
   "source": [
    "n = int(input(\"구구단 몇 단을 계산할까요?\"))\n",
    "print(f\"구구단 {n}단을 계산합니다.\")\n",
    "for i in range(1, 10):\n",
    "  print(f\"{n} x {i} = {n * i}\")"
   ]
  },
  {
   "cell_type": "markdown",
   "metadata": {},
   "source": [
    "### while loop (number guessing game)"
   ]
  },
  {
   "cell_type": "code",
   "execution_count": 18,
   "metadata": {},
   "outputs": [
    {
     "name": "stdout",
     "output_type": "stream",
     "text": [
      "숫자를 맞혀 보세요. (1 ~ 100)\n",
      "숫자가 너무 작습니다.\n",
      "숫자가 너무 작습니다.\n",
      "숫자가 너무 작습니다.\n",
      "숫자가 너무 큽니다.\n",
      "숫자가 너무 작습니다.\n",
      "숫자가 너무 큽니다.\n",
      "숫자가 너무 작습니다.\n",
      "숫자가 너무 작습니다.\n",
      "숫자가 너무 작습니다.\n",
      "정답입니다. 입력한 숫자는 67입니다.\n"
     ]
    }
   ],
   "source": [
    "import random\n",
    "\n",
    "guess_number = random.randint(1, 100)\n",
    "print(\"숫자를 맞혀 보세요. (1 ~ 100)\")\n",
    "user_input = int(input())\n",
    "\n",
    "while user_input != guess_number:\n",
    "  if user_input > guess_number:\n",
    "    print(\"숫자가 너무 큽니다.\")\n",
    "  else:\n",
    "    print(\"숫자가 너무 작습니다.\")\n",
    "  user_input = int(input())\n",
    "  \n",
    "print(f\"정답입니다. 입력한 숫자는 {user_input}입니다.\")"
   ]
  },
  {
   "cell_type": "markdown",
   "metadata": {},
   "source": [
    "### for loop (range with steps)"
   ]
  },
  {
   "cell_type": "code",
   "execution_count": 19,
   "metadata": {},
   "outputs": [
    {
     "name": "stdout",
     "output_type": "stream",
     "text": [
      "1\n",
      "3\n",
      "5\n",
      "7\n",
      "9\n"
     ]
    }
   ],
   "source": [
    "for i in range(1, 10, 2): # increments by 2\n",
    "    print(i)"
   ]
  },
  {
   "cell_type": "markdown",
   "metadata": {},
   "source": [
    "## Functions Section\n",
    "### Simple function (hello world)"
   ]
  },
  {
   "cell_type": "code",
   "execution_count": 20,
   "metadata": {},
   "outputs": [
    {
     "name": "stdout",
     "output_type": "stream",
     "text": [
      "Hello, World!\n"
     ]
    }
   ],
   "source": [
    "def print_hello_world():\n",
    "  print(\"Hello, World!\")\n",
    "  \n",
    "print_hello_world()"
   ]
  },
  {
   "cell_type": "markdown",
   "metadata": {},
   "source": [
    "### Function with paramenters (rectangle area)"
   ]
  },
  {
   "cell_type": "code",
   "execution_count": 21,
   "metadata": {},
   "outputs": [
    {
     "name": "stdout",
     "output_type": "stream",
     "text": [
      "The area of the retangle is: 35\n"
     ]
    }
   ],
   "source": [
    "def calculate_rectangle_area(x, y):\n",
    "  return x * y\n",
    "\n",
    "x = 5\n",
    "y = 7\n",
    "print(f\"The area of the retangle is: {calculate_rectangle_area(x, y)}\")"
   ]
  },
  {
   "cell_type": "markdown",
   "metadata": {},
   "source": [
    "### Recursive function (factorial)"
   ]
  },
  {
   "cell_type": "code",
   "execution_count": 4,
   "metadata": {},
   "outputs": [
    {
     "name": "stdout",
     "output_type": "stream",
     "text": [
      "Factorial result: 6\n"
     ]
    }
   ],
   "source": [
    "def factorial(n):\n",
    "  if n == 1:\n",
    "    return 1\n",
    "  else:\n",
    "    return n * factorial(n - 1)\n",
    "  \n",
    "num = int(input(\"Enter a number for factorial calculation: \"))\n",
    "print(f\"Factorial result: {factorial(num)}\")"
   ]
  },
  {
   "cell_type": "markdown",
   "metadata": {},
   "source": [
    "### Function with default arguments"
   ]
  },
  {
   "cell_type": "code",
   "execution_count": 5,
   "metadata": {},
   "outputs": [
    {
     "name": "stdout",
     "output_type": "stream",
     "text": [
      "Hello, Dongmin!\n",
      "Good Morning, Dongmin!\n"
     ]
    }
   ],
   "source": [
    "def greet(name, msg=\"Hello\"):\n",
    "  print(f\"{msg}, {name}!\")\n",
    "  \n",
    "greet(\"Dongmin\")\n",
    "greet(\"Dongmin\", \"Good Morning\")"
   ]
  },
  {
   "cell_type": "markdown",
   "metadata": {},
   "source": [
    "## Error Handling and Debugging Section\n",
    "### Handling indentation error example"
   ]
  },
  {
   "cell_type": "code",
   "execution_count": 6,
   "metadata": {},
   "outputs": [
    {
     "name": "stdout",
     "output_type": "stream",
     "text": [
      "This is properly indented 5\n"
     ]
    }
   ],
   "source": [
    "def example_indentation():\n",
    "  x = 5\n",
    "  print(\"This is properly indented\", x)\n",
    "  \n",
    "example_indentation()"
   ]
  },
  {
   "cell_type": "markdown",
   "metadata": {},
   "source": [
    "## Advanced Topics: Variable-length Arguments\n",
    "### Variable-length arguments(*args)"
   ]
  },
  {
   "cell_type": "code",
   "execution_count": 24,
   "metadata": {},
   "outputs": [
    {
     "name": "stdout",
     "output_type": "stream",
     "text": [
      "15\n"
     ]
    }
   ],
   "source": [
    "def asterisk_test(a, b, *args):\n",
    "  return a + b + sum(args)\n",
    "\n",
    "print(asterisk_test(1, 2, 3, 4, 5))"
   ]
  },
  {
   "cell_type": "markdown",
   "metadata": {},
   "source": [
    "### Keyword arguments (**kwargs)"
   ]
  },
  {
   "cell_type": "code",
   "execution_count": 22,
   "metadata": {},
   "outputs": [
    {
     "ename": "SyntaxError",
     "evalue": "positional argument follows keyword argument (4168000151.py, line 5)",
     "output_type": "error",
     "traceback": [
      "\u001b[1;36m  Cell \u001b[1;32mIn[22], line 5\u001b[1;36m\u001b[0m\n\u001b[1;33m    kwargs_test(first = 3, second = 4, third)\u001b[0m\n\u001b[1;37m                                            ^\u001b[0m\n\u001b[1;31mSyntaxError\u001b[0m\u001b[1;31m:\u001b[0m positional argument follows keyword argument\n"
     ]
    }
   ],
   "source": [
    "def kwargs_test(**kwargs):\n",
    "  for key, value in kwargs.items():\n",
    "    print(f\"{key}: {value}\")\n",
    "    \n",
    "kwargs_test(first = 3, second = 4, third = 5)"
   ]
  },
  {
   "cell_type": "markdown",
   "metadata": {},
   "source": [
    "## Scoping Rules Section\n",
    "### Local vs Global Variables"
   ]
  },
  {
   "cell_type": "code",
   "execution_count": 9,
   "metadata": {},
   "outputs": [
    {
     "name": "stdout",
     "output_type": "stream",
     "text": [
      "Inside function, x: 20\n",
      "Outside function, x: 20\n"
     ]
    }
   ],
   "source": [
    "x = 10  # global variable\n",
    "\n",
    "def local_vs_global():\n",
    "  global x\n",
    "  x = 20  # modifies the global variable\n",
    "  print(f\"Inside function, x: {x}\")\n",
    "  \n",
    "local_vs_global()\n",
    "print(f\"Outside function, x: {x}\")"
   ]
  },
  {
   "cell_type": "markdown",
   "metadata": {},
   "source": [
    "## Additional Labs\n",
    "### Reversing a string"
   ]
  },
  {
   "cell_type": "code",
   "execution_count": 10,
   "metadata": {},
   "outputs": [
    {
     "name": "stdout",
     "output_type": "stream",
     "text": [
      "Reversed sentence: uoy evol I\n"
     ]
    }
   ],
   "source": [
    "sentence = \"I love you\"\n",
    "reverse_sentence = ''\n",
    "for char in sentence:\n",
    "  reverse_sentence = char + reverse_sentence\n",
    "  \n",
    "print(f\"Reversed sentence: {reverse_sentence}\")"
   ]
  },
  {
   "cell_type": "markdown",
   "metadata": {},
   "source": [
    "### Decimal to binary conversion"
   ]
  },
  {
   "cell_type": "code",
   "execution_count": 11,
   "metadata": {},
   "outputs": [
    {
     "name": "stdout",
     "output_type": "stream",
     "text": [
      "Binary representation of decimal 10: 1010\n"
     ]
    }
   ],
   "source": [
    "decimal = 10\n",
    "binary_result = ''\n",
    "\n",
    "while decimal > 0:\n",
    "  remainder = decimal % 2\n",
    "  decimal = decimal // 2\n",
    "  binary_result = str(remainder) + binary_result\n",
    "  \n",
    "print(f\"Binary representation of decimal 10: {binary_result}\")"
   ]
  },
  {
   "cell_type": "markdown",
   "metadata": {},
   "source": [
    "### Average calculation from 2D list"
   ]
  },
  {
   "cell_type": "code",
   "execution_count": 12,
   "metadata": {},
   "outputs": [
    {
     "name": "stdout",
     "output_type": "stream",
     "text": [
      "Student average scores: [47.0, 74.0, 51.0, 60.0, 90.0]\n"
     ]
    }
   ],
   "source": [
    "kor_score = [49, 80, 20, 100, 80]\n",
    "math_score = [43, 60, 85, 30, 90]\n",
    "eng_score = [49, 82, 48, 50, 100]\n",
    "midterm_score = [kor_score, math_score, eng_score]\n",
    "\n",
    "student_score = [0, 0, 0, 0, 0]\n",
    "i = 0\n",
    "for subject in midterm_score:\n",
    "  for score in subject:\n",
    "    student_score[i] += score\n",
    "    i += 1\n",
    "  i = 0\n",
    "  \n",
    "a, b, c, d, e = student_score\n",
    "student_average = [a/3, b/3, c/3, d/3, e/3]\n",
    "print(f\"Student average scores: {student_average}\")"
   ]
  },
  {
   "cell_type": "markdown",
   "metadata": {},
   "source": [
    "## Final Project: Trapezium Area Calculation\n",
    "### Function to calculate trapezium area"
   ]
  },
  {
   "cell_type": "code",
   "execution_count": 13,
   "metadata": {},
   "outputs": [
    {
     "name": "stdout",
     "output_type": "stream",
     "text": [
      "Trapezium area: 17.5\n"
     ]
    }
   ],
   "source": [
    "def trapezium_area(base, top, height):\n",
    "  return((base + top) * height) / 2\n",
    "\n",
    "base = float(input(\"Enter base length: \"))\n",
    "top = float(input(\"Enter top length: \"))\n",
    "height = float(input(\"Enter height: \"))\n",
    "print(f\"Trapezium area: {trapezium_area(base, top, height)}\")"
   ]
  }
 ],
 "metadata": {
  "kernelspec": {
   "display_name": "base",
   "language": "python",
   "name": "python3"
  },
  "language_info": {
   "codemirror_mode": {
    "name": "ipython",
    "version": 3
   },
   "file_extension": ".py",
   "mimetype": "text/x-python",
   "name": "python",
   "nbconvert_exporter": "python",
   "pygments_lexer": "ipython3",
   "version": "3.12.4"
  }
 },
 "nbformat": 4,
 "nbformat_minor": 2
}
