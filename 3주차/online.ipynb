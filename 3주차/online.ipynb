{
 "cells": [
  {
   "cell_type": "code",
   "execution_count": 1,
   "metadata": {},
   "outputs": [
    {
     "name": "stdout",
     "output_type": "stream",
     "text": [
      "Tell me your age?\n",
      "Welcome to the club.\n"
     ]
    }
   ],
   "source": [
    "print(\"Tell me your age?\")\n",
    "myAge = int(input())\n",
    "\n",
    "if myAge < 30 :\n",
    "  print(\"Welcome to the club.\")\n",
    "else:\n",
    "  print(\"Oh! No. You are not accepted\")"
   ]
  },
  {
   "cell_type": "code",
   "execution_count": 3,
   "metadata": {},
   "outputs": [
    {
     "name": "stdout",
     "output_type": "stream",
     "text": [
      "True\n"
     ]
    }
   ],
   "source": [
    "a = 100\n",
    "b = 100\n",
    "print(a is b)"
   ]
  },
  {
   "cell_type": "code",
   "execution_count": 4,
   "metadata": {},
   "outputs": [
    {
     "name": "stdout",
     "output_type": "stream",
     "text": [
      "False\n"
     ]
    }
   ],
   "source": [
    "a = 1000\n",
    "b = 1000\n",
    "print(a is b)"
   ]
  },
  {
   "cell_type": "code",
   "execution_count": 6,
   "metadata": {},
   "outputs": [
    {
     "name": "stdout",
     "output_type": "stream",
     "text": [
      "당신이 태어난 연도를 입력하세요.\n",
      "대학생\n"
     ]
    }
   ],
   "source": [
    "print(\"당신이 태어난 연도를 입력하세요.\")\n",
    "birthYear = input()\n",
    "age = 2024 - int(birthYear) + 1\n",
    "\n",
    "if age <= 26 and age >= 20:\n",
    "  print(\"대학생\")\n",
    "elif age < 20 and age >= 17:\n",
    "  print(\"고등학생\")\n",
    "elif age < 17 and age >= 14:\n",
    "  print(\"중학생\")\n",
    "elif age < 14 and age >= 8:\n",
    "  print(\"초등학생\")\n",
    "else:\n",
    "  print(\"학생이 아닙니다.\")"
   ]
  },
  {
   "cell_type": "code",
   "execution_count": 1,
   "metadata": {},
   "outputs": [
    {
     "name": "stdout",
     "output_type": "stream",
     "text": [
      "0\n",
      "1\n",
      "2\n",
      "3\n",
      "4\n",
      "5\n",
      "6\n",
      "7\n",
      "8\n",
      "9\n",
      "반복문 종료\n"
     ]
    }
   ],
   "source": [
    "for i in range(10):\n",
    "  print(i)\n",
    "else:\n",
    "  print(\"반복문 종료\")"
   ]
  },
  {
   "cell_type": "code",
   "execution_count": 2,
   "metadata": {},
   "outputs": [
    {
     "name": "stdout",
     "output_type": "stream",
     "text": [
      "구구단 몇 단을 계산할까?\n",
      "구구단 5단을 계산한다.\n",
      "5 * 1 = 5\n",
      "5 * 2 = 10\n",
      "5 * 3 = 15\n",
      "5 * 4 = 20\n",
      "5 * 5 = 25\n",
      "5 * 6 = 30\n",
      "5 * 7 = 35\n",
      "5 * 8 = 40\n",
      "5 * 9 = 45\n"
     ]
    }
   ],
   "source": [
    "print(\"구구단 몇 단을 계산할까?\")\n",
    "n = int(input())\n",
    "\n",
    "print(f\"구구단 {n}단을 계산한다.\")\n",
    "\n",
    "for i in range(1, 10):\n",
    "  print(f\"{n} * {i} = {n * i}\")"
   ]
  },
  {
   "cell_type": "code",
   "execution_count": 12,
   "metadata": {},
   "outputs": [
    {
     "name": "stdout",
     "output_type": "stream",
     "text": [
      "uoY evoL I \n"
     ]
    }
   ],
   "source": [
    "sentence = 'I Love You'\n",
    "reverse_sentence = ' '\n",
    "\n",
    "for char in sentence:\n",
    "  reverse_sentence = char + reverse_sentence\n",
    "  \n",
    "print(reverse_sentence)"
   ]
  },
  {
   "cell_type": "code",
   "execution_count": 13,
   "metadata": {},
   "outputs": [
    {
     "name": "stdout",
     "output_type": "stream",
     "text": [
      "1010 \n"
     ]
    }
   ],
   "source": [
    "decimal = 10\n",
    "result = ' '\n",
    "\n",
    "while decimal > 0:\n",
    "  remainder = decimal % 2\n",
    "  decimal = decimal // 2\n",
    "  result = str(remainder) + result\n",
    "  \n",
    "print(result)"
   ]
  },
  {
   "cell_type": "code",
   "execution_count": 15,
   "metadata": {},
   "outputs": [
    {
     "name": "stdout",
     "output_type": "stream",
     "text": [
      "숫자를 맞혀보세요. (1 ~ 100)\n",
      "숫자가 너무 작습니다.\n",
      "숫자가 너무 작습니다.\n",
      "숫자가 너무 작습니다.\n",
      "정답입니다. 입력한 숫자는 80 입니다.\n"
     ]
    }
   ],
   "source": [
    "import random\n",
    "\n",
    "guess_num = random.randint(1, 100)\n",
    "print(\"숫자를 맞혀보세요. (1 ~ 100)\")\n",
    "\n",
    "usr_input = int(input())\n",
    "\n",
    "while(usr_input is not guess_num):\n",
    "  if usr_input > 100:\n",
    "    print(\"숫자 범위는 1 ~ 100 입니다.\")\n",
    "  elif usr_input > guess_num:\n",
    "    print(\"숫자가 너무 큽니다.\")\n",
    "  else:\n",
    "    print(\"숫자가 너무 작습니다.\")\n",
    "  usr_input = int(input())\n",
    "  \n",
    "else:\n",
    "  print(f\"정답입니다. 입력한 숫자는 {usr_input} 입니다.\")"
   ]
  },
  {
   "cell_type": "code",
   "execution_count": 3,
   "metadata": {},
   "outputs": [
    {
     "name": "stdout",
     "output_type": "stream",
     "text": [
      "숫자를 맞혀보세요. (1 ~ 100)\n",
      "올바른 숫자를 입력하세요.\n",
      "숫자가 너무 작습니다.\n",
      "숫자가 너무 작습니다.\n",
      "숫자가 너무 작습니다.\n",
      "숫자 범위는 1 ~ 100 입니다.\n",
      "숫자가 너무 큽니다.\n",
      "숫자가 너무 큽니다.\n",
      "숫자가 너무 큽니다.\n",
      "숫자가 너무 작습니다.\n",
      "숫자가 너무 큽니다.\n",
      "숫자가 너무 큽니다.\n",
      "숫자가 너무 큽니다.\n",
      "올바른 숫자를 입력하세요.\n",
      "숫자가 너무 작습니다.\n",
      "정답입니다! 입력한 숫자는 23 입니다.\n"
     ]
    }
   ],
   "source": [
    "# 일반적인 Python 스타일 코드 by GPT-4o\n",
    "import random\n",
    "\n",
    "guess_num = random.randint(1, 100)\n",
    "print(\"숫자를 맞혀보세요. (1 ~ 100)\")\n",
    "\n",
    "while True:\n",
    "    try:\n",
    "        usr_input = int(input(\"숫자를 입력하세요: \"))\n",
    "\n",
    "        if usr_input > 100 or usr_input < 1:\n",
    "            print(\"숫자 범위는 1 ~ 100 입니다.\")\n",
    "        elif usr_input > guess_num:\n",
    "            print(\"숫자가 너무 큽니다.\")\n",
    "        elif usr_input < guess_num:\n",
    "            print(\"숫자가 너무 작습니다.\")\n",
    "        else:\n",
    "            print(f\"정답입니다! 입력한 숫자는 {usr_input} 입니다.\")\n",
    "            break\n",
    "    except ValueError:\n",
    "        print(\"올바른 숫자를 입력하세요.\")\n"
   ]
  },
  {
   "cell_type": "code",
   "execution_count": 5,
   "metadata": {},
   "outputs": [
    {
     "name": "stderr",
     "output_type": "stream",
     "text": [
      "<>:4: SyntaxWarning: \"is not\" with 'int' literal. Did you mean \"!=\"?\n",
      "<>:4: SyntaxWarning: \"is not\" with 'int' literal. Did you mean \"!=\"?\n",
      "<>:4: SyntaxWarning: \"is not\" with 'int' literal. Did you mean \"!=\"?\n",
      "<>:4: SyntaxWarning: \"is not\" with 'int' literal. Did you mean \"!=\"?\n",
      "C:\\Users\\Andy\\AppData\\Local\\Temp\\ipykernel_13136\\3009393933.py:4: SyntaxWarning: \"is not\" with 'int' literal. Did you mean \"!=\"?\n",
      "  while (x is not 0):\n",
      "C:\\Users\\Andy\\AppData\\Local\\Temp\\ipykernel_13136\\3009393933.py:4: SyntaxWarning: \"is not\" with 'int' literal. Did you mean \"!=\"?\n",
      "  while (x is not 0):\n"
     ]
    },
    {
     "name": "stdout",
     "output_type": "stream",
     "text": [
      "구구단 몇 단을 계산할까요? (1 ~ 9단, 종료시 0)\n",
      "구구단 1단을 계산합니다.\n",
      "1 * 1 = 1\n",
      "1 * 2 = 2\n",
      "1 * 3 = 3\n",
      "1 * 4 = 4\n",
      "1 * 5 = 5\n",
      "1 * 6 = 6\n",
      "1 * 7 = 7\n",
      "1 * 8 = 8\n",
      "1 * 9 = 9\n",
      "구구단 몇 단을 계산할까요? (1 ~ 9단, 종료시 0)\n",
      "구구단 2단을 계산합니다.\n",
      "2 * 1 = 2\n",
      "2 * 2 = 4\n",
      "2 * 3 = 6\n",
      "2 * 4 = 8\n",
      "2 * 5 = 10\n",
      "2 * 6 = 12\n",
      "2 * 7 = 14\n",
      "2 * 8 = 16\n",
      "2 * 9 = 18\n",
      "구구단 몇 단을 계산할까요? (1 ~ 9단, 종료시 0)\n",
      "구구단 게임을 종료합니다.\n"
     ]
    }
   ],
   "source": [
    "print(\"구구단 몇 단을 계산할까요? (1 ~ 9단, 종료시 0)\")\n",
    "\n",
    "x = 1\n",
    "\n",
    "# 0과 같은 정수는 값 자체를 비교하는 것이 일반적이므로, is가 아니라 !=를 사용해야 합니다.\n",
    "while (x is not 0):\n",
    "  x = int(input())\n",
    "  \n",
    "  if x == 0:\n",
    "    break\n",
    "  \n",
    "  if not(1 <= x <= 9):\n",
    "    print(\"잘못 입력했습니다. 1부터 9 사이의 숫자를 입력하세요.\")\n",
    "    continue\n",
    "  \n",
    "  else:\n",
    "    print(f\"구구단 {x}단을 계산합니다.\")\n",
    "    for i in range(1, 10):\n",
    "      print(f\"{x} * {i} = {x * i}\")\n",
    "    print(\"구구단 몇 단을 계산할까요? (1 ~ 9단, 종료시 0)\")\n",
    "\n",
    "print(\"구구단 게임을 종료합니다.\")"
   ]
  },
  {
   "cell_type": "code",
   "execution_count": 6,
   "metadata": {},
   "outputs": [
    {
     "name": "stdout",
     "output_type": "stream",
     "text": [
      "구구단 몇 단을 계산할까요? (1 ~ 9단, 종료시 0)\n",
      "잘못 입력했습니다. 1부터 9 사이의 숫자를 입력하세요.\n",
      "구구단 7단을 계산합니다.\n",
      "7 * 1 = 7\n",
      "7 * 2 = 14\n",
      "7 * 3 = 21\n",
      "7 * 4 = 28\n",
      "7 * 5 = 35\n",
      "7 * 6 = 42\n",
      "7 * 7 = 49\n",
      "7 * 8 = 56\n",
      "7 * 9 = 63\n",
      "구구단 몇 단을 계산할까요? (1 ~ 9단, 종료시 0)\n",
      "구구단 게임을 종료합니다.\n"
     ]
    }
   ],
   "source": [
    "# 일반적인 Python 스타일 코드 by GPT-4o\n",
    "def gugudan():\n",
    "    print(\"구구단 몇 단을 계산할까요? (1 ~ 9단, 종료시 0)\")\n",
    "\n",
    "    while True:\n",
    "        try:\n",
    "            x = int(input(\"단을 입력하세요: \"))\n",
    "            \n",
    "            if x == 0:\n",
    "                print(\"구구단 게임을 종료합니다.\")\n",
    "                break\n",
    "\n",
    "            if not (1 <= x <= 9):\n",
    "                print(\"잘못 입력했습니다. 1부터 9 사이의 숫자를 입력하세요.\")\n",
    "                continue\n",
    "\n",
    "            print(f\"구구단 {x}단을 계산합니다.\")\n",
    "            for i in range(1, 10):\n",
    "                print(f\"{x} * {i} = {x * i}\")\n",
    "                \n",
    "        except ValueError:\n",
    "            print(\"숫자를 입력해 주세요.\")\n",
    "            \n",
    "        print(\"구구단 몇 단을 계산할까요? (1 ~ 9단, 종료시 0)\")\n",
    "\n",
    "# 함수 실행\n",
    "gugudan()\n"
   ]
  },
  {
   "cell_type": "code",
   "execution_count": 1,
   "metadata": {},
   "outputs": [
    {
     "name": "stdout",
     "output_type": "stream",
     "text": [
      "[47.0, 74.0, 51.0, 60.0, 90.0]\n"
     ]
    }
   ],
   "source": [
    "kor_score = [49, 80, 20, 100, 80]\n",
    "math_score = [43, 60, 85, 30, 90]\n",
    "eng_score = [49, 82, 48, 50, 100]\n",
    "midterm_score = [kor_score, math_score, eng_score]\n",
    "\n",
    "student_score = [0, 0, 0, 0, 0]\n",
    "i = 0\n",
    "for subject in midterm_score:\n",
    "  for score in subject:\n",
    "    student_score[i] += score\n",
    "    i += 1\n",
    "  i = 0\n",
    "else:\n",
    "  a, b, c, d, e = student_score\n",
    "  student_average = [a/3, b/3, c/3, d/3, e/3]\n",
    "  print(student_average)"
   ]
  },
  {
   "cell_type": "code",
   "execution_count": null,
   "metadata": {},
   "outputs": [],
   "source": []
  }
 ],
 "metadata": {
  "kernelspec": {
   "display_name": "base",
   "language": "python",
   "name": "python3"
  },
  "language_info": {
   "codemirror_mode": {
    "name": "ipython",
    "version": 3
   },
   "file_extension": ".py",
   "mimetype": "text/x-python",
   "name": "python",
   "nbconvert_exporter": "python",
   "pygments_lexer": "ipython3",
   "version": "3.12.4"
  }
 },
 "nbformat": 4,
 "nbformat_minor": 2
}
