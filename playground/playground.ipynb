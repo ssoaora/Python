{
 "cells": [
  {
   "cell_type": "code",
   "execution_count": 2,
   "metadata": {},
   "outputs": [
    {
     "name": "stdout",
     "output_type": "stream",
     "text": [
      "2\n"
     ]
    }
   ],
   "source": [
    "a = 1\n",
    "def vartest():\n",
    "    global a\n",
    "    a = a + 1\n",
    "\n",
    "vartest()\n",
    "print(a)"
   ]
  },
  {
   "cell_type": "code",
   "execution_count": 1,
   "metadata": {},
   "outputs": [
    {
     "name": "stdout",
     "output_type": "stream",
     "text": [
      "7\n"
     ]
    }
   ],
   "source": [
    "add = lambda a, b: a+b\n",
    "result = add(3, 4)\n",
    "print(result)"
   ]
  },
  {
   "cell_type": "code",
   "execution_count": 4,
   "metadata": {},
   "outputs": [
    {
     "name": "stdout",
     "output_type": "stream",
     "text": [
      "1번 계산기\n",
      "3\n",
      "7\n",
      "0\n",
      "2번 계산기\n",
      "3\n",
      "10\n"
     ]
    }
   ],
   "source": [
    "class Calculator:\n",
    "    def __init__(self):\n",
    "        self.result = 0\n",
    "        \n",
    "    def add(self, num):\n",
    "        self.result += num\n",
    "        return self.result\n",
    "    \n",
    "    def sub(self, num):\n",
    "        self.result -= num\n",
    "        return self.result\n",
    "    \n",
    "cal1 = Calculator()\n",
    "cal2 = Calculator()\n",
    "\n",
    "print(\"1번 계산기\")\n",
    "print(cal1.add(3))\n",
    "print(cal1.add(4))\n",
    "print(cal1.sub(7))\n",
    "\n",
    "print(\"2번 계산기\")\n",
    "print(cal2.add(3))\n",
    "print(cal2.add(7))"
   ]
  },
  {
   "cell_type": "code",
   "execution_count": 5,
   "metadata": {},
   "outputs": [
    {
     "name": "stdout",
     "output_type": "stream",
     "text": [
      "\n",
      "FourCalc()\n",
      "4 2\n",
      "6\n",
      "8\n",
      "2\n",
      "2.0\n",
      "\n",
      "MoreFourCalc()\n",
      "3 3\n",
      "6\n",
      "9\n",
      "0\n",
      "1.0\n",
      "27\n",
      "\n",
      "SafeFourCalc()\n",
      "0\n"
     ]
    }
   ],
   "source": [
    "class FourCalc:\n",
    "    def __init__(self, first, second):\n",
    "        self.first = first\n",
    "        self.second = second\n",
    "    \n",
    "    def setdata(self, first, second):\n",
    "        self.first = first\n",
    "        self.second = second\n",
    "        \n",
    "    def add(self):\n",
    "        result = self.first + self.second\n",
    "        return result\n",
    "    \n",
    "    def mul(self):\n",
    "        result = self.first * self.second\n",
    "        return result\n",
    "    \n",
    "    def sub(self):\n",
    "        result = self.first - self.second\n",
    "        return result\n",
    "    \n",
    "    def div(self):\n",
    "        result = self.first / self.second\n",
    "        return result\n",
    "    \n",
    "class MoreFourCalc(FourCalc):\n",
    "    def pow(self):\n",
    "        result = self.first ** self.second\n",
    "        return result\n",
    "    \n",
    "class SafeFourCalc(FourCalc):\n",
    "    def div(self):\n",
    "        if self.second == 0:\n",
    "            return 0\n",
    "        else:\n",
    "            return self.first / self.second\n",
    "\n",
    "print(\"\\nFourCalc()\")\n",
    "a = FourCalc(4, 2)\n",
    "print(a.first, a.second)\n",
    "print(a.add())\n",
    "print(a.mul())\n",
    "print(a.sub())\n",
    "print(a.div())\n",
    "\n",
    "print(\"\\nMoreFourCalc()\")\n",
    "b = MoreFourCalc(3, 3)\n",
    "print(b.first, b.second)\n",
    "print(b.add())\n",
    "print(b.mul())\n",
    "print(b.sub())\n",
    "print(b.div())\n",
    "print(b.pow())\n",
    "\n",
    "print(\"\\nSafeFourCalc()\")\n",
    "c = SafeFourCalc(4, 0)\n",
    "print(c.div())"
   ]
  },
  {
   "cell_type": "code",
   "execution_count": 7,
   "metadata": {},
   "outputs": [
    {
     "name": "stdout",
     "output_type": "stream",
     "text": [
      "lee\n",
      "lee\n"
     ]
    }
   ],
   "source": [
    "class Family:\n",
    "    lastname = \"lee\"\n",
    "\n",
    "a = Family()\n",
    "\n",
    "print(Family.lastname)\n",
    "print(a.lastname)"
   ]
  },
  {
   "cell_type": "code",
   "execution_count": 5,
   "metadata": {},
   "outputs": [
    {
     "name": "stdout",
     "output_type": "stream",
     "text": [
      "30\n",
      "50\n"
     ]
    }
   ],
   "source": [
    "class Mul:\n",
    "\tdef __init__(self, m):\n",
    "\t\tself.m = m\n",
    "\t\n",
    "\tdef mul(self, n):\n",
    "\t\treturn self.m * n\n",
    "\n",
    "mul3 = Mul(3)\n",
    "mul5 = Mul(5)\n",
    "\n",
    "print(mul3.mul(10))\n",
    "print(mul5.mul(10))\n"
   ]
  },
  {
   "cell_type": "code",
   "execution_count": 1,
   "metadata": {},
   "outputs": [
    {
     "name": "stdout",
     "output_type": "stream",
     "text": [
      "30\n",
      "50\n"
     ]
    }
   ],
   "source": [
    "class Mul:\n",
    "    def __init__(self, m):\n",
    "        self.m = m\n",
    "    \n",
    "    def __call__(self, n):\n",
    "        return self.m * n\n",
    "    \n",
    "if __name__ == \"__main__\":\n",
    "    mul3 = Mul(3)\n",
    "    mul5 = Mul(5)\n",
    "    \n",
    "    print(mul3(10))\n",
    "    print(mul5(10))"
   ]
  },
  {
   "cell_type": "code",
   "execution_count": 1,
   "metadata": {},
   "outputs": [
    {
     "name": "stdout",
     "output_type": "stream",
     "text": [
      "30\n",
      "50\n"
     ]
    }
   ],
   "source": [
    "def mul(m):\n",
    "    def wrapper(n):\n",
    "        return m * n\n",
    "    return wrapper\n",
    "\n",
    "if __name__ == \"__main__\":\n",
    "    mul3 = mul(3)\n",
    "    mul5 = mul(5)\n",
    "    \n",
    "    print(mul3(10))\n",
    "    print(mul5(10))"
   ]
  },
  {
   "cell_type": "markdown",
   "metadata": {},
   "source": [
    "클로저(Closure)는 함수가 정의될 때의 환경을 기억하고, 그 환경에 접근할 수 있는 함수 객체를 말합니다. 클로저는 함수 내부에 정의된 함수가 외부 함수의 변수에 접근할 수 있도록 합니다. 클로저는 주로 함수형 프로그래밍에서 사용되며, 상태를 유지하는 데 유용합니다.\n",
    "\n",
    "### 클로저의 구성 요소\n",
    "1. **내부 함수**: 외부 함수 내에 정의된 함수.\n",
    "2. **외부 함수의 변수**: 내부 함수가 참조하는 외부 함수의 변수.\n",
    "3. **환경**: 내부 함수가 외부 함수의 변수를 참조할 수 있는 환경.\n",
    "\n",
    "### 클로저의 예제\n",
    "활성 파일의 예제를 통해 클로저를 설명하겠습니다:\n",
    "\n"
   ]
  },
  {
   "cell_type": "code",
   "execution_count": null,
   "metadata": {},
   "outputs": [],
   "source": [
    "def multiplier(m):\n",
    "    def inner(n):\n",
    "        return m * n\n",
    "    return inner\n",
    "\n",
    "# 클로저 생성\n",
    "mul3 = multiplier(3)\n",
    "mul5 = multiplier(5)\n",
    "\n",
    "# 클로저 사용\n",
    "print(mul3(10))  # 출력: 30\n",
    "print(mul5(10))  # 출력: 50"
   ]
  },
  {
   "cell_type": "markdown",
   "metadata": {},
   "source": [
    "\n",
    "\n",
    "### 예제 설명\n",
    "1. **외부 함수**: `multiplier(m)` 함수는 인자 [`m`](command:_github.copilot.openSymbolFromReferences?%5B%22%22%2C%5B%7B%22uri%22%3A%7B%22scheme%22%3A%22vscode-notebook-cell%22%2C%22authority%22%3A%22%22%2C%22path%22%3A%22%2Fc%3A%2FUsers%2FAndy%2FDocuments%2F%EB%8C%80%ED%95%99%EC%83%9D%ED%99%9C%2F2%ED%95%99%EB%85%84%202%ED%95%99%EA%B8%B0%2F%EA%B3%A0%EA%B8%89python%ED%94%84%EB%A1%9C%EA%B7%B8%EB%9E%98%EB%B0%8D%2Fplayground%2Fplayground.ipynb%22%2C%22query%22%3A%22%22%2C%22fragment%22%3A%22X10sZmlsZQ%3D%3D%22%7D%2C%22pos%22%3A%7B%22line%22%3A2%2C%22character%22%3A15%7D%7D%5D%2C%225fb66eee-7972-4a25-8764-a9c9ed64fd54%22%5D \"Go to definition\")을 받아 내부 함수 `inner(n)`를 정의하고 반환합니다.\n",
    "2. **내부 함수**: `inner(n)` 함수는 외부 함수의 변수 [`m`](command:_github.copilot.openSymbolFromReferences?%5B%22%22%2C%5B%7B%22uri%22%3A%7B%22scheme%22%3A%22vscode-notebook-cell%22%2C%22authority%22%3A%22%22%2C%22path%22%3A%22%2Fc%3A%2FUsers%2FAndy%2FDocuments%2F%EB%8C%80%ED%95%99%EC%83%9D%ED%99%9C%2F2%ED%95%99%EB%85%84%202%ED%95%99%EA%B8%B0%2F%EA%B3%A0%EA%B8%89python%ED%94%84%EB%A1%9C%EA%B7%B8%EB%9E%98%EB%B0%8D%2Fplayground%2Fplayground.ipynb%22%2C%22query%22%3A%22%22%2C%22fragment%22%3A%22X10sZmlsZQ%3D%3D%22%7D%2C%22pos%22%3A%7B%22line%22%3A2%2C%22character%22%3A15%7D%7D%5D%2C%225fb66eee-7972-4a25-8764-a9c9ed64fd54%22%5D \"Go to definition\")을 참조하여 [`m * n`](command:_github.copilot.openSymbolFromReferences?%5B%22%22%2C%5B%7B%22uri%22%3A%7B%22scheme%22%3A%22vscode-notebook-cell%22%2C%22authority%22%3A%22%22%2C%22path%22%3A%22%2Fc%3A%2FUsers%2FAndy%2FDocuments%2F%EB%8C%80%ED%95%99%EC%83%9D%ED%99%9C%2F2%ED%95%99%EB%85%84%202%ED%95%99%EA%B8%B0%2F%EA%B3%A0%EA%B8%89python%ED%94%84%EB%A1%9C%EA%B7%B8%EB%9E%98%EB%B0%8D%2Fplayground%2Fplayground.ipynb%22%2C%22query%22%3A%22%22%2C%22fragment%22%3A%22X10sZmlsZQ%3D%3D%22%7D%2C%22pos%22%3A%7B%22line%22%3A2%2C%22character%22%3A15%7D%7D%5D%2C%225fb66eee-7972-4a25-8764-a9c9ed64fd54%22%5D \"Go to definition\")을 반환합니다.\n",
    "3. **클로저 생성**: `multiplier(3)`와 `multiplier(5)`를 호출하여 각각 [`m`](command:_github.copilot.openSymbolFromReferences?%5B%22%22%2C%5B%7B%22uri%22%3A%7B%22scheme%22%3A%22vscode-notebook-cell%22%2C%22authority%22%3A%22%22%2C%22path%22%3A%22%2Fc%3A%2FUsers%2FAndy%2FDocuments%2F%EB%8C%80%ED%95%99%EC%83%9D%ED%99%9C%2F2%ED%95%99%EB%85%84%202%ED%95%99%EA%B8%B0%2F%EA%B3%A0%EA%B8%89python%ED%94%84%EB%A1%9C%EA%B7%B8%EB%9E%98%EB%B0%8D%2Fplayground%2Fplayground.ipynb%22%2C%22query%22%3A%22%22%2C%22fragment%22%3A%22X10sZmlsZQ%3D%3D%22%7D%2C%22pos%22%3A%7B%22line%22%3A2%2C%22character%22%3A15%7D%7D%5D%2C%225fb66eee-7972-4a25-8764-a9c9ed64fd54%22%5D \"Go to definition\")이 3과 5인 클로저를 생성합니다.\n",
    "4. **클로저 사용**: 생성된 클로저 `mul3`와 `mul5`를 호출하여 결과를 출력합니다.\n",
    "\n",
    "### 클로저의 장점\n",
    "1. **상태 유지**: 클로저는 외부 함수의 변수를 기억하고, 상태를 유지할 수 있습니다.\n",
    "2. **데이터 은닉**: 클로저를 사용하면 외부 함수의 변수를 외부에서 직접 접근할 수 없도록 은닉할 수 있습니다.\n",
    "3. **함수형 프로그래밍**: 클로저는 함수형 프로그래밍에서 중요한 역할을 하며, 고차 함수와 함께 사용됩니다.\n",
    "\n",
    "### 클로저의 활용 예\n",
    "클로저는 주로 콜백 함수, 이벤트 핸들러, 데코레이터 등에서 사용됩니다. 다음은 클로저를 사용하여 간단한 카운터를 구현한 예제입니다:\n",
    "\n"
   ]
  },
  {
   "cell_type": "code",
   "execution_count": null,
   "metadata": {},
   "outputs": [],
   "source": [
    "def make_counter():\n",
    "    count = 0\n",
    "    def counter():\n",
    "        nonlocal count\n",
    "        count += 1\n",
    "        return count\n",
    "    return counter\n",
    "\n",
    "# 클로저 생성\n",
    "counter = make_counter()\n",
    "\n",
    "# 클로저 사용\n",
    "print(counter())  # 출력: 1\n",
    "print(counter())  # 출력: 2\n",
    "print(counter())  # 출력: 3"
   ]
  },
  {
   "cell_type": "markdown",
   "metadata": {},
   "source": [
    "\n",
    "\n",
    "이 예제에서 `make_counter` 함수는 `count` 변수를 유지하는 클로저를 생성합니다. `counter` 함수는 `count` 변수를 증가시키고 반환합니다. `nonlocal` 키워드는 내부 함수에서 외부 함수의 변수를 수정할 수 있도록 합니다.\n",
    "\n",
    "이와 같이 클로저는 상태를 유지하고, 데이터 은닉을 제공하며, 함수형 프로그래밍에서 중요한 역할을 합니다."
   ]
  },
  {
   "cell_type": "code",
   "execution_count": 1,
   "metadata": {},
   "outputs": [
    {
     "name": "stdout",
     "output_type": "stream",
     "text": [
      "함수가 실행됩니다.\n",
      "함수 수행시간: 0.0 초\n"
     ]
    }
   ],
   "source": [
    "import time\n",
    "\n",
    "def elapsed(original_func):\t\t\t# 기존 함수를 인수로 받는다.\n",
    "    def wrapper():\n",
    "        start = time.time()\n",
    "        result = original_func()\t# 기존 함수를 수행한다.\n",
    "        end = time.time()\n",
    "        \n",
    "        print(f\"함수 수행시간: {end - start} 초\")\t# 기존 함수의 수행시간 출력\n",
    "        \n",
    "        return result\t\t\t\t# 기존 함수의 수행 결과 리턴\n",
    "    return wrapper\n",
    "\n",
    "def myfunc():\n",
    "    print(\"함수가 실행됩니다.\")\n",
    "\n",
    "decorated_myfunc = elapsed(myfunc)\n",
    "decorated_myfunc()"
   ]
  },
  {
   "cell_type": "code",
   "execution_count": 3,
   "metadata": {},
   "outputs": [
    {
     "name": "stdout",
     "output_type": "stream",
     "text": [
      "함수가 실행됩니다.\n",
      "함수 수행시간: 0.0 초\n"
     ]
    }
   ],
   "source": [
    "import time\n",
    "\n",
    "def elapsed(original_func):\t\t\t# 기존 함수를 인수로 받는다.\n",
    "    def wrapper():\n",
    "        start = time.time()\n",
    "        result = original_func()\t# 기존 함수를 수행한다.\n",
    "        end = time.time()\n",
    "        \n",
    "        print(f\"함수 수행시간: {end - start} 초\")\t# 기존 함수의 수행시간 출력\n",
    "        \n",
    "        return result\t\t\t\t# 기존 함수의 수행 결과 리턴\n",
    "    return wrapper\n",
    "\n",
    "@elapsed\n",
    "def myfunc():\n",
    "    print(\"함수가 실행됩니다.\")\n",
    "\n",
    "myfunc()"
   ]
  },
  {
   "cell_type": "code",
   "execution_count": 6,
   "metadata": {},
   "outputs": [
    {
     "name": "stdout",
     "output_type": "stream",
     "text": [
      "'You need python'을 출력합니다.\n",
      "함수 수행시간: 0.0010101795196533203 초\n"
     ]
    }
   ],
   "source": [
    "import time\n",
    "\n",
    "def elapsed(original_func):\t\t\t# 기존 함수를 인수로 받는다.\n",
    "    def wrapper(*args, **kwargs):\n",
    "        start = time.time()\n",
    "        result = original_func(*args, **kwargs)\t# 기존 함수를 수행한다.\n",
    "        end = time.time()\n",
    "        \n",
    "        print(f\"함수 수행시간: {end - start} 초\")\t# 기존 함수의 수행시간 출력\n",
    "        \n",
    "        return result\t\t\t\t# 기존 함수의 수행 결과 리턴\n",
    "    return wrapper\n",
    "\n",
    "@elapsed\n",
    "def myfunc(msg):\n",
    "    print(f\"'{msg}'을 출력합니다.\")\n",
    "\n",
    "myfunc(\"You need python\")"
   ]
  },
  {
   "cell_type": "markdown",
   "metadata": {},
   "source": [
    "- 이터레이터는 next 함수 호출 시 계속 그다음 값을 리턴하는 객체이다.\n",
    "- 이터레이터는 for 문을 이용하여 반복하고 난 후에는 다시 반복하더라도 더는 그 값을 가져오지 못한다. 즉, for 문이나 next 로 그 값을 한 번 읽으면 그 값을 다시는 읽을 수 없다는 특징이 있다."
   ]
  },
  {
   "cell_type": "code",
   "execution_count": 11,
   "metadata": {},
   "outputs": [
    {
     "name": "stdout",
     "output_type": "stream",
     "text": [
      "1\n",
      "2\n",
      "3\n"
     ]
    }
   ],
   "source": [
    "a = [1, 2, 3]\n",
    "ia = iter(a)\n",
    "print(type(ia))\n",
    "\n",
    "print(next(ia))\n",
    "print(next(ia))\n",
    "print(next(ia))"
   ]
  },
  {
   "cell_type": "code",
   "execution_count": 13,
   "metadata": {},
   "outputs": [
    {
     "name": "stdout",
     "output_type": "stream",
     "text": [
      "1\n",
      "2\n",
      "3\n"
     ]
    }
   ],
   "source": [
    "a = [1, 2, 3]\n",
    "ia = iter(a)\n",
    "\n",
    "for i in ia:\n",
    "    print(i)\n",
    "\n",
    "for i in ia:\n",
    "    print(i)"
   ]
  },
  {
   "cell_type": "code",
   "execution_count": 14,
   "metadata": {},
   "outputs": [
    {
     "name": "stdout",
     "output_type": "stream",
     "text": [
      "1\n",
      "2\n",
      "3\n"
     ]
    }
   ],
   "source": [
    "class MyIterator:\n",
    "    def __init__(self, data):\n",
    "        self.data = data\n",
    "        self.position = 0\n",
    "    \n",
    "    def __iter__(self):\n",
    "        return self\n",
    "    \n",
    "    def __next__(self):\n",
    "        if self.position >= len(self.data):\n",
    "            raise StopIteration\n",
    "        \n",
    "        result = self.data[self.position]\n",
    "        \n",
    "        self.position += 1\n",
    "        \n",
    "        return result\n",
    "    \n",
    "if __name__ == \"__main__\":\n",
    "    i = MyIterator([1, 2, 3])\n",
    "    \n",
    "    for item in i:\n",
    "        print(item)"
   ]
  },
  {
   "cell_type": "code",
   "execution_count": 15,
   "metadata": {},
   "outputs": [
    {
     "name": "stdout",
     "output_type": "stream",
     "text": [
      "3\n",
      "2\n",
      "1\n"
     ]
    }
   ],
   "source": [
    "class ReverseIterator:\n",
    "    def __init__(self, data):\n",
    "        self.data = data\n",
    "        self.position = len(self.data) -1\n",
    "        \n",
    "    def __iter__(self):\n",
    "        return self\n",
    "    \n",
    "    def __next__(self):\n",
    "        if self.position < 0:\n",
    "            raise StopIteration\n",
    "        \n",
    "        result = self.data[self.position]\n",
    "        \n",
    "        self.position -= 1\n",
    "        \n",
    "        return result\n",
    "    \n",
    "if __name__ == \"__main__\":\n",
    "    i = ReverseIterator([1, 2, 3])\n",
    "    \n",
    "    for item in i:\n",
    "        print(item)"
   ]
  },
  {
   "cell_type": "code",
   "execution_count": 21,
   "metadata": {},
   "outputs": [
    {
     "name": "stdout",
     "output_type": "stream",
     "text": [
      "<class 'generator'>\n",
      "a\n",
      "b\n",
      "c\n"
     ]
    }
   ],
   "source": [
    "def mygen():\n",
    "    yield 'a'\n",
    "    yield 'b'\n",
    "    yield 'c'\n",
    "\n",
    "g = mygen()\n",
    "print(type(g))\n",
    "\n",
    "print(next(g))\n",
    "print(next(g))\n",
    "print(next(g))"
   ]
  },
  {
   "cell_type": "code",
   "execution_count": 22,
   "metadata": {},
   "outputs": [
    {
     "name": "stdout",
     "output_type": "stream",
     "text": [
      "1\n",
      "4\n",
      "9\n"
     ]
    }
   ],
   "source": [
    "def mygen():\n",
    "    for i in range(1, 1000):\n",
    "        result = i * i\n",
    "        yield result\n",
    "\n",
    "gen = mygen()\n",
    "\n",
    "print(next(gen))\n",
    "print(next(gen))\n",
    "print(next(gen))"
   ]
  },
  {
   "cell_type": "code",
   "execution_count": 23,
   "metadata": {},
   "outputs": [
    {
     "name": "stdout",
     "output_type": "stream",
     "text": [
      "1\n",
      "4\n",
      "9\n"
     ]
    }
   ],
   "source": [
    "gen = (i * i for i in range(1, 1000))\n",
    "\n",
    "print(next(gen))\n",
    "print(next(gen))\n",
    "print(next(gen))"
   ]
  },
  {
   "cell_type": "code",
   "execution_count": null,
   "metadata": {},
   "outputs": [],
   "source": [
    "generator = (i * i for i in range(1, 1000))\n",
    "\n",
    "# is equivalent to\n",
    "class MyIterator:\n",
    "    def __init__(self):\n",
    "        self.data = 1\n",
    "        \n",
    "    def __iter__(self):\n",
    "        return self\n",
    "    \n",
    "    def __next__(self):\n",
    "        result = self.data * self.data\n",
    "        self.data += 1\n",
    "        \n",
    "        if self.data >= 1000:\n",
    "            raise StopIteration\t\n",
    "        \n",
    "        return result"
   ]
  },
  {
   "cell_type": "code",
   "execution_count": 25,
   "metadata": {},
   "outputs": [
    {
     "name": "stdout",
     "output_type": "stream",
     "text": [
      "job start\n",
      "job start\n",
      "job start\n",
      "job start\n",
      "job start\n",
      "done\n"
     ]
    }
   ],
   "source": [
    "import time\n",
    "\n",
    "def longtime_job():\n",
    "    print(\"job start\")\n",
    "    time.sleep(1)\n",
    "    \n",
    "    return \"done\"\n",
    "\n",
    "list_job = [longtime_job() for i in range(5)]\n",
    "print(list_job[0])"
   ]
  },
  {
   "cell_type": "code",
   "execution_count": 26,
   "metadata": {},
   "outputs": [
    {
     "name": "stdout",
     "output_type": "stream",
     "text": [
      "job start\n",
      "done\n"
     ]
    }
   ],
   "source": [
    "import time\n",
    "\n",
    "def longtime_job():\n",
    "    print(\"job start\")\n",
    "    time.sleep(1)\n",
    "    \n",
    "    return \"done\"\n",
    "\n",
    "list_job = (longtime_job() for i in range(5))\n",
    "print(next(list_job))"
   ]
  }
 ],
 "metadata": {
  "kernelspec": {
   "display_name": "base",
   "language": "python",
   "name": "python3"
  },
  "language_info": {
   "codemirror_mode": {
    "name": "ipython",
    "version": 3
   },
   "file_extension": ".py",
   "mimetype": "text/x-python",
   "name": "python",
   "nbconvert_exporter": "python",
   "pygments_lexer": "ipython3",
   "version": "3.12.4"
  }
 },
 "nbformat": 4,
 "nbformat_minor": 2
}
