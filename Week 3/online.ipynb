{
 "cells": [
  {
   "cell_type": "markdown",
   "metadata": {},
   "source": [
    "# 조건문 & 반복문"
   ]
  },
  {
   "cell_type": "code",
   "execution_count": 1,
   "metadata": {},
   "outputs": [
    {
     "name": "stdout",
     "output_type": "stream",
     "text": [
      "Tell me your age?\n",
      "Welcome to the club.\n"
     ]
    }
   ],
   "source": [
    "print(\"Tell me your age?\")\n",
    "myAge = int(input())\n",
    "\n",
    "if myAge < 30 :\n",
    "  print(\"Welcome to the club.\")\n",
    "else:\n",
    "  print(\"Oh! No. You are not accepted\")"
   ]
  },
  {
   "cell_type": "code",
   "execution_count": 3,
   "metadata": {},
   "outputs": [
    {
     "name": "stdout",
     "output_type": "stream",
     "text": [
      "True\n"
     ]
    }
   ],
   "source": [
    "a = 100\n",
    "b = 100\n",
    "print(a is b)"
   ]
  },
  {
   "cell_type": "code",
   "execution_count": 4,
   "metadata": {},
   "outputs": [
    {
     "name": "stdout",
     "output_type": "stream",
     "text": [
      "False\n"
     ]
    }
   ],
   "source": [
    "a = 1000\n",
    "b = 1000\n",
    "print(a is b)"
   ]
  },
  {
   "cell_type": "code",
   "execution_count": 6,
   "metadata": {},
   "outputs": [
    {
     "name": "stdout",
     "output_type": "stream",
     "text": [
      "당신이 태어난 연도를 입력하세요.\n",
      "대학생\n"
     ]
    }
   ],
   "source": [
    "print(\"당신이 태어난 연도를 입력하세요.\")\n",
    "birthYear = input()\n",
    "age = 2024 - int(birthYear) + 1\n",
    "\n",
    "if age <= 26 and age >= 20:\n",
    "  print(\"대학생\")\n",
    "elif age < 20 and age >= 17:\n",
    "  print(\"고등학생\")\n",
    "elif age < 17 and age >= 14:\n",
    "  print(\"중학생\")\n",
    "elif age < 14 and age >= 8:\n",
    "  print(\"초등학생\")\n",
    "else:\n",
    "  print(\"학생이 아닙니다.\")"
   ]
  },
  {
   "cell_type": "code",
   "execution_count": 1,
   "metadata": {},
   "outputs": [
    {
     "name": "stdout",
     "output_type": "stream",
     "text": [
      "0\n",
      "1\n",
      "2\n",
      "3\n",
      "4\n",
      "5\n",
      "6\n",
      "7\n",
      "8\n",
      "9\n",
      "반복문 종료\n"
     ]
    }
   ],
   "source": [
    "for i in range(10):\n",
    "  print(i)\n",
    "else:\n",
    "  print(\"반복문 종료\")"
   ]
  },
  {
   "cell_type": "code",
   "execution_count": 2,
   "metadata": {},
   "outputs": [
    {
     "name": "stdout",
     "output_type": "stream",
     "text": [
      "구구단 몇 단을 계산할까?\n",
      "구구단 5단을 계산한다.\n",
      "5 * 1 = 5\n",
      "5 * 2 = 10\n",
      "5 * 3 = 15\n",
      "5 * 4 = 20\n",
      "5 * 5 = 25\n",
      "5 * 6 = 30\n",
      "5 * 7 = 35\n",
      "5 * 8 = 40\n",
      "5 * 9 = 45\n"
     ]
    }
   ],
   "source": [
    "print(\"구구단 몇 단을 계산할까?\")\n",
    "n = int(input())\n",
    "\n",
    "print(f\"구구단 {n}단을 계산한다.\")\n",
    "\n",
    "for i in range(1, 10):\n",
    "  print(f\"{n} * {i} = {n * i}\")"
   ]
  },
  {
   "cell_type": "code",
   "execution_count": 12,
   "metadata": {},
   "outputs": [
    {
     "name": "stdout",
     "output_type": "stream",
     "text": [
      "uoY evoL I \n"
     ]
    }
   ],
   "source": [
    "sentence = 'I Love You'\n",
    "reverse_sentence = ' '\n",
    "\n",
    "for char in sentence:\n",
    "  reverse_sentence = char + reverse_sentence\n",
    "  \n",
    "print(reverse_sentence)"
   ]
  },
  {
   "cell_type": "code",
   "execution_count": 13,
   "metadata": {},
   "outputs": [
    {
     "name": "stdout",
     "output_type": "stream",
     "text": [
      "1010 \n"
     ]
    }
   ],
   "source": [
    "decimal = 10\n",
    "result = ' '\n",
    "\n",
    "while decimal > 0:\n",
    "  remainder = decimal % 2\n",
    "  decimal = decimal // 2\n",
    "  result = str(remainder) + result\n",
    "  \n",
    "print(result)"
   ]
  },
  {
   "cell_type": "code",
   "execution_count": 15,
   "metadata": {},
   "outputs": [
    {
     "name": "stdout",
     "output_type": "stream",
     "text": [
      "숫자를 맞혀보세요. (1 ~ 100)\n",
      "숫자가 너무 작습니다.\n",
      "숫자가 너무 작습니다.\n",
      "숫자가 너무 작습니다.\n",
      "정답입니다. 입력한 숫자는 80 입니다.\n"
     ]
    }
   ],
   "source": [
    "import random\n",
    "\n",
    "guess_num = random.randint(1, 100)\n",
    "print(\"숫자를 맞혀보세요. (1 ~ 100)\")\n",
    "\n",
    "usr_input = int(input())\n",
    "\n",
    "while(usr_input is not guess_num):\n",
    "  if usr_input > 100:\n",
    "    print(\"숫자 범위는 1 ~ 100 입니다.\")\n",
    "  elif usr_input > guess_num:\n",
    "    print(\"숫자가 너무 큽니다.\")\n",
    "  else:\n",
    "    print(\"숫자가 너무 작습니다.\")\n",
    "  usr_input = int(input())\n",
    "  \n",
    "else:\n",
    "  print(f\"정답입니다. 입력한 숫자는 {usr_input} 입니다.\")"
   ]
  },
  {
   "cell_type": "code",
   "execution_count": 3,
   "metadata": {},
   "outputs": [
    {
     "name": "stdout",
     "output_type": "stream",
     "text": [
      "숫자를 맞혀보세요. (1 ~ 100)\n",
      "올바른 숫자를 입력하세요.\n",
      "숫자가 너무 작습니다.\n",
      "숫자가 너무 작습니다.\n",
      "숫자가 너무 작습니다.\n",
      "숫자 범위는 1 ~ 100 입니다.\n",
      "숫자가 너무 큽니다.\n",
      "숫자가 너무 큽니다.\n",
      "숫자가 너무 큽니다.\n",
      "숫자가 너무 작습니다.\n",
      "숫자가 너무 큽니다.\n",
      "숫자가 너무 큽니다.\n",
      "숫자가 너무 큽니다.\n",
      "올바른 숫자를 입력하세요.\n",
      "숫자가 너무 작습니다.\n",
      "정답입니다! 입력한 숫자는 23 입니다.\n"
     ]
    }
   ],
   "source": [
    "# 일반적인 Python 스타일 코드 by GPT-4o\n",
    "import random\n",
    "\n",
    "guess_num = random.randint(1, 100)\n",
    "print(\"숫자를 맞혀보세요. (1 ~ 100)\")\n",
    "\n",
    "while True:\n",
    "    try:\n",
    "        usr_input = int(input(\"숫자를 입력하세요: \"))\n",
    "\n",
    "        if usr_input > 100 or usr_input < 1:\n",
    "            print(\"숫자 범위는 1 ~ 100 입니다.\")\n",
    "        elif usr_input > guess_num:\n",
    "            print(\"숫자가 너무 큽니다.\")\n",
    "        elif usr_input < guess_num:\n",
    "            print(\"숫자가 너무 작습니다.\")\n",
    "        else:\n",
    "            print(f\"정답입니다! 입력한 숫자는 {usr_input} 입니다.\")\n",
    "            break\n",
    "    except ValueError:\n",
    "        print(\"올바른 숫자를 입력하세요.\")\n"
   ]
  },
  {
   "cell_type": "code",
   "execution_count": 5,
   "metadata": {},
   "outputs": [
    {
     "name": "stderr",
     "output_type": "stream",
     "text": [
      "<>:4: SyntaxWarning: \"is not\" with 'int' literal. Did you mean \"!=\"?\n",
      "<>:4: SyntaxWarning: \"is not\" with 'int' literal. Did you mean \"!=\"?\n",
      "<>:4: SyntaxWarning: \"is not\" with 'int' literal. Did you mean \"!=\"?\n",
      "<>:4: SyntaxWarning: \"is not\" with 'int' literal. Did you mean \"!=\"?\n",
      "C:\\Users\\Andy\\AppData\\Local\\Temp\\ipykernel_13136\\3009393933.py:4: SyntaxWarning: \"is not\" with 'int' literal. Did you mean \"!=\"?\n",
      "  while (x is not 0):\n",
      "C:\\Users\\Andy\\AppData\\Local\\Temp\\ipykernel_13136\\3009393933.py:4: SyntaxWarning: \"is not\" with 'int' literal. Did you mean \"!=\"?\n",
      "  while (x is not 0):\n"
     ]
    },
    {
     "name": "stdout",
     "output_type": "stream",
     "text": [
      "구구단 몇 단을 계산할까요? (1 ~ 9단, 종료시 0)\n",
      "구구단 1단을 계산합니다.\n",
      "1 * 1 = 1\n",
      "1 * 2 = 2\n",
      "1 * 3 = 3\n",
      "1 * 4 = 4\n",
      "1 * 5 = 5\n",
      "1 * 6 = 6\n",
      "1 * 7 = 7\n",
      "1 * 8 = 8\n",
      "1 * 9 = 9\n",
      "구구단 몇 단을 계산할까요? (1 ~ 9단, 종료시 0)\n",
      "구구단 2단을 계산합니다.\n",
      "2 * 1 = 2\n",
      "2 * 2 = 4\n",
      "2 * 3 = 6\n",
      "2 * 4 = 8\n",
      "2 * 5 = 10\n",
      "2 * 6 = 12\n",
      "2 * 7 = 14\n",
      "2 * 8 = 16\n",
      "2 * 9 = 18\n",
      "구구단 몇 단을 계산할까요? (1 ~ 9단, 종료시 0)\n",
      "구구단 게임을 종료합니다.\n"
     ]
    }
   ],
   "source": [
    "print(\"구구단 몇 단을 계산할까요? (1 ~ 9단, 종료시 0)\")\n",
    "\n",
    "x = 1\n",
    "\n",
    "# 0과 같은 정수는 값 자체를 비교하는 것이 일반적이므로, is가 아니라 !=를 사용해야 합니다.\n",
    "while (x is not 0):\n",
    "  x = int(input())\n",
    "  \n",
    "  if x == 0:\n",
    "    break\n",
    "  \n",
    "  if not(1 <= x <= 9):\n",
    "    print(\"잘못 입력했습니다. 1부터 9 사이의 숫자를 입력하세요.\")\n",
    "    continue\n",
    "  \n",
    "  else:\n",
    "    print(f\"구구단 {x}단을 계산합니다.\")\n",
    "    for i in range(1, 10):\n",
    "      print(f\"{x} * {i} = {x * i}\")\n",
    "    print(\"구구단 몇 단을 계산할까요? (1 ~ 9단, 종료시 0)\")\n",
    "\n",
    "print(\"구구단 게임을 종료합니다.\")"
   ]
  },
  {
   "cell_type": "code",
   "execution_count": 6,
   "metadata": {},
   "outputs": [
    {
     "name": "stdout",
     "output_type": "stream",
     "text": [
      "구구단 몇 단을 계산할까요? (1 ~ 9단, 종료시 0)\n",
      "잘못 입력했습니다. 1부터 9 사이의 숫자를 입력하세요.\n",
      "구구단 7단을 계산합니다.\n",
      "7 * 1 = 7\n",
      "7 * 2 = 14\n",
      "7 * 3 = 21\n",
      "7 * 4 = 28\n",
      "7 * 5 = 35\n",
      "7 * 6 = 42\n",
      "7 * 7 = 49\n",
      "7 * 8 = 56\n",
      "7 * 9 = 63\n",
      "구구단 몇 단을 계산할까요? (1 ~ 9단, 종료시 0)\n",
      "구구단 게임을 종료합니다.\n"
     ]
    }
   ],
   "source": [
    "# 일반적인 Python 스타일 코드 by GPT-4o\n",
    "def gugudan():\n",
    "    print(\"구구단 몇 단을 계산할까요? (1 ~ 9단, 종료시 0)\")\n",
    "\n",
    "    while True:\n",
    "        try:\n",
    "            x = int(input(\"단을 입력하세요: \"))\n",
    "            \n",
    "            if x == 0:\n",
    "                print(\"구구단 게임을 종료합니다.\")\n",
    "                break\n",
    "\n",
    "            if not (1 <= x <= 9):\n",
    "                print(\"잘못 입력했습니다. 1부터 9 사이의 숫자를 입력하세요.\")\n",
    "                continue\n",
    "\n",
    "            print(f\"구구단 {x}단을 계산합니다.\")\n",
    "            for i in range(1, 10):\n",
    "                print(f\"{x} * {i} = {x * i}\")\n",
    "                \n",
    "        except ValueError:\n",
    "            print(\"숫자를 입력해 주세요.\")\n",
    "            \n",
    "        print(\"구구단 몇 단을 계산할까요? (1 ~ 9단, 종료시 0)\")\n",
    "\n",
    "# 함수 실행\n",
    "gugudan()\n"
   ]
  },
  {
   "cell_type": "code",
   "execution_count": 1,
   "metadata": {},
   "outputs": [
    {
     "name": "stdout",
     "output_type": "stream",
     "text": [
      "[47.0, 74.0, 51.0, 60.0, 90.0]\n"
     ]
    }
   ],
   "source": [
    "kor_score = [49, 80, 20, 100, 80]\n",
    "math_score = [43, 60, 85, 30, 90]\n",
    "eng_score = [49, 82, 48, 50, 100]\n",
    "midterm_score = [kor_score, math_score, eng_score]\n",
    "\n",
    "student_score = [0, 0, 0, 0, 0]\n",
    "i = 0\n",
    "for subject in midterm_score:\n",
    "  for score in subject:\n",
    "    student_score[i] += score\n",
    "    i += 1\n",
    "  i = 0\n",
    "else:\n",
    "  a, b, c, d, e = student_score\n",
    "  student_average = [a/3, b/3, c/3, d/3, e/3]\n",
    "  print(student_average)"
   ]
  },
  {
   "cell_type": "code",
   "execution_count": 2,
   "metadata": {},
   "outputs": [
    {
     "name": "stdout",
     "output_type": "stream",
     "text": [
      "넓이는: 13.5\n"
     ]
    }
   ],
   "source": [
    "def addition(x, y):\n",
    "  return x + y\n",
    "\n",
    "def divided_by_2(x):\n",
    "  return x / 2\n",
    "\n",
    "def main():\n",
    "  base_line = float(input(\"밑변의 길이는? \"))\n",
    "  upper_edge = float(input(\"윗변의 길이는? \"))\n",
    "  height = float(input(\"높이는? \"))\n",
    "  \n",
    "  print(f\"넓이는: {divided_by_2(addition(base_line, upper_edge)) * height}\")\n",
    "\n",
    "if __name__ == \"__main__\":\n",
    "  main()\n"
   ]
  },
  {
   "cell_type": "markdown",
   "metadata": {},
   "source": [
    "# 함수\n",
    "```python\n",
    "# 매개변수 = parameter (함수에서 입력값으로 사용하는 변수)\n",
    "def 함수명(parameter):\n",
    "  명령문\n",
    "  return 반환값\n",
    "\n",
    "# 인수 = argument (함수를 호출할 때 전달하는 입력값)\n",
    "함수명(argument)\n",
    "```"
   ]
  },
  {
   "cell_type": "code",
   "execution_count": 1,
   "metadata": {},
   "outputs": [
    {
     "name": "stdout",
     "output_type": "stream",
     "text": [
      "사각형 x의 길이: 10\n",
      "사각형 y의 길이: 20\n",
      "사각형의 넓이: 200\n"
     ]
    }
   ],
   "source": [
    "def calculate_rectangle_area(x, y):\n",
    "  return x * y\n",
    "\n",
    "rectangle_x = 10\n",
    "rectangle_y = 20\n",
    "print(f\"사각형 x의 길이: {rectangle_x}\")\n",
    "print(f\"사각형 y의 길이: {rectangle_y}\")\n",
    "\n",
    "# 넓이를 구하는 함수 호출\n",
    "print(f\"사각형의 넓이: {calculate_rectangle_area(rectangle_x, rectangle_y)}\")"
   ]
  },
  {
   "cell_type": "code",
   "execution_count": 2,
   "metadata": {},
   "outputs": [
    {
     "name": "stdout",
     "output_type": "stream",
     "text": [
      "151\n"
     ]
    }
   ],
   "source": [
    "def f(x):\n",
    "  return 2 * x + 7\n",
    "\n",
    "def g(x):\n",
    "  return x ** 2\n",
    "\n",
    "x = 2\n",
    "print(f\"{f(x) + g(x) + f(g(x)) + g(f(x))}\")"
   ]
  },
  {
   "cell_type": "code",
   "execution_count": 4,
   "metadata": {},
   "outputs": [
    {
     "name": "stdout",
     "output_type": "stream",
     "text": [
      "35\n",
      "35\n",
      "35\n",
      "35\n"
     ]
    }
   ],
   "source": [
    "# 매개변수 x, 반환값 x\n",
    "def a_rectangle_area():\n",
    "  print(5 * 7)\n",
    "\n",
    "# 매개변수 o, 반환값 x\n",
    "def b_rectangle_area(x, y):\n",
    "  print(x * y)\n",
    "\n",
    "# 매개변수 x, 반환값 o\n",
    "def c_rectangle_area():\n",
    "  return 5 * 7\n",
    "\n",
    "# 매개변수 o, 반환값 o\n",
    "def d_rectangle_area(x, y):\n",
    "  return x * y\n",
    "\n",
    "a_rectangle_area()\n",
    "b_rectangle_area(5, 7)\n",
    "print(c_rectangle_area())\n",
    "print(d_rectangle_area(5, 7))"
   ]
  },
  {
   "cell_type": "markdown",
   "metadata": {},
   "source": [
    "## 함수가 변수를 호출하는 방식\n",
    "프로그래밍 언어에 따라 다름\n",
    "\n",
    "### 값에 의한 호출 (call by value)\n",
    "- 함수에 인수를 넘길 때 `값`만 넘김\n",
    "- 함수 내부의 인수값 변경 시, 호출된 변수에 영향을 주지 않음\n",
    "- ex) C언어\n",
    "\n",
    "### 참조 호출 (call by reference)\n",
    "- 함수에 인수를 넘길 때 `메모리 주소`를 넘김\n",
    "- 함수 내부의 인수값 변경 시, 호출된 변수값도 변경됨\n",
    "- ex) C++ 포인터\n",
    "\n",
    "### 객체 호출 (call by object reference)\n",
    "- 함수에 인수를 넘길 때 `객체의 주소`를 넘김\n",
    "- Python"
   ]
  },
  {
   "cell_type": "code",
   "execution_count": 5,
   "metadata": {},
   "outputs": [
    {
     "name": "stdout",
     "output_type": "stream",
     "text": [
      "9\n",
      "3\n"
     ]
    }
   ],
   "source": [
    "def f(x):\n",
    "  y = x\n",
    "  x = 5\n",
    "  return y * y\n",
    "\n",
    "x = 3\n",
    "print(f(x))\n",
    "print(x)"
   ]
  },
  {
   "cell_type": "markdown",
   "metadata": {},
   "source": [
    "- 리스트는 가변 객체이므로 함수 내부에서 변경 시, 호출된 변수값도 변경됨\n",
    "- 단, 함수 내부에서 새로운 리스트를 할당하면 호출된 변수값에 영향을 주지 않음"
   ]
  },
  {
   "cell_type": "code",
   "execution_count": 1,
   "metadata": {},
   "outputs": [
    {
     "name": "stdout",
     "output_type": "stream",
     "text": [
      "[0, 1]\n"
     ]
    }
   ],
   "source": [
    "def spam(eggs):\n",
    "  eggs.append(1)\n",
    "  eggs = [2, 3]\n",
    "  \n",
    "ham = [0]\n",
    "spam(ham)\n",
    "print(ham)"
   ]
  },
  {
   "cell_type": "markdown",
   "metadata": {},
   "source": [
    "### 변수의 사용 범위\n",
    "- 지역 변수 (local variable): 함수 내부에서만 사용\n",
    "- 전역 변수 (global variable): 프로그램 전체에서 사용"
   ]
  },
  {
   "cell_type": "code",
   "execution_count": 2,
   "metadata": {},
   "outputs": [
    {
     "name": "stdout",
     "output_type": "stream",
     "text": [
      "10\n",
      "Inside Function: 20\n",
      "In Main: 10\n"
     ]
    },
    {
     "ename": "NameError",
     "evalue": "name 't' is not defined",
     "output_type": "error",
     "traceback": [
      "\u001b[1;31m---------------------------------------------------------------------------\u001b[0m",
      "\u001b[1;31mNameError\u001b[0m                                 Traceback (most recent call last)",
      "Cell \u001b[1;32mIn[2], line 11\u001b[0m\n\u001b[0;32m      8\u001b[0m test(x)\n\u001b[0;32m     10\u001b[0m \u001b[38;5;28mprint\u001b[39m(\u001b[38;5;124mf\u001b[39m\u001b[38;5;124m\"\u001b[39m\u001b[38;5;124mIn Main: \u001b[39m\u001b[38;5;132;01m{\u001b[39;00mx\u001b[38;5;132;01m}\u001b[39;00m\u001b[38;5;124m\"\u001b[39m)\n\u001b[1;32m---> 11\u001b[0m \u001b[38;5;28mprint\u001b[39m(\u001b[38;5;124mf\u001b[39m\u001b[38;5;124m\"\u001b[39m\u001b[38;5;124mIn Main: \u001b[39m\u001b[38;5;132;01m{\u001b[39;00mt\u001b[38;5;132;01m}\u001b[39;00m\u001b[38;5;124m\"\u001b[39m)\n",
      "\u001b[1;31mNameError\u001b[0m: name 't' is not defined"
     ]
    }
   ],
   "source": [
    "def test(t):\n",
    "  print(x)\n",
    "  t = 20\n",
    "  print(f\"In Function: {t}\")\n",
    "  \n",
    "x = 10\n",
    "\n",
    "test(x)\n",
    "\n",
    "print(f\"In Main: {x}\")\n",
    "print(f\"In Main: {t}\")"
   ]
  },
  {
   "cell_type": "code",
   "execution_count": 3,
   "metadata": {},
   "outputs": [
    {
     "name": "stdout",
     "output_type": "stream",
     "text": [
      "I love London!\n",
      "I love Paris!\n"
     ]
    }
   ],
   "source": [
    "def f():\n",
    "  s = \"I love London!\"\n",
    "  print(s)\n",
    "  \n",
    "s = \"I love Paris!\"\n",
    "f()\n",
    "print(s)"
   ]
  },
  {
   "cell_type": "code",
   "execution_count": 4,
   "metadata": {},
   "outputs": [
    {
     "name": "stdout",
     "output_type": "stream",
     "text": [
      "I love London!\n",
      "I love London!\n"
     ]
    }
   ],
   "source": [
    "def f():\n",
    "  global s\n",
    "  s = \"I love London!\"\n",
    "  print(s)\n",
    "  \n",
    "s = \"I love Paris!\"\n",
    "f()\n",
    "print(s)"
   ]
  },
  {
   "cell_type": "code",
   "execution_count": 1,
   "metadata": {},
   "outputs": [
    {
     "name": "stdout",
     "output_type": "stream",
     "text": [
      "In Program - 1\n",
      "a: 5 b: 7 a + b: 12\n",
      "In Function\n",
      "a: 5 b: 7 a + b: 12 total: 12\n",
      "After Calculation\n",
      "Total: 0 Sum: 12\n"
     ]
    }
   ],
   "source": [
    "def calculate(x, y):\n",
    "  total = x + y\n",
    "  print(\"In Function\")\n",
    "  print(f\"a: {str(a)} b: {str(b)} a + b: {str(a + b)} total: {str(total)}\")\n",
    "  return total\n",
    "\n",
    "a = 5 # 전역 변수\n",
    "b = 7 # 전역 변수\n",
    "total = 0 # 전역 변수\n",
    "\n",
    "print(\"In Program - 1\")\n",
    "print(f\"a: {str(a)} b: {str(b)} a + b: {str(a + b)}\")\n",
    "\n",
    "sum = calculate(a, b)\n",
    "print(\"After Calculation\")\n",
    "print(f\"Total: {str(total)} Sum: {str(sum)}\")"
   ]
  },
  {
   "cell_type": "markdown",
   "metadata": {},
   "source": [
    "## 재귀 함수 (recursive function)\n",
    "- 자기 자신을 다시 호출하는 함수\n",
    "- Recursive call: 함수 내부에서 자기 자신을 호출하는 부분, 문제를 자기 자신보다 더 작은 문제로 분할\n",
    "- Base case: 재귀 호출(recursive call)을 멈추는 조건\n",
    "- 메모리 영역 중 스택(stack) 영역 사용\n",
    "- 스택은 용량이 제한적이므로 재귀 호출이 너무 깊어지면 스택 오버플로우가 발생할 수 있음"
   ]
  },
  {
   "cell_type": "code",
   "execution_count": 2,
   "metadata": {},
   "outputs": [
    {
     "name": "stdout",
     "output_type": "stream",
     "text": [
      "120\n"
     ]
    }
   ],
   "source": [
    "def factorial(n):\n",
    "  # Base Case\n",
    "  if n == 1:\n",
    "    return 1\n",
    "  \n",
    "  # Recursive Call\n",
    "  else:\n",
    "    return n * factorial(n - 1)\n",
    "  \n",
    "print(factorial(int(input(\"Input Number for Factorial Calculation: \"))))"
   ]
  },
  {
   "cell_type": "markdown",
   "metadata": {},
   "source": [
    "## 선언과 정의\n",
    "- `선언`: 변수나 함수가 존재한다는 것을 알리고, 형식이나 프로토타입을 제공합니다. 구체적인 내용은 제공하지 않으며, 메모리 할당도 없습니다.\n",
    "- `정의`: 변수나 함수의 구체적인 내용을 제공하고, 실제로 메모리 할당이 이루어집니다. 함수의 경우 구현이 포함됩니다.\n",
    "- Python은 변수나 함수를 **선언하는 개념이 따로 없고**, 변수가 등장하면 곧바로 정의되는 방식으로 작동합니다.\n",
    "## 함수의 인수(argument)\n",
    "- 함수의 입력으로 들어가는 변수의 다양한 형태"
   ]
  },
  {
   "cell_type": "markdown",
   "metadata": {},
   "source": [
    "`키워드 인수`\n",
    "- 함수의 인터페이스에서 지정한 변수명을 사용하여 함수의 인수르 지정하는 방법"
   ]
  },
  {
   "cell_type": "code",
   "execution_count": 5,
   "metadata": {},
   "outputs": [
    {
     "name": "stdout",
     "output_type": "stream",
     "text": [
      "Hello TEAMLAB, my name is Dongmin\n",
      "Hello TEAMLAB, my name is Dongmin\n"
     ]
    }
   ],
   "source": [
    "# 키워드 인수\n",
    "def print_something(my_name, your_name):\n",
    "  print(f\"Hello {your_name}, my name is {my_name}\")\n",
    "  \n",
    "print_something(\"Dongmin\", \"TEAMLAB\")\n",
    "print_something(your_name=\"TEAMLAB\", my_name=\"Dongmin\")"
   ]
  },
  {
   "cell_type": "markdown",
   "metadata": {},
   "source": [
    "`디폴트 인수`\n",
    "- 별도의 인수값이 입력되지 않을 때 인터페이스 선언에서 지정한 초깃값을 사용하는 방법"
   ]
  },
  {
   "cell_type": "code",
   "execution_count": 7,
   "metadata": {},
   "outputs": [
    {
     "name": "stdout",
     "output_type": "stream",
     "text": [
      "Hello TEAMLAB, my name is Dongmin\n",
      "Hello TEAMLAB, my name is Dongmin\n"
     ]
    }
   ],
   "source": [
    "# 디폴트 인수\n",
    "# 주의: 디폴트 인수는 항상 비디폴트 인수 뒤에 나와야 합니다.\n",
    "def print_something_2(my_name, your_name=\"TEAMLAB\"):\n",
    "  print(f\"Hello {your_name}, my name is {my_name}\")\n",
    "\n",
    "print_something_2(\"Dongmin\", \"TEAMLAB\")\n",
    "print_something_2(\"Dongmin\")"
   ]
  },
  {
   "cell_type": "markdown",
   "metadata": {},
   "source": [
    "`가변 인수`\n",
    "- 함수의 인터페이스에서 지정한 고정된 변수 이외의 추가 변수를 함수에 입력할 수 있도록 지원하는 방법\n",
    "- *(asterisk)로 표현\n",
    "- *는 Python에서 기본적으로 곱셈 또는 제곱 연산에 사용되지만, 함수에서 가변 인수를 만들 때도 사용됨\n",
    "- 임의의 개수의 위치 인수를 받을 수 있도록 함\n",
    "- 전달되는 인수는 tuple 형태로 묶임"
   ]
  },
  {
   "cell_type": "code",
   "execution_count": 13,
   "metadata": {},
   "outputs": [
    {
     "name": "stdout",
     "output_type": "stream",
     "text": [
      "15\n"
     ]
    }
   ],
   "source": [
    "# 가변 인수\n",
    "def asterisk_test(a, b, *args):\n",
    "  return a + b + sum(args)\n",
    "\n",
    "print(asterisk_test(1, 2, 3, 4, 5))"
   ]
  },
  {
   "cell_type": "markdown",
   "metadata": {},
   "source": [
    "- `튜플(tuple) 자료형`: 괄호로 묶여 출력되는 자료형 → 리스트 자료형처럼 인덱스로 접근할 수 있는 자료형"
   ]
  },
  {
   "cell_type": "code",
   "execution_count": 14,
   "metadata": {},
   "outputs": [
    {
     "name": "stdout",
     "output_type": "stream",
     "text": [
      "(3, 4, 5)\n",
      "None\n"
     ]
    }
   ],
   "source": [
    "def asterisk_test(a, b, *args):\n",
    "  print(args)\n",
    "\n",
    "print(asterisk_test(1, 2, 3, 4, 5))"
   ]
  },
  {
   "cell_type": "code",
   "execution_count": 15,
   "metadata": {},
   "outputs": [
    {
     "name": "stdout",
     "output_type": "stream",
     "text": [
      "(3, 4, [5])\n"
     ]
    }
   ],
   "source": [
    "def asterisk_test2(*args):\n",
    "  x, y, *z = args\n",
    "  return x, y, z\n",
    "\n",
    "print(asterisk_test2(3, 4, 5))"
   ]
  },
  {
   "cell_type": "code",
   "execution_count": 18,
   "metadata": {},
   "outputs": [
    {
     "name": "stdout",
     "output_type": "stream",
     "text": [
      "(3, 4, [5, 10, 20])\n"
     ]
    }
   ],
   "source": [
    "# *z는 나머지 값들을 모두 모아서 리스트로 저장\n",
    "def asterisk_test2(*args):\n",
    "  x, y, *z = args\n",
    "  return x, y, z\n",
    "\n",
    "print(asterisk_test2(3, 4, 5, 10, 20))"
   ]
  },
  {
   "cell_type": "markdown",
   "metadata": {},
   "source": [
    "`키워드 가변 인수`\n",
    "- 매개변수의 이름을 따로 지정하지 않고 입력하는 방법\n",
    "- 딕셔너리 자료형 변수에 `*`를 2개 붙이면 개별 변수로 풀리면서 함수에 들어갈 수 있음"
   ]
  },
  {
   "cell_type": "code",
   "execution_count": 19,
   "metadata": {},
   "outputs": [
    {
     "name": "stdout",
     "output_type": "stream",
     "text": [
      "{'first': 3, 'second': 4, 'third': 5}\n",
      "First value is 3\n",
      "Second value is 4\n",
      "Third value is 5\n"
     ]
    }
   ],
   "source": [
    "def kwargs_test(**kwargs):\n",
    "  print(kwargs)\n",
    "  print(\"First value is {first}\".format(**kwargs))\n",
    "  print(\"Second value is {second}\".format(**kwargs))\n",
    "  print(\"Third value is {third}\".format(**kwargs))\n",
    "\n",
    "# 여러 개의 키워드 인수를 딕셔너리로 받아서 처리\n",
    "kwargs_test(first=3, second=4, third=5)"
   ]
  },
  {
   "cell_type": "code",
   "execution_count": 20,
   "metadata": {},
   "outputs": [
    {
     "name": "stdout",
     "output_type": "stream",
     "text": [
      "{'first': 3, 'second': 4, 'third': 5}\n",
      "First value is 3\n",
      "Second value is 4\n",
      "Third value is 5\n"
     ]
    }
   ],
   "source": [
    "def kwargs_test(**kwargs):\n",
    "  print(kwargs)\n",
    "  print(f\"First value is {kwargs['first']}\")\n",
    "  print(f\"Second value is {kwargs['second']}\")\n",
    "  print(f\"Third value is {kwargs['third']}\")\n",
    "\n",
    "# 여러 개의 키워드 인수를 딕셔너리로 받아서 처리\n",
    "kwargs_test(first=3, second=4, third=5)"
   ]
  },
  {
   "cell_type": "code",
   "execution_count": 22,
   "metadata": {},
   "outputs": [
    {
     "name": "stdout",
     "output_type": "stream",
     "text": [
      "42\n",
      "{'first': 3, 'second': 4, 'third': 5}\n"
     ]
    }
   ],
   "source": [
    "def kwargs_test(one, two, *args, **kwargs):\n",
    "  print(one + two + sum(args))\n",
    "  print(kwargs)\n",
    "\n",
    "kwargs_test(3, 4, 5, 6, 7, 8, 9, first=3, second=4, third=5)"
   ]
  }
 ],
 "metadata": {
  "kernelspec": {
   "display_name": "base",
   "language": "python",
   "name": "python3"
  },
  "language_info": {
   "codemirror_mode": {
    "name": "ipython",
    "version": 3
   },
   "file_extension": ".py",
   "mimetype": "text/x-python",
   "name": "python",
   "nbconvert_exporter": "python",
   "pygments_lexer": "ipython3",
   "version": "3.12.4"
  }
 },
 "nbformat": 4,
 "nbformat_minor": 2
}
