{
 "cells": [
  {
   "cell_type": "markdown",
   "metadata": {},
   "source": [
    "# NumPy"
   ]
  },
  {
   "cell_type": "code",
   "execution_count": 1,
   "metadata": {},
   "outputs": [],
   "source": [
    "import numpy as np"
   ]
  },
  {
   "cell_type": "code",
   "execution_count": 2,
   "metadata": {},
   "outputs": [],
   "source": [
    "np.random.seed(100)"
   ]
  },
  {
   "cell_type": "code",
   "execution_count": null,
   "metadata": {},
   "outputs": [
    {
     "name": "stdout",
     "output_type": "stream",
     "text": [
      "신장 평균값: 174.92376657195143\n",
      "체중 평균값: 69.82864400475772\n",
      "나이 평균값: 22.67\n",
      "신장 중앙값: 174.83783342882006\n",
      "체중 중앙값: 69.91085728179165\n",
      "나이 중앙값: 24.0\n"
     ]
    }
   ],
   "source": [
    "players = np.zeros((100, 3))\n",
    "players[:, 0] = 10 * np.random.randn(100) + 175\n",
    "players[:, 1] = 10 * np.random.randn(100) + 70\n",
    "players[:, 2] = np.floor(10 * np.random.randn(100)) + 22\n",
    "\n",
    "heights = players[:, 0]\n",
    "weights = players[:, 1]\n",
    "ages = players[:, 2]\n",
    "\n",
    "print(f'신장 평균값: {np.mean(heights)}')\n",
    "print(f'체중 평균값: {np.mean(weights)}')\n",
    "print(f'나이 평균값: {np.mean(ages)}')\n",
    "\n",
    "print(f'신장 중앙값: {np.median(heights)}')\n",
    "print(f'체중 중앙값: {np.median(weights)}')\n",
    "print(f'나이 중앙값: {np.median(ages)}')"
   ]
  },
  {
   "cell_type": "code",
   "execution_count": 7,
   "metadata": {},
   "outputs": [
    {
     "name": "stdout",
     "output_type": "stream",
     "text": [
      "신장 평균값: 175.93715105502463\n",
      "체중 평균값: 68.87610142909654\n",
      "나이 평균값: 24.26\n",
      "신장 중앙값: 175.54000091180853\n",
      "체중 중앙값: 68.13523267931768\n",
      "나이 중앙값: 24.0\n"
     ]
    }
   ],
   "source": [
    "players = np.random.randn(100, 3)\n",
    "players[:, 0] = 175 + 10 * players[:, 0]\n",
    "players[:, 1] = 70 + 10 * players[:, 1]\n",
    "players[:, 2] = np.floor(22 + 10 * players[:, 2])\n",
    "\n",
    "print(f\"신장 평균값: {np.mean(players[:, 0])}\")\n",
    "print(f\"체중 평균값: {np.mean(players[:, 1])}\")\n",
    "print(f\"나이 평균값: {np.mean(players[:, 2])}\")\n",
    "\n",
    "print(f\"신장 중앙값: {np.median(players[:, 0])}\")\n",
    "print(f\"체중 중앙값: {np.median(players[:, 1])}\")\n",
    "print(f\"나이 중앙값: {np.median(players[:, 2])}\")"
   ]
  },
  {
   "cell_type": "code",
   "execution_count": 13,
   "metadata": {},
   "outputs": [
    {
     "name": "stdout",
     "output_type": "stream",
     "text": [
      "Original 3D Array:\n",
      " [[[ 1  2  3]\n",
      "  [ 4  5  6]\n",
      "  [ 7  8  9]\n",
      "  [10 11 12]]\n",
      "\n",
      " [[13 14 15]\n",
      "  [16 17 18]\n",
      "  [19 20 21]\n",
      "  [22 23 24]]\n",
      "\n",
      " [[25 26 27]\n",
      "  [28 29 30]\n",
      "  [31 32 33]\n",
      "  [34 35 36]]]\n",
      "\n",
      "Fancy Indexing Result: \n",
      " [[ 2  5  8 11]\n",
      " [27 30 33 36]]\n"
     ]
    }
   ],
   "source": [
    "import numpy as np\n",
    "\n",
    "# 3차원 배열 생성\n",
    "data = np.arange(1, 37).reshape(3, 4, 3)\n",
    "print(f\"Original 3D Array:\\n {data}\")\n",
    "\n",
    "# Fancy 인덱싱\n",
    "layer_indices = [0, 2]\n",
    "col_indices = [1, 2]\n",
    "print(f\"\\nFancy Indexing Result: \\n {data[layer_indices, :, col_indices]}\")"
   ]
  },
  {
   "cell_type": "markdown",
   "metadata": {},
   "source": [
    "# Pandas"
   ]
  },
  {
   "cell_type": "code",
   "execution_count": null,
   "metadata": {},
   "outputs": [],
   "source": []
  }
 ],
 "metadata": {
  "kernelspec": {
   "display_name": "base",
   "language": "python",
   "name": "python3"
  },
  "language_info": {
   "codemirror_mode": {
    "name": "ipython",
    "version": 3
   },
   "file_extension": ".py",
   "mimetype": "text/x-python",
   "name": "python",
   "nbconvert_exporter": "python",
   "pygments_lexer": "ipython3",
   "version": "3.12.7"
  }
 },
 "nbformat": 4,
 "nbformat_minor": 2
}
