{
 "cells": [
  {
   "cell_type": "markdown",
   "metadata": {},
   "source": [
    "1. 반복 처리의 기초 개념\n",
    "- Iterable 과 Iterator 예시\n",
    "- (Iterable 객체: 반복가능한 객체, Iterator 객체: 값을 순차적으로 반환하는 객체)"
   ]
  },
  {
   "cell_type": "code",
   "execution_count": 5,
   "metadata": {},
   "outputs": [
    {
     "name": "stdout",
     "output_type": "stream",
     "text": [
      "1\n",
      "2\n",
      "3\n",
      "4\n"
     ]
    }
   ],
   "source": [
    "class CustomIterable:\n",
    "  def __init__(self, start, end):\n",
    "    self.start = start\n",
    "    self.end = end\n",
    "    \n",
    "  def __iter__(self):\n",
    "    return CustomIterator(self.start, self.end)\n",
    "    \n",
    "class CustomIterator:\n",
    "  def __init__(self, start, end):\n",
    "    self.current = start\n",
    "    self.end = end\n",
    "    \n",
    "  def __iter__(self):\n",
    "    return self\n",
    "\n",
    "  def __next__(self):\n",
    "    if self.current >= self.end:\n",
    "      raise StopIteration\n",
    "    else:\n",
    "      self.current += 1\n",
    "      return self.current - 1\n",
    "    \n",
    "# CustomIterable을 사용하여 순회하기\n",
    "custom_iterable = CustomIterable(1, 5)\n",
    "\n",
    "for value in custom_iterable:\n",
    "  print(value)"
   ]
  },
  {
   "cell_type": "markdown",
   "metadata": {},
   "source": [
    "- Generator 예시\n",
    "- Generator을 위해서는 `yield` 키워드를 사용해야 한다."
   ]
  },
  {
   "cell_type": "code",
   "execution_count": 4,
   "metadata": {},
   "outputs": [
    {
     "name": "stdout",
     "output_type": "stream",
     "text": [
      "5\n",
      "4\n",
      "3\n",
      "2\n",
      "1\n",
      "Liftoff!\n"
     ]
    }
   ],
   "source": [
    "def countdown(start):\n",
    "  while start > 0:\n",
    "    yield start\n",
    "    start -= 1\n",
    "  yield \"Liftoff!\"\n",
    "  \n",
    "# 제너레이터 사용하기\n",
    "for value in countdown(5):\n",
    "  print(value)"
   ]
  },
  {
   "cell_type": "markdown",
   "metadata": {},
   "source": [
    "2. 메모리 효율적 반복 처리\n",
    "- Lazy Evaluation과 Generator 표현식 예시"
   ]
  },
  {
   "cell_type": "code",
   "execution_count": 14,
   "metadata": {},
   "outputs": [
    {
     "name": "stdout",
     "output_type": "stream",
     "text": [
      "List comprehension memory size: 85176 bytes\n",
      "Generator expression memory size: 200 bytes\n",
      "0\n",
      "1\n",
      "4\n",
      "9\n",
      "16\n",
      "25\n",
      "36\n",
      "49\n",
      "64\n",
      "81\n",
      "100\n"
     ]
    }
   ],
   "source": [
    "import sys\n",
    "\n",
    "# 일반 리스트와 제너레이터 표현식의 메모리 사용 비교\n",
    "list_comprehension = [x * x for x in range(10000)]\n",
    "generator_expression = (x * x for x in range(10000))\n",
    "\n",
    "print(f\"List comprehension memory size: {sys.getsizeof(list_comprehension)} bytes\")\n",
    "print(f\"Generator expression memory size: {sys.getsizeof(generator_expression)} bytes\")\n",
    "\n",
    "# 제너레이터 표현식의 사용 예\n",
    "for value in generator_expression:\n",
    "  if value > 100:\n",
    "    break\n",
    "  \n",
    "  print(value)"
   ]
  },
  {
   "cell_type": "markdown",
   "metadata": {},
   "source": [
    "- Comprehension 예시"
   ]
  },
  {
   "cell_type": "code",
   "execution_count": 15,
   "metadata": {},
   "outputs": [
    {
     "name": "stdout",
     "output_type": "stream",
     "text": [
      "Even squares: [4, 16, 36, 64, 100, 144, 196, 256, 324]\n",
      "Word lengths: {'apple': 5, 'banana': 6, 'cherry': 6, 'date': 4}\n",
      "Unique squares: {1, 4, 9, 16, 25}\n"
     ]
    }
   ],
   "source": [
    "# 리스트 컴프리헨션을 사용하여 짝수만 필터링하고 제곱 계산\n",
    "numbers = range(1, 20)\n",
    "even_squares = [x ** 2 for x in numbers if x % 2 == 0]\n",
    "print(f\"Even squares: {even_squares}\")\n",
    "\n",
    "# 딕셔너리 컴프리헨션으로 문자열 길이를 키로 하는 딕셔너리 생성\n",
    "words = [\"apple\", \"banana\", \"cherry\", \"date\"]\n",
    "word_lengths = {word: len(word) for word in words}\n",
    "print(f\"Word lengths: {word_lengths}\")\n",
    "\n",
    "# 세트 컴프리헨션으로 중복 제거\n",
    "duplicates = [1, 2, 3, 4, 4, 5]\n",
    "unique_squares = {x ** 2 for x in duplicates}\n",
    "print(f\"Unique squares: {unique_squares}\")"
   ]
  },
  {
   "cell_type": "markdown",
   "metadata": {},
   "source": [
    "- map(), filter(), reduce() 함수 예시"
   ]
  },
  {
   "cell_type": "code",
   "execution_count": 17,
   "metadata": {},
   "outputs": [
    {
     "name": "stdout",
     "output_type": "stream",
     "text": [
      "Doubled numbers: [2, 4, 6, 8, 10]\n",
      "Even numbers: [2, 4]\n",
      "Sum of numbers: 15\n"
     ]
    }
   ],
   "source": [
    "from functools import reduce\n",
    "\n",
    "# map()을 사용하여 모든 숫자에 2를 곱하기\n",
    "numbers = [1, 2, 3, 4, 5]\n",
    "doubled_numbers = list(map(lambda x: x * 2, numbers))\n",
    "print(f\"Doubled numbers: {doubled_numbers}\")\n",
    "\n",
    "# filter()를 사용하여 짝수만 걸러내기\n",
    "even_numbers = list(filter(lambda x: x % 2 == 0, numbers))\n",
    "print(f\"Even numbers: {even_numbers}\")\n",
    "\n",
    "# reduce()를 사용하여 모든 숫자의 합 계산하기\n",
    "sum_numbers = reduce(lambda x, y: x + y, numbers)\n",
    "print(f\"Sum of numbers: {sum_numbers}\")"
   ]
  },
  {
   "cell_type": "markdown",
   "metadata": {},
   "source": [
    "4. 함수형 프로그래밍 기법\n",
    "- 람다 함수와 고차 함수 예시"
   ]
  },
  {
   "cell_type": "code",
   "execution_count": 18,
   "metadata": {},
   "outputs": [
    {
     "name": "stdout",
     "output_type": "stream",
     "text": [
      "Sorted pairs by second element: [(4, 'four'), (1, 'one'), (3, 'three'), (2, 'two')]\n",
      "Squared numbers: [1, 4, 9, 16, 25]\n"
     ]
    }
   ],
   "source": [
    "# 리스트를 정렬하면서 람다 함수 사용하기\n",
    "pairs = [(1, \"one\"), (3, \"three\"), (2, \"two\"), (4, \"four\")]\n",
    "\n",
    "# 숫자가 아닌 문자열을 기준으로 정렬\n",
    "sorted_pairs = sorted(pairs, key=lambda pair: pair[1])\n",
    "print(f\"Sorted pairs by second element: {sorted_pairs}\")\n",
    "\n",
    "# 고차 함수 예제 - 함수를 인자로 전달하기\n",
    "def apply_operation(numbers, operation):\n",
    "  return [operation(num) for num in numbers]\n",
    "\n",
    "# 숫자 리스트에 제곱을 적용\n",
    "squared_numbers = apply_operation(numbers, lambda x: x ** 2)\n",
    "print(f\"Squared numbers: {squared_numbers}\")"
   ]
  },
  {
   "cell_type": "markdown",
   "metadata": {},
   "source": [
    "5. 자원 관리와 코드 개선 기법\n",
    "- Context Manager (with 문) 예시"
   ]
  },
  {
   "cell_type": "code",
   "execution_count": 19,
   "metadata": {},
   "outputs": [
    {
     "name": "stdout",
     "output_type": "stream",
     "text": [
      "Opening file example.txt\n",
      "Closing file example.txt\n"
     ]
    }
   ],
   "source": [
    "class ManagedFile:\n",
    "  def __init__(self, filename):\n",
    "    self.filename = filename\n",
    "    \n",
    "  def __enter__(self):\n",
    "    self.file = open(self.filename, \"w\")\n",
    "    print(f\"Opening file {self.filename}\")\n",
    "    return self.file\n",
    "  \n",
    "  def __exit__(self, exc_type, exc_value, exc_traceback):\n",
    "    if self.file:\n",
    "      self.file.close()\n",
    "      print(f\"Closing file {self.filename}\")\n",
    "      \n",
    "# Context manager를 사용하여 파일 쓰기 작업 수행\n",
    "with ManagedFile('example.txt') as f:\n",
    "  f.write(\"Hello, world!\\n\")\n",
    "  f.write(\"ManagedFile is working correctly.\\n\")"
   ]
  },
  {
   "cell_type": "markdown",
   "metadata": {},
   "source": [
    "- Decorator (데코레이터) 예시"
   ]
  },
  {
   "cell_type": "code",
   "execution_count": 20,
   "metadata": {},
   "outputs": [
    {
     "name": "stdout",
     "output_type": "stream",
     "text": [
      "Function finished\n",
      "Function slow_function took 2.0009 seconds to complete\n"
     ]
    }
   ],
   "source": [
    "import time\n",
    "\n",
    "# 함수의 실행 시간을 측정하는 데코레이터\n",
    "def timer_decorator(func):\n",
    "  def wrapper(*args, **kwargs):\n",
    "    start_time = time.time()\n",
    "    result = func(*args, **kwargs)\n",
    "    end_time = time.time()\n",
    "    print(f\"Function {func.__name__} took {end_time - start_time:.4f} seconds to complete\")\n",
    "    return result\n",
    "  return wrapper\n",
    "\n",
    "# 데코레이터를 사용하여 함수의 실행 시간 측정\n",
    "@timer_decorator  # is equivalent to: timer_decorator(slow_function)\n",
    "def slow_function():\n",
    "  time.sleep(2)\n",
    "  print(\"Function finished\")\n",
    "  \n",
    "# 함수 호출\n",
    "slow_function()"
   ]
  }
 ],
 "metadata": {
  "kernelspec": {
   "display_name": "base",
   "language": "python",
   "name": "python3"
  },
  "language_info": {
   "codemirror_mode": {
    "name": "ipython",
    "version": 3
   },
   "file_extension": ".py",
   "mimetype": "text/x-python",
   "name": "python",
   "nbconvert_exporter": "python",
   "pygments_lexer": "ipython3",
   "version": "3.12.4"
  }
 },
 "nbformat": 4,
 "nbformat_minor": 2
}
