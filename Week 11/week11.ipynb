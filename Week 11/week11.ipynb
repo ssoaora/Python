{
 "cells": [
  {
   "cell_type": "code",
   "execution_count": 5,
   "metadata": {},
   "outputs": [],
   "source": [
    "import numpy as np"
   ]
  },
  {
   "cell_type": "code",
   "execution_count": 6,
   "metadata": {},
   "outputs": [
    {
     "name": "stdout",
     "output_type": "stream",
     "text": [
      "시험성적의 합계 : [ 70  90 110]\n",
      "시험성적의 평균 : [35. 45. 55.]\n"
     ]
    }
   ],
   "source": [
    "mid_scores = np.array([10, 20, 30])\n",
    "final_scores = np.array([60, 70, 80])\n",
    "\n",
    "total = mid_scores + final_scores\n",
    "print(f'시험성적의 합계 : {total}')\n",
    "print(f'시험성적의 평균 : {total/2}')"
   ]
  },
  {
   "cell_type": "code",
   "execution_count": 8,
   "metadata": {},
   "outputs": [
    {
     "name": "stdout",
     "output_type": "stream",
     "text": [
      "[ 11  22  33  44  55  66  77  88  99 110]\n",
      "[ -9 -18 -27 -36 -45 -54 -63 -72 -81 -90]\n",
      "[  10   40   90  160  250  360  490  640  810 1000]\n",
      "[0.1 0.1 0.1 0.1 0.1 0.1 0.1 0.1 0.1 0.1]\n"
     ]
    }
   ],
   "source": [
    "a = np.array(range(1, 11))\n",
    "b = np.array(range(10, 101, 10))\n",
    "\n",
    "print(a + b)\n",
    "print(a - b)\n",
    "print(a * b)\n",
    "print(a / b)"
   ]
  },
  {
   "cell_type": "code",
   "execution_count": 4,
   "metadata": {},
   "outputs": [
    {
     "name": "stdout",
     "output_type": "stream",
     "text": [
      "(3,)\n",
      "1\n",
      "int64\n",
      "8\n",
      "3\n"
     ]
    }
   ],
   "source": [
    "a = np.array([1, 2, 3])\n",
    "print(a.shape)\n",
    "print(a.ndim)\n",
    "print(a.dtype)\n",
    "print(a.itemsize)\n",
    "print(a.size)"
   ]
  },
  {
   "cell_type": "code",
   "execution_count": 6,
   "metadata": {},
   "outputs": [
    {
     "name": "stdout",
     "output_type": "stream",
     "text": [
      "[ 11  22  33  44  55  66  77  88  99 110]\n",
      "(10,)\n",
      "10\n"
     ]
    }
   ],
   "source": [
    "a = np.array(range(1, 11)) + np.array(range(10, 101, 10))\n",
    "print(a)\n",
    "print(a.shape)\n",
    "print(a.size)"
   ]
  },
  {
   "cell_type": "code",
   "execution_count": 7,
   "metadata": {},
   "outputs": [
    {
     "name": "stdout",
     "output_type": "stream",
     "text": [
      "[320 350 330]\n"
     ]
    }
   ],
   "source": [
    "salary = np.array([220, 250, 230])\n",
    "salary += 100\n",
    "print(salary)"
   ]
  },
  {
   "cell_type": "code",
   "execution_count": 8,
   "metadata": {},
   "outputs": [
    {
     "name": "stdout",
     "output_type": "stream",
     "text": [
      "[440 500 460]\n"
     ]
    }
   ],
   "source": [
    "salary = np.array([220, 250, 230])\n",
    "salary *= 2\n",
    "print(salary)"
   ]
  },
  {
   "cell_type": "code",
   "execution_count": 12,
   "metadata": {},
   "outputs": [
    {
     "name": "stdout",
     "output_type": "stream",
     "text": [
      "[462. 525. 483.]\n"
     ]
    }
   ],
   "source": [
    "salary = np.array([220, 250, 230])\n",
    "salary = salary * 2.1\n",
    "print(salary)"
   ]
  },
  {
   "cell_type": "code",
   "execution_count": 14,
   "metadata": {},
   "outputs": [
    {
     "name": "stdout",
     "output_type": "stream",
     "text": [
      "[100, 'test', 3.0, False]\n",
      "['100' 'test' '3.0' 'False']\n"
     ]
    }
   ],
   "source": [
    "lst = [100, 'test', 3.0, False]\n",
    "print(lst)\n",
    "\n",
    "tangled = np.array([100, 'test', 3.0, False])\n",
    "print(tangled)"
   ]
  },
  {
   "cell_type": "code",
   "execution_count": 15,
   "metadata": {},
   "outputs": [
    {
     "name": "stdout",
     "output_type": "stream",
     "text": [
      "total = 4999950000\n",
      "0.01016 sec\n"
     ]
    }
   ],
   "source": [
    "import time\n",
    "\n",
    "start = time.time() # 시작 시간을 지정\n",
    "\n",
    "# 백터화 연산 대신 반복문 이용\n",
    "total = 0\n",
    "for i in np.arange(100000):\n",
    "    total += i\n",
    "end = time.time()\n",
    "\n",
    "print(f'total = {total}')\n",
    "print('{:.5f} sec'.format(end-start))"
   ]
  },
  {
   "cell_type": "code",
   "execution_count": 16,
   "metadata": {},
   "outputs": [
    {
     "name": "stdout",
     "output_type": "stream",
     "text": [
      "total = 4999950000\n",
      "0.00057 sec\n"
     ]
    }
   ],
   "source": [
    "start = time.time()\n",
    "\n",
    "# 넘파이의 벡터화 연산 사용\n",
    "total = np.sum(np.arange(100000))\n",
    "end = time.time()\n",
    "\n",
    "print(f'total = {total}')\n",
    "print('{:.5f} sec'.format(end-start))"
   ]
  },
  {
   "cell_type": "markdown",
   "metadata": {},
   "source": [
    "### Lab 1: ndarray 객체를 생성하고 속성을 알아보자\n",
    "\n",
    "넘파이의 다차원 배열을 이해하기 위해 다음과 같은 일들을 수행\n",
    "\n",
    "1. 0에서 9까지의 정수 값을 가지는 리스트를 만들자. 이 리스트를 이용하여 넘파이의 ndarray 객체 array_a를 만들고 그 내용을 출력해 보라.\n",
    "\n",
    "2. range() 함수를 사용하여 0에서 9까지의 정수 값을 가지는 ndarray 객체 array_b를 만들고 아래의 결과와 같이 나타나도록 하여라.\n",
    "\n",
    "3. 문제 2의 코드를 수정하여 0에서 9까지의 정수 값 중에서 짝수를 가지는 ndarray 객체 array_c를 생성하여라.\n",
    "\n",
    "4. array_c의 shape, ndim, dtype, size, itemsize를 출력해보라."
   ]
  },
  {
   "cell_type": "code",
   "execution_count": 17,
   "metadata": {},
   "outputs": [
    {
     "name": "stdout",
     "output_type": "stream",
     "text": [
      "실습 1: array_a = [0 1 2 3 4 5 6 7 8 9]\n",
      "실습 2: array_b = [0 1 2 3 4 5 6 7 8 9]\n",
      "실습 3 : array_c = [0 2 4 6 8]\n",
      "실습 4: \n",
      "array_c의 shape : (5,)\n",
      "array_c의 ndim : 1\n",
      "array_c의 dtype : int64\n",
      "array_c의 size : 5\n",
      "array_c의 itemsize : 8\n"
     ]
    }
   ],
   "source": [
    "array_a = np.array([0, 1, 2, 3, 4, 5, 6, 7, 8, 9])\n",
    "print(f'실습 1: array_a = {array_a}')\n",
    "\n",
    "array_b = np.array(range(10))\n",
    "print(f'실습 2: array_b = {array_b}')\n",
    "\n",
    "array_c = np.array(range(0, 10, 2))\n",
    "print(f'실습 3 : array_c = {array_c}')\n",
    "\n",
    "print('실습 4: ')\n",
    "print(f'array_c의 shape : {array_c.shape}')\n",
    "print(f'array_c의 ndim : {array_c.ndim}')\n",
    "print(f'array_c의 dtype : {array_c.dtype}')\n",
    "print(f'array_c의 size : {array_c.size}')\n",
    "print(f'array_c의 itemsize : {array_c.itemsize}')"
   ]
  },
  {
   "cell_type": "markdown",
   "metadata": {},
   "source": [
    "### Lab 2: 여러 사람의 BMI를 빠르고 간편하게 계산하기"
   ]
  },
  {
   "cell_type": "code",
   "execution_count": 9,
   "metadata": {},
   "outputs": [
    {
     "name": "stdout",
     "output_type": "stream",
     "text": [
      "대상자들의 키: [1.83 1.76 1.69 1.86 1.77 1.73]\n",
      "대상자들의 몸무게: [86 74 59 95 80 68]\n",
      "대상자들의 BMI\n",
      "[25.68007405 23.88946281 20.65754    27.45982194 25.53544639 22.72043837]\n",
      "[25.68007405 27.45982194 25.53544639]\n"
     ]
    }
   ],
   "source": [
    "heights = [1.83, 1.76, 1.69, 1.86, 1.77, 1.73]\n",
    "weights = [86, 74, 59, 95, 80, 68]\n",
    "\n",
    "np_heights = np.array(heights)\n",
    "np_weights = np.array(weights)\n",
    "\n",
    "bmi = np_weights / (np_heights ** 2)\n",
    "\n",
    "print(f'대상자들의 키: {np_heights}')\n",
    "print(f'대상자들의 몸무게: {np_weights}')\n",
    "print(f'대상자들의 BMI')\n",
    "\n",
    "print(bmi)\n",
    "print(bmi[bmi > 25])"
   ]
  },
  {
   "cell_type": "code",
   "execution_count": 20,
   "metadata": {},
   "outputs": [
    {
     "name": "stdout",
     "output_type": "stream",
     "text": [
      "93\n",
      "99\n",
      "[88 72 93]\n",
      "[72 93 94]\n",
      "[88 72 93]\n",
      "[94 89 78 99]\n",
      "[89 78]\n"
     ]
    }
   ],
   "source": [
    "scores = np.array([88, 72, 93, 94, 89, 78, 99])\n",
    "print(scores[2])\n",
    "print(scores[-1])\n",
    "print(scores[0:3])\n",
    "print(scores[1:4])\n",
    "print(scores[:3])\n",
    "print(scores[3:])\n",
    "print(scores[4:-1])"
   ]
  },
  {
   "cell_type": "code",
   "execution_count": 23,
   "metadata": {},
   "outputs": [
    {
     "name": "stdout",
     "output_type": "stream",
     "text": [
      "[False False  True  True  True]\n"
     ]
    },
    {
     "data": {
      "text/plain": [
       "array([25, 30, 28])"
      ]
     },
     "execution_count": 23,
     "metadata": {},
     "output_type": "execute_result"
    }
   ],
   "source": [
    "ages = np.array([18, 19, 25, 30, 28])\n",
    "\n",
    "y = ages > 20\n",
    "print(y)\n",
    "\n",
    "ages[ages > 20]"
   ]
  },
  {
   "cell_type": "code",
   "execution_count": 27,
   "metadata": {},
   "outputs": [
    {
     "data": {
      "text/plain": [
       "array([69, 79, 90, 92, 69, 77])"
      ]
     },
     "execution_count": 27,
     "metadata": {},
     "output_type": "execute_result"
    }
   ],
   "source": [
    "score = np.array([69, 34, 55, 79, 90, 57, 92, 59, 69, 77])\n",
    "score[score >= 60]"
   ]
  },
  {
   "cell_type": "code",
   "execution_count": 11,
   "metadata": {},
   "outputs": [
    {
     "name": "stdout",
     "output_type": "stream",
     "text": [
      "[[1, 2, 3], [4, 5, 6], [7, 8, 9]]\n",
      "[[1 2 3]\n",
      " [4 5 6]\n",
      " [7 8 9]]\n",
      "2\n",
      "9\n"
     ]
    }
   ],
   "source": [
    "y = [[1, 2, 3], [4, 5, 6], [7, 8, 9]]\n",
    "print(y)\n",
    "\n",
    "np_array = np.array(y)\n",
    "print(np_array)\n",
    "\n",
    "print(np_array[0][1])\n",
    "print(np_array[2][2])"
   ]
  },
  {
   "cell_type": "code",
   "execution_count": 34,
   "metadata": {},
   "outputs": [
    {
     "name": "stdout",
     "output_type": "stream",
     "text": [
      "3\n",
      "1\n",
      "9\n",
      "[[12  2  3]\n",
      " [ 4  5  6]\n",
      " [ 7  8  9]]\n",
      "[[12  2  3]\n",
      " [ 4  5  6]\n",
      " [ 7  8  1]]\n"
     ]
    }
   ],
   "source": [
    "np_array = np.array([[1, 2, 3], [4, 5, 6], [7, 8, 9]])\n",
    "print(np_array[0, 2])\n",
    "print(np_array[0, 0])\n",
    "print(np_array[2, -1])\n",
    "\n",
    "np_array[0, 0] = 12\n",
    "print(np_array)\n",
    "\n",
    "np_array[2, 2] = 1.234\n",
    "print(np_array)"
   ]
  },
  {
   "cell_type": "code",
   "execution_count": 39,
   "metadata": {},
   "outputs": [
    {
     "name": "stdout",
     "output_type": "stream",
     "text": [
      "[[ 1  2  3  4]\n",
      " [ 5  6  7  8]\n",
      " [ 9 10 11 12]\n",
      " [13 14 15 16]]\n",
      "[[3 4]\n",
      " [7 8]]\n",
      "[1 2 3 4]\n",
      "[6 7]\n"
     ]
    }
   ],
   "source": [
    "np_array = np.array([[1, 2, 3, 4], [5, 6, 7, 8], [9, 10, 11, 12], [13, 14, 15, 16]])\n",
    "print(np_array)\n",
    "\n",
    "print(np_array[0:2, 2:4])\n",
    "print(np_array[0])\n",
    "print(np_array[1, 1:3])"
   ]
  },
  {
   "cell_type": "code",
   "execution_count": 1,
   "metadata": {},
   "outputs": [
    {
     "name": "stdout",
     "output_type": "stream",
     "text": [
      "[[1 2 3 4]]\n",
      "[[ 1  3]\n",
      " [ 9 11]]\n"
     ]
    }
   ],
   "source": [
    "import numpy as np\n",
    "\n",
    "np_array = np.array([[1, 2, 3, 4],\n",
    "                     [5, 6, 7, 8],\n",
    "                     [9, 10, 11, 12],\n",
    "                     [13, 14, 15, 16]])\n",
    "\n",
    "print(np_array[::2][::2])\n",
    "print(np_array[::2, ::2])"
   ]
  },
  {
   "cell_type": "code",
   "execution_count": 45,
   "metadata": {},
   "outputs": [
    {
     "name": "stdout",
     "output_type": "stream",
     "text": [
      "[[False False False]\n",
      " [False False  True]\n",
      " [ True  True  True]]\n",
      "[6 7 8 9]\n",
      "[3 6 9]\n",
      "[False  True  True]\n",
      "[[False  True False]\n",
      " [ True False  True]\n",
      " [False  True False]]\n",
      "[2 4 6 8]\n"
     ]
    }
   ],
   "source": [
    "np_array = np.array([[1, 2, 3], [4, 5, 6], [7, 8, 9]])\n",
    "\n",
    "print(np_array > 5)\n",
    "print(np_array[np_array > 5])\n",
    "\n",
    "print(np_array[:, 2])\n",
    "print(np_array[:, 2] > 5)\n",
    "\n",
    "print(np_array % 2 == 0)\n",
    "print(np_array[np_array % 2 == 0])"
   ]
  },
  {
   "cell_type": "markdown",
   "metadata": {},
   "source": [
    "### Lab 3: 2차원 배열 연습하기"
   ]
  },
  {
   "cell_type": "code",
   "execution_count": null,
   "metadata": {},
   "outputs": [
    {
     "name": "stdout",
     "output_type": "stream",
     "text": [
      "['c' 'c' 'c']\n",
      "[[ 8 18 28]\n",
      " [ 9 18 27]]\n"
     ]
    }
   ],
   "source": [
    "x = np.array([['a', 'b', 'c', 'd'],\n",
    "              ['c', 'c', 'g', 'h']])\n",
    "\n",
    "mat_a = np.array([[10, 20, 30], [10, 20, 30]])\n",
    "mat_b = np.array([[2, 2, 2], [1, 2, 3]])\n",
    "\n",
    "print(x[x == 'c'])      # 'c' 원소만 있는 부분을 추출함\n",
    "print(mat_a - mat_b)    # 배열 mat_a의 모든 원소에서 mat_b의 모든 원소를 뺀다"
   ]
  },
  {
   "cell_type": "markdown",
   "metadata": {},
   "source": [
    "### Lab 4: 넘파이 배열의 형태 알아내고 슬라이싱하여 연산"
   ]
  },
  {
   "cell_type": "code",
   "execution_count": 48,
   "metadata": {},
   "outputs": [
    {
     "name": "stdout",
     "output_type": "stream",
     "text": [
      "x shpae: (2, 6)\n",
      "y shape: (2, 2)\n",
      "z shape: (1, 6)\n",
      "z values = : [[86. 74. 59. 95. 80. 68.]]\n",
      "BMI data\n",
      "[25.68007405 23.88946281 20.65754    27.45982194 25.53544639 22.72043837]\n"
     ]
    }
   ],
   "source": [
    "x = np.array([[1.83, 1.76, 1.69, 1.86, 1.77, 1.73],\n",
    "              [86.0, 74.0, 59.0, 95.0, 80.0, 68.0]])\n",
    "y = x[0:2, 1:3]\n",
    "z = x[0:2][1:3]\n",
    "\n",
    "print(f'x shpae: {x.shape}')\n",
    "print(f'y shape: {y.shape}')\n",
    "print(f'z shape: {z.shape}')\n",
    "print(f'z values = : {z}')\n",
    "\n",
    "bmi = x[1] / (x[0] ** 2)\n",
    "print('BMI data')\n",
    "print(bmi)"
   ]
  },
  {
   "cell_type": "code",
   "execution_count": 49,
   "metadata": {},
   "outputs": [
    {
     "data": {
      "text/plain": [
       "array([0, 1, 2, 3, 4])"
      ]
     },
     "execution_count": 49,
     "metadata": {},
     "output_type": "execute_result"
    }
   ],
   "source": [
    "np.arange(5)"
   ]
  },
  {
   "cell_type": "code",
   "execution_count": 51,
   "metadata": {},
   "outputs": [
    {
     "data": {
      "text/plain": [
       "array([1, 2, 3, 4, 5])"
      ]
     },
     "execution_count": 51,
     "metadata": {},
     "output_type": "execute_result"
    }
   ],
   "source": [
    "np.arange(1, 6)"
   ]
  },
  {
   "cell_type": "code",
   "execution_count": 52,
   "metadata": {},
   "outputs": [
    {
     "name": "stdout",
     "output_type": "stream",
     "text": [
      "[1 3 5 7 9]\n",
      "[1.  3.5 6.  8.5]\n"
     ]
    }
   ],
   "source": [
    "print(np.arange(1, 10, 2))\n",
    "print(np.arange(1, 10, 2.5))"
   ]
  },
  {
   "cell_type": "code",
   "execution_count": 54,
   "metadata": {},
   "outputs": [
    {
     "name": "stdout",
     "output_type": "stream",
     "text": [
      "range(0, 5)\n",
      "[0, 1, 2, 3, 4]\n",
      "[0 1 2 3 4]\n"
     ]
    }
   ],
   "source": [
    "print(range(5))\n",
    "print(list(range(5)))\n",
    "print(np.array(range(5)))"
   ]
  },
  {
   "cell_type": "markdown",
   "metadata": {},
   "source": [
    "### Lab 5: 2차원 배열에서 특정 조건을 만족하는 행만 추출하기"
   ]
  },
  {
   "cell_type": "code",
   "execution_count": 12,
   "metadata": {},
   "outputs": [
    {
     "name": "stdout",
     "output_type": "stream",
     "text": [
      "몸무게가 80 이상인 선수 정보\n",
      "[[183.   86.2]\n",
      " [176.   80.1]]\n",
      "키가 180 이상인 선수 정보\n",
      "[[180.   76.4]\n",
      " [183.   86.2]\n",
      " [181.   78.5]]\n"
     ]
    }
   ],
   "source": [
    "players = [[180, 76.4],\n",
    "           [183, 86.2],\n",
    "           [181, 78.5],\n",
    "           [176, 80.1]]\n",
    "\n",
    "np_players = np.array(players)\n",
    "\n",
    "print('몸무게가 80 이상인 선수 정보')\n",
    "print(np_players[np_players[:, 1] >= 80.0])\n",
    "\n",
    "print('키가 180 이상인 선수 정보')\n",
    "print(np_players[np_players[:, 0] >= 180.0])"
   ]
  },
  {
   "cell_type": "code",
   "execution_count": 56,
   "metadata": {},
   "outputs": [
    {
     "data": {
      "text/plain": [
       "array([ 0.        ,  0.1010101 ,  0.2020202 ,  0.3030303 ,  0.4040404 ,\n",
       "        0.50505051,  0.60606061,  0.70707071,  0.80808081,  0.90909091,\n",
       "        1.01010101,  1.11111111,  1.21212121,  1.31313131,  1.41414141,\n",
       "        1.51515152,  1.61616162,  1.71717172,  1.81818182,  1.91919192,\n",
       "        2.02020202,  2.12121212,  2.22222222,  2.32323232,  2.42424242,\n",
       "        2.52525253,  2.62626263,  2.72727273,  2.82828283,  2.92929293,\n",
       "        3.03030303,  3.13131313,  3.23232323,  3.33333333,  3.43434343,\n",
       "        3.53535354,  3.63636364,  3.73737374,  3.83838384,  3.93939394,\n",
       "        4.04040404,  4.14141414,  4.24242424,  4.34343434,  4.44444444,\n",
       "        4.54545455,  4.64646465,  4.74747475,  4.84848485,  4.94949495,\n",
       "        5.05050505,  5.15151515,  5.25252525,  5.35353535,  5.45454545,\n",
       "        5.55555556,  5.65656566,  5.75757576,  5.85858586,  5.95959596,\n",
       "        6.06060606,  6.16161616,  6.26262626,  6.36363636,  6.46464646,\n",
       "        6.56565657,  6.66666667,  6.76767677,  6.86868687,  6.96969697,\n",
       "        7.07070707,  7.17171717,  7.27272727,  7.37373737,  7.47474747,\n",
       "        7.57575758,  7.67676768,  7.77777778,  7.87878788,  7.97979798,\n",
       "        8.08080808,  8.18181818,  8.28282828,  8.38383838,  8.48484848,\n",
       "        8.58585859,  8.68686869,  8.78787879,  8.88888889,  8.98989899,\n",
       "        9.09090909,  9.19191919,  9.29292929,  9.39393939,  9.49494949,\n",
       "        9.5959596 ,  9.6969697 ,  9.7979798 ,  9.8989899 , 10.        ])"
      ]
     },
     "execution_count": 56,
     "metadata": {},
     "output_type": "execute_result"
    }
   ],
   "source": [
    "np.linspace(0, 10, 100)"
   ]
  },
  {
   "cell_type": "code",
   "execution_count": 57,
   "metadata": {},
   "outputs": [
    {
     "data": {
      "text/plain": [
       "array([1.00000000e+00, 3.59381366e+00, 1.29154967e+01, 4.64158883e+01,\n",
       "       1.66810054e+02, 5.99484250e+02, 2.15443469e+03, 7.74263683e+03,\n",
       "       2.78255940e+04, 1.00000000e+05])"
      ]
     },
     "execution_count": 57,
     "metadata": {},
     "output_type": "execute_result"
    }
   ],
   "source": [
    "np.logspace(0, 5, 10)"
   ]
  },
  {
   "cell_type": "code",
   "execution_count": 58,
   "metadata": {},
   "outputs": [
    {
     "name": "stdout",
     "output_type": "stream",
     "text": [
      "[ 0  1  2  3  4  5  6  7  8  9 10 11]\n"
     ]
    },
    {
     "data": {
      "text/plain": [
       "array([[ 0,  1,  2,  3],\n",
       "       [ 4,  5,  6,  7],\n",
       "       [ 8,  9, 10, 11]])"
      ]
     },
     "execution_count": 58,
     "metadata": {},
     "output_type": "execute_result"
    }
   ],
   "source": [
    "y = np.arange(12)\n",
    "print(y)\n",
    "\n",
    "y.reshape(3, 4)"
   ]
  },
  {
   "cell_type": "code",
   "execution_count": 59,
   "metadata": {},
   "outputs": [
    {
     "data": {
      "text/plain": [
       "array([[ 0,  1],\n",
       "       [ 2,  3],\n",
       "       [ 4,  5],\n",
       "       [ 6,  7],\n",
       "       [ 8,  9],\n",
       "       [10, 11]])"
      ]
     },
     "execution_count": 59,
     "metadata": {},
     "output_type": "execute_result"
    }
   ],
   "source": [
    "y.reshape(6, -1)"
   ]
  },
  {
   "cell_type": "code",
   "execution_count": 60,
   "metadata": {},
   "outputs": [
    {
     "ename": "ValueError",
     "evalue": "cannot reshape array of size 12 into shape (7,2)",
     "output_type": "error",
     "traceback": [
      "\u001b[0;31m---------------------------------------------------------------------------\u001b[0m",
      "\u001b[0;31mValueError\u001b[0m                                Traceback (most recent call last)",
      "Cell \u001b[0;32mIn[60], line 1\u001b[0m\n\u001b[0;32m----> 1\u001b[0m y\u001b[38;5;241m.\u001b[39mreshape(\u001b[38;5;241m7\u001b[39m, \u001b[38;5;241m2\u001b[39m)\n",
      "\u001b[0;31mValueError\u001b[0m: cannot reshape array of size 12 into shape (7,2)"
     ]
    }
   ],
   "source": [
    "y.reshape(7, 2)"
   ]
  },
  {
   "cell_type": "code",
   "execution_count": 61,
   "metadata": {},
   "outputs": [
    {
     "data": {
      "text/plain": [
       "array([ 0,  1,  2,  3,  4,  5,  6,  7,  8,  9, 10, 11])"
      ]
     },
     "execution_count": 61,
     "metadata": {},
     "output_type": "execute_result"
    }
   ],
   "source": [
    "y.flatten()"
   ]
  },
  {
   "cell_type": "code",
   "execution_count": 67,
   "metadata": {},
   "outputs": [
    {
     "name": "stdout",
     "output_type": "stream",
     "text": [
      "[0.54340494 0.27836939 0.42451759 0.84477613 0.00471886]\n",
      "[[0.12156912 0.67074908 0.82585276]\n",
      " [0.13670659 0.57509333 0.89132195]\n",
      " [0.20920212 0.18532822 0.10837689]\n",
      " [0.21969749 0.97862378 0.81168315]\n",
      " [0.17194101 0.81622475 0.27407375]]\n",
      "\n",
      "[14.31704184 19.4002982  18.17649379 13.3611195  11.75410454]\n",
      "\n",
      "[4 1 3 2 2 4 3 6 4 1]\n",
      "[[ 2  1  8  7  3  1  9]\n",
      " [ 3  6  2  9  2  6  5]\n",
      " [ 3  9  4  6  1 10  4]\n",
      " [ 7  4  5  8  7  4 10]]\n"
     ]
    }
   ],
   "source": [
    "np.random.seed(100)\n",
    "print(np.random.rand(5))\n",
    "print(np.random.rand(5, 3))\n",
    "print()\n",
    "\n",
    "a = 10\n",
    "b = 20\n",
    "print((b - a) * np.random.rand(5) + a)\n",
    "print()\n",
    "\n",
    "print(np.random.randint(1, 7, size=10))\n",
    "print(np.random.randint(1, 11, size=(4, 7)))"
   ]
  },
  {
   "cell_type": "code",
   "execution_count": 68,
   "metadata": {},
   "outputs": [
    {
     "data": {
      "text/plain": [
       "array([-1.02933685, -0.51099219, -2.36027053,  0.10359513,  1.73881773])"
      ]
     },
     "execution_count": 68,
     "metadata": {},
     "output_type": "execute_result"
    }
   ],
   "source": [
    "np.random.randn(5)"
   ]
  },
  {
   "cell_type": "code",
   "execution_count": 69,
   "metadata": {},
   "outputs": [
    {
     "data": {
      "text/plain": [
       "array([[ 1.24187584,  0.13241276,  0.57779396, -1.57590571],\n",
       "       [-1.29279424, -0.65991979, -0.87400478, -0.68955061],\n",
       "       [-0.53547985,  1.52795302,  0.64720579, -0.67733661],\n",
       "       [-0.2650188 ,  0.74610644, -3.13078483,  0.05962178],\n",
       "       [-0.87521111,  1.06487833, -0.57315265, -0.80327849]])"
      ]
     },
     "execution_count": 69,
     "metadata": {},
     "output_type": "execute_result"
    }
   ],
   "source": [
    "np.random.randn(5, 4)"
   ]
  },
  {
   "cell_type": "code",
   "execution_count": 70,
   "metadata": {},
   "outputs": [
    {
     "data": {
      "text/plain": [
       "array([[13.09297163, 12.65127758, 14.16052479, 11.36086993],\n",
       "       [11.66631247, 11.56239814, 10.09420512, 10.77098067],\n",
       "       [12.79489886, 10.83949186, 12.54605552, 13.16325833],\n",
       "       [12.65887702, 12.52368926, 13.32715607, 13.11252447],\n",
       "       [10.92537039, 12.34341616, 12.98543754, 12.73650168]])"
      ]
     },
     "execution_count": 70,
     "metadata": {},
     "output_type": "execute_result"
    }
   ],
   "source": [
    "mu = 10\n",
    "sigma = 2\n",
    "randoms = mu + sigma + np.random.randn(5, 4)\n",
    "randoms"
   ]
  },
  {
   "cell_type": "code",
   "execution_count": 71,
   "metadata": {},
   "outputs": [
    {
     "data": {
      "text/plain": [
       "array([154.19537366, 172.0141403 , 157.70789077, ..., 168.27903126,\n",
       "       164.92114975, 173.12062171])"
      ]
     },
     "execution_count": 71,
     "metadata": {},
     "output_type": "execute_result"
    }
   ],
   "source": [
    "m = 175\n",
    "sigma = 10\n",
    "heights = m + sigma * np.random.randn(10000)\n",
    "heights"
   ]
  },
  {
   "cell_type": "code",
   "execution_count": 74,
   "metadata": {},
   "outputs": [
    {
     "name": "stdout",
     "output_type": "stream",
     "text": [
      "174.9972570108985\n",
      "174.90487455543172\n"
     ]
    }
   ],
   "source": [
    "print(np.mean(heights))\n",
    "print(np.median(heights))"
   ]
  },
  {
   "cell_type": "code",
   "execution_count": 76,
   "metadata": {},
   "outputs": [
    {
     "name": "stdout",
     "output_type": "stream",
     "text": [
      "6.8\n",
      "3.0\n"
     ]
    }
   ],
   "source": [
    "a = np.array([3, 7, 1, 2, 21])\n",
    "print(np.mean(a))\n",
    "print(np.median(a))"
   ]
  },
  {
   "cell_type": "markdown",
   "metadata": {},
   "source": [
    "### Lab 6: 배열의 형태를 바꾸어 보자"
   ]
  },
  {
   "cell_type": "code",
   "execution_count": 81,
   "metadata": {},
   "outputs": [
    {
     "name": "stdout",
     "output_type": "stream",
     "text": [
      "a :\n",
      "[ 1  2  3  4  5  6  7  8  9 10 11 12 13 14 15 16 17 18 19 20 21 22 23 24\n",
      " 25 26 27 28 29 30 31 32 33 34 35 36]\n",
      "b :\n",
      "[[ 1  2  3  4  5  6  7  8  9 10 11 12]\n",
      " [13 14 15 16 17 18 19 20 21 22 23 24]\n",
      " [25 26 27 28 29 30 31 32 33 34 35 36]]\n",
      "c :\n",
      "[[ 1  2  3  4  5  6  7  8  9]\n",
      " [10 11 12 13 14 15 16 17 18]\n",
      " [19 20 21 22 23 24 25 26 27]\n",
      " [28 29 30 31 32 33 34 35 36]]\n",
      "d :\n",
      "[[[ 1  2  3  4  5  6]\n",
      "  [ 7  8  9 10 11 12]]\n",
      "\n",
      " [[13 14 15 16 17 18]\n",
      "  [19 20 21 22 23 24]]\n",
      "\n",
      " [[25 26 27 28 29 30]\n",
      "  [31 32 33 34 35 36]]]\n"
     ]
    }
   ],
   "source": [
    "a = np.arange(1, 37)\n",
    "print(f'a :\\n{a}')\n",
    "\n",
    "b = a.reshape(3, 12)\n",
    "print(f'b :\\n{b}')\n",
    "\n",
    "c = a.reshape(4, 9)\n",
    "print(f'c :\\n{c}')\n",
    "\n",
    "d = a.reshape(3, 2, 6)\n",
    "print(f'd :\\n{d}')"
   ]
  },
  {
   "cell_type": "markdown",
   "metadata": {},
   "source": [
    "### Lab 7: 평균과 중앙값 계산 연습"
   ]
  },
  {
   "cell_type": "code",
   "execution_count": 82,
   "metadata": {},
   "outputs": [
    {
     "name": "stdout",
     "output_type": "stream",
     "text": [
      "신장 평균값: 174.77170127299266\n",
      "신장 중앙값: 174.64811558260504\n",
      "체중 평균값: 69.95750927697883\n",
      "체중 중앙값: 70.05524358619635\n",
      "나이 평균값: 22.29\n",
      "나이 중앙값: 23.0\n"
     ]
    }
   ],
   "source": [
    "players = np.zeros((100, 3))\n",
    "players[:, 0] = np.random.randn(100) + 175\n",
    "players[:, 1] = np.random.randn(100) + 70\n",
    "players[:, 2] = np.floor(10 * np.random.randn(100)) + 22\n",
    "\n",
    "heights = players[:, 0]\n",
    "print(f'신장 평균값: {np.mean(heights)}')\n",
    "print(f'신장 중앙값: {np.median(heights)}')\n",
    "\n",
    "weights = players[:, 1]\n",
    "print(f'체중 평균값: {np.mean(weights)}')\n",
    "print(f'체중 중앙값: {np.median(weights)}')\n",
    "\n",
    "ages = players[:, 2]\n",
    "print(f'나이 평균값: {np.mean(ages)}')\n",
    "print(f'나이 중앙값: {np.median(ages)}')"
   ]
  },
  {
   "cell_type": "code",
   "execution_count": 23,
   "metadata": {},
   "outputs": [
    {
     "name": "stdout",
     "output_type": "stream",
     "text": [
      "신장 평균값: 176.57833981596167\n",
      "체중 평균값: 70.38887263341506\n",
      "나이 평균값: 22.03\n",
      "신장 중앙값: 174.7989854668283\n",
      "체중 중앙값: 70.39785234759987\n",
      "나이 중앙값: 22.0\n"
     ]
    }
   ],
   "source": [
    "players = np.random.randn(100, 3)\n",
    "players[:, 0] = 175 + 10 * players[:, 0]\n",
    "players[:, 1] = 70 + 10 * players[:, 1]\n",
    "players[:, 2] = np.floor(22 + 10 * players[:, 2])\n",
    "\n",
    "print(f\"신장 평균값: {np.mean(players[:, 0])}\")\n",
    "print(f\"체중 평균값: {np.mean(players[:, 1])}\")\n",
    "print(f\"나이 평균값: {np.mean(players[:, 2])}\")\n",
    "\n",
    "print(f\"신장 중앙값: {np.median(players[:, 0])}\")\n",
    "print(f\"체중 중앙값: {np.median(players[:, 1])}\")\n",
    "print(f\"나이 중앙값: {np.median(players[:, 2])}\")"
   ]
  },
  {
   "cell_type": "code",
   "execution_count": 83,
   "metadata": {},
   "outputs": [
    {
     "name": "stdout",
     "output_type": "stream",
     "text": [
      "[[1.         0.96764439]\n",
      " [0.96764439 1.        ]]\n"
     ]
    }
   ],
   "source": [
    "x = [i for i in range(100)]\n",
    "y = [i ** 2 for i in range(100)]\n",
    "\n",
    "result = np.corrcoef(x, y)\n",
    "print(result)"
   ]
  },
  {
   "cell_type": "code",
   "execution_count": 84,
   "metadata": {},
   "outputs": [
    {
     "name": "stdout",
     "output_type": "stream",
     "text": [
      "[[ 1.          0.96764439  0.03763255]\n",
      " [ 0.96764439  1.         -0.21532645]\n",
      " [ 0.03763255 -0.21532645  1.        ]]\n"
     ]
    }
   ],
   "source": [
    "x = [i for i in range(100)]\n",
    "y = [i ** 2 for i in range(100)]\n",
    "z = [100 * np.sin(3.14*i/100) for i in range(100)]\n",
    "\n",
    "result = np.corrcoef([x, y, z])\n",
    "print(result)"
   ]
  },
  {
   "cell_type": "code",
   "execution_count": null,
   "metadata": {},
   "outputs": [],
   "source": []
  }
 ],
 "metadata": {
  "kernelspec": {
   "display_name": "base",
   "language": "python",
   "name": "python3"
  },
  "language_info": {
   "codemirror_mode": {
    "name": "ipython",
    "version": 3
   },
   "file_extension": ".py",
   "mimetype": "text/x-python",
   "name": "python",
   "nbconvert_exporter": "python",
   "pygments_lexer": "ipython3",
   "version": "3.12.7"
  }
 },
 "nbformat": 4,
 "nbformat_minor": 2
}
