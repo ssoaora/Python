{
 "cells": [
  {
   "cell_type": "code",
   "execution_count": 1,
   "metadata": {},
   "outputs": [
    {
     "name": "stdout",
     "output_type": "stream",
     "text": [
      "{'apple': 5, 'banana': 6, 'grape': 5, 'peach': 5}\n"
     ]
    }
   ],
   "source": [
    "words = ['apple', 'banana', 'grape', 'peach']\n",
    "words_length = {word: len(word) for word in words}\n",
    "print(words_length)"
   ]
  },
  {
   "cell_type": "code",
   "execution_count": 12,
   "metadata": {},
   "outputs": [
    {
     "name": "stdout",
     "output_type": "stream",
     "text": [
      "Sorted pairs by second element: [(4, 'four'), (1, 'one'), (3, 'three'), (2, 'two')]\n"
     ]
    }
   ],
   "source": [
    "pairs = [(1, 'one'), (3, 'three'), (2, 'two'), (4, 'four')]\n",
    "sorted_pairs = sorted(pairs, key=lambda x: x[1])\n",
    "print(f\"Sorted pairs by second element: {sorted_pairs}\")"
   ]
  },
  {
   "cell_type": "code",
   "execution_count": 3,
   "metadata": {},
   "outputs": [
    {
     "name": "stdout",
     "output_type": "stream",
     "text": [
      "[3, 6, 5, 8, 2]\n"
     ]
    }
   ],
   "source": [
    "numbers = [5, 3, 8, 6, 2]\n",
    "\n",
    "result = sorted(numbers, key=lambda x: x % 3)\n",
    "print(result)"
   ]
  },
  {
   "cell_type": "code",
   "execution_count": 5,
   "metadata": {},
   "outputs": [
    {
     "name": "stdout",
     "output_type": "stream",
     "text": [
      "1\n",
      "2\n",
      "3\n",
      "4\n"
     ]
    }
   ],
   "source": [
    "class CustomIterable:\n",
    "    def __init__(self, start, end):\n",
    "        self.start = start\n",
    "        self.end = end\n",
    "    \n",
    "    def __iter__(self):\n",
    "        return CustomIterator(self.start, self.end)\n",
    "\n",
    "class CustomIterator:\n",
    "    def __init__(self, start, end):\n",
    "        self.current = start\n",
    "        self.end = end\n",
    "    \n",
    "    def __iter__(self):\n",
    "        return self\n",
    "    \n",
    "    def __next__(self):\n",
    "        if self.current >= self.end:\n",
    "            raise StopIteration\n",
    "        else:\n",
    "            self.current += 1\n",
    "            return self.current -1\n",
    "\n",
    "custom_iterable = CustomIterable(1, 5)\n",
    "for value in custom_iterable:\n",
    "    print(value)"
   ]
  },
  {
   "cell_type": "code",
   "execution_count": 6,
   "metadata": {},
   "outputs": [
    {
     "name": "stdout",
     "output_type": "stream",
     "text": [
      "피보나치 수열: [0, 1, 1, 2, 3, 5, 8, 13, 21, 34]\n",
      "제곱된 값: [0, 1, 1, 4, 9, 25, 64, 169, 441, 1156]\n",
      "세제곱된 값: [0, 1, 1, 8, 27, 125, 512, 2197, 9261, 39304]\n",
      "실행 시간:  0.0015초\n"
     ]
    }
   ],
   "source": [
    "from functools import wraps\n",
    "from typing import Callable, Generator\n",
    "\n",
    "# 데코레이터 함수: 함수의 실행 시간을 측정하는 기능을 추가함\n",
    "def timeit(func: Callable) -> Callable:\n",
    "    import time\n",
    "    \n",
    "    @wraps(func)\n",
    "    def wrapper(*args, **kwargs):\n",
    "        start_time = time.time()\n",
    "        result = func(*args, **kwargs)\n",
    "        end_time = time.time()\n",
    "        print(f\"실행 시간: {end_time - start_time: .4f}초\")\n",
    "        return result\n",
    "    \n",
    "    return wrapper\n",
    "\n",
    "# 제너레이터 함수: 메모리를 아끼기 위해 한 번에 하나의 값을 생성\n",
    "def fibonacci(n: int) -> Generator[int, None, None]:\n",
    "    # n번째 피보나치 수열까지 생성\n",
    "    a, b = 0, 1\n",
    "    for _ in range(n):\n",
    "        yield a\n",
    "        a, b = b, a+b\n",
    "\n",
    "# 고차 함수: 다른 함수를 인자로 받아 처리\n",
    "def apply_operation(data: list[int], operation: Callable[[int], int]) -> list[int]:\n",
    "    # 주어진 함수(operation)를 데이터 리스트에 적용\n",
    "    return [operation(x) for x in data]\n",
    "\n",
    "# 함수형 프로그래밍: 람다 함수 사용\n",
    "square = lambda x: x ** 2\n",
    "cube = lambda x: x ** 3\n",
    "\n",
    "# 주요 실행 코드\n",
    "@timeit\t# 데코레이터 적용: 실행 시간을 측정\n",
    "def main():\n",
    "    fib_list = list(fibonacci(10))\t# 10번째 피보나치 수열까지 생성\n",
    "    print(\"피보나치 수열:\", fib_list)\n",
    "    \n",
    "    # 제곱 함수 적용\n",
    "    squared_list = apply_operation(fib_list, square)\n",
    "    print(\"제곱된 값:\", squared_list)\n",
    "    \n",
    "    # 세제곱 함수 적용\n",
    "    cubed_list = apply_operation(fib_list, cube)\n",
    "    print(\"세제곱된 값:\", cubed_list)\n",
    "\n",
    "# main 함수 실행\n",
    "if __name__ == \"__main__\":\n",
    "    main()"
   ]
  },
  {
   "cell_type": "code",
   "execution_count": 7,
   "metadata": {},
   "outputs": [
    {
     "name": "stdout",
     "output_type": "stream",
     "text": [
      "Decorator One: Before the function call\n",
      "Decorator Two: Before the function call\n",
      "Hello, World!\n",
      "Decorator Two: After the function call\n",
      "Decorator One: After the function call\n"
     ]
    }
   ],
   "source": [
    "def decorator_one(func):\n",
    "    def wrapper(*args, **kwargs):\n",
    "        print(\"Decorator One: Before the function call\")\n",
    "        result = func(*args, **kwargs)\n",
    "        print(\"Decorator One: After the function call\")\n",
    "        return result\n",
    "    return wrapper\n",
    "\n",
    "def decorator_two(func):\n",
    "    def wrapper(*args, **kwargs):\n",
    "        print(\"Decorator Two: Before the function call\")\n",
    "        result = func(*args, **kwargs)\n",
    "        print(\"Decorator Two: After the function call\")\n",
    "        return result\n",
    "    return wrapper\n",
    "\n",
    "@decorator_one\n",
    "@decorator_two\n",
    "def say_hello():\n",
    "    print(\"Hello, World!\")\n",
    "\n",
    "say_hello()"
   ]
  },
  {
   "cell_type": "code",
   "execution_count": 9,
   "metadata": {},
   "outputs": [
    {
     "name": "stdout",
     "output_type": "stream",
     "text": [
      "add 결과: 8\n",
      "add 실행 시간: 2.0006799698초\n"
     ]
    },
    {
     "data": {
      "text/plain": [
       "8"
      ]
     },
     "execution_count": 9,
     "metadata": {},
     "output_type": "execute_result"
    }
   ],
   "source": [
    "from functools import wraps\n",
    "import time\n",
    "\n",
    "# 첫 번째 데코레이터: 함수의 실행 시간을 측정\n",
    "def timeit(func):\n",
    "    @wraps(func)\n",
    "    def wrapper(*args, **kwargs):\n",
    "        import time\n",
    "        start_time = time.time()\n",
    "        result = func(*args, **kwargs)\n",
    "        end_time = time.time()\n",
    "        print(f\"{func.__name__} 실행 시간: {end_time - start_time:.10f}초\")\n",
    "        return result\n",
    "    return wrapper\n",
    "\n",
    "# 두 번째 데코레이터: 결과를 출력\n",
    "def print_result(func):\n",
    "    @wraps(func)\n",
    "    def wrapper(*args, **kwargs):\n",
    "        time.sleep(2)\n",
    "        result = func(*args, **kwargs)\n",
    "        print(f\"{func.__name__} 결과: {result}\")\n",
    "        return result\n",
    "    return wrapper\n",
    "\n",
    "# 데코레이터 체이닝 적용\n",
    "@timeit\n",
    "@print_result\n",
    "def add(a, b):\n",
    "    return a + b\n",
    "\n",
    "# 함수 실행\n",
    "add(5, 3)\n"
   ]
  },
  {
   "cell_type": "code",
   "execution_count": 8,
   "metadata": {},
   "outputs": [
    {
     "name": "stdout",
     "output_type": "stream",
     "text": [
      "add 실행 시간: 0.0000000000초\n",
      "add 결과: 8\n"
     ]
    },
    {
     "data": {
      "text/plain": [
       "8"
      ]
     },
     "execution_count": 8,
     "metadata": {},
     "output_type": "execute_result"
    }
   ],
   "source": [
    "from functools import wraps\n",
    "\n",
    "# 첫 번째 데코레이터: 함수의 실행 시간을 측정\n",
    "def timeit(func):\n",
    "    @wraps(func)\n",
    "    def wrapper(*args, **kwargs):\n",
    "        import time\n",
    "        start_time = time.time()\n",
    "        result = func(*args, **kwargs)\n",
    "        end_time = time.time()\n",
    "        print(f\"{func.__name__} 실행 시간: {end_time - start_time:.10f}초\")\n",
    "        return result\n",
    "    return wrapper\n",
    "\n",
    "# 두 번째 데코레이터: 결과를 출력\n",
    "def print_result(func):\n",
    "    @wraps(func)\n",
    "    def wrapper(*args, **kwargs):\n",
    "        result = func(*args, **kwargs)\n",
    "        for _ in range(10000):\n",
    "            a = 1\n",
    "        print(f\"{func.__name__} 결과: {result}\")\n",
    "        return result\n",
    "    return wrapper\n",
    "\n",
    "# 데코레이터 체이닝 적용\n",
    "@timeit \n",
    "@print_result\n",
    "def add(a, b):\n",
    "    return a + b\n",
    "\n",
    "# 함수 실행\n",
    "add(5, 3)\n"
   ]
  },
  {
   "cell_type": "code",
   "execution_count": 2,
   "metadata": {},
   "outputs": [
    {
     "name": "stdout",
     "output_type": "stream",
     "text": [
      "[2, 4, 6, 8, 10]\n"
     ]
    }
   ],
   "source": [
    "numbers = [1, 2, 3, 4, 5, 6, 7, 8, 9, 10]\n",
    "\n",
    "# 람다 함수를 사용하여 짝수만 필터링\n",
    "result = list(filter(lambda n: n % 2 == 0, numbers))\n",
    "\n",
    "print(result)\n"
   ]
  }
 ],
 "metadata": {
  "kernelspec": {
   "display_name": "base",
   "language": "python",
   "name": "python3"
  },
  "language_info": {
   "codemirror_mode": {
    "name": "ipython",
    "version": 3
   },
   "file_extension": ".py",
   "mimetype": "text/x-python",
   "name": "python",
   "nbconvert_exporter": "python",
   "pygments_lexer": "ipython3",
   "version": "3.12.4"
  }
 },
 "nbformat": 4,
 "nbformat_minor": 2
}
