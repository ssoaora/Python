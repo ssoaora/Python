{
 "cells": [
  {
   "cell_type": "markdown",
   "metadata": {},
   "source": [
    "### 문제1 - for 문과 while 문 변환\n",
    "- for 문은 정해진 범위나 이터러블 객체(리스트, 튜플 등)에 대해 반복하며, 미리 반복 횟수를 알고 있을 때 유용\n",
    "\n",
    "- while 문은 조건이 참인 동안 반복을 실행하므로, 반복 횟수를 사전에 알지 못할 때 주로 사용"
   ]
  },
  {
   "cell_type": "code",
   "execution_count": 1,
   "metadata": {},
   "outputs": [
    {
     "name": "stdout",
     "output_type": "stream",
     "text": [
      "for 문 결과: 55\n",
      "while 문 결과: 55\n"
     ]
    }
   ],
   "source": [
    "# for 문을 이용한 n까지의 합 계산\n",
    "def sum_using_for(n):\n",
    "    total = 0\n",
    "    \n",
    "    for i in range(1, n+1):\n",
    "        total += i\n",
    "    \n",
    "    return total\n",
    "\n",
    "# while 문을 이용한 n까지의 합 계산\n",
    "def sum_using_while(n):\n",
    "    total = 0\n",
    "    i = 1\n",
    "    \n",
    "    while i <= n:\n",
    "        total += i\n",
    "        i += 1\n",
    "    \n",
    "    return total\n",
    "\n",
    "# 테스트 실행\n",
    "n = 10\n",
    "print(f\"for 문 결과: {sum_using_for(n)}\")\n",
    "print(f\"while 문 결과: {sum_using_while(n)}\")"
   ]
  },
  {
   "cell_type": "markdown",
   "metadata": {},
   "source": [
    "### 문제 2 - List Comprehension (코드의 간결함과 가독성을 높임)\n",
    "- List Comprehension은 리스트를 간단하게 만들 수 있는 Python의 표현식으로, 조건문과 반복문을 통해 리스트의 요소를 동적으로 생성"
   ]
  },
  {
   "cell_type": "code",
   "execution_count": 2,
   "metadata": {},
   "outputs": [
    {
     "name": "stdout",
     "output_type": "stream",
     "text": [
      "짝수의 제곱: [4, 16]\n",
      "홀수: [1, 3]\n"
     ]
    }
   ],
   "source": [
    "numbers = range(1, 5)\n",
    "\n",
    "# 짝수의 제곱 리스트\n",
    "even_squares = [x ** 2 for x in numbers if x % 2 == 0]\n",
    "\n",
    "# 홀수 리스트\n",
    "odd_numbers = [x for x in numbers if x % 2 != 0]\n",
    "\n",
    "print(f\"짝수의 제곱: {even_squares}\")\n",
    "print(f\"홀수: {odd_numbers}\")"
   ]
  },
  {
   "cell_type": "markdown",
   "metadata": {},
   "source": [
    "### 문제 3 - Lambda 함수와 map(), filter() 사용\n",
    "- Lambda 함수는 익명 함수로, 한 줄로 정의하여 간단한 작업을 수행할 때 유용\n",
    "- map()과 filter()는 Python의 고차 함수로, 각각 리스트의 모든 요소를 변환하거나 특정 조건에 따라 필터링 하는 데 사용\n",
    "\n",
    "<b>* 고차 함수(higher-order function)는 다른 함수를 인자로 받거나, 함수를 반환하는 함수</b>\n",
    "\n",
    "각 요소의 제곱을 계산하고, 짝수인 제곱 값만 필터링하여 출력하는 코드임"
   ]
  },
  {
   "cell_type": "code",
   "execution_count": 3,
   "metadata": {},
   "outputs": [
    {
     "name": "stdout",
     "output_type": "stream",
     "text": [
      "Lambda와 map 결과: [1, 4, 9, 16, 25]\n",
      "짝수 제곱 필터링: [4, 16]\n"
     ]
    }
   ],
   "source": [
    "numbers = [1, 2, 3, 4, 5]\n",
    "\n",
    "# 숫자의 제곱 계산\n",
    "result = list(map(lambda x: x ** 2, numbers))\n",
    "\n",
    "# 짝수 제곱 필터링\n",
    "even_squares = list(filter(lambda x: x % 2 == 0, result))\n",
    "\n",
    "print(f\"Lambda와 map 결과: {result}\")\n",
    "print(f\"짝수 제곱 필터링: {even_squares}\")"
   ]
  },
  {
   "cell_type": "markdown",
   "metadata": {},
   "source": [
    "위의 문제를 틀린 학생들을 아래 내용을 참고요망\n",
    "- map() 함수는 주어진 함수와 반복 가능한(iterable) 객체를 인자로 받아, 각 요소에 함수를 적용하여 새로운 iterable을 반환"
   ]
  },
  {
   "cell_type": "code",
   "execution_count": 4,
   "metadata": {},
   "outputs": [
    {
     "name": "stdout",
     "output_type": "stream",
     "text": [
      "[2, 4, 6, 8]\n"
     ]
    }
   ],
   "source": [
    "numbers = [1, 2, 3, 4]\n",
    "doubled = list(map(lambda x: x * 2, numbers))\n",
    "print(doubled)  # [2, 4, 6, 8]"
   ]
  },
  {
   "cell_type": "markdown",
   "metadata": {},
   "source": [
    "- filter() 함수는 특정 조건을 만족하는 요소만을 필터링하여 반환"
   ]
  },
  {
   "cell_type": "code",
   "execution_count": 5,
   "metadata": {},
   "outputs": [
    {
     "name": "stdout",
     "output_type": "stream",
     "text": [
      "[2, 4]\n"
     ]
    }
   ],
   "source": [
    "numbers = [1, 2, 3, 4]\n",
    "even_numbers = list(filter(lambda x: x % 2 == 0, numbers))\n",
    "print(even_numbers) # [2, 4]"
   ]
  },
  {
   "cell_type": "markdown",
   "metadata": {},
   "source": [
    "- reduce() 함수(functools 모듈에서 가져와야 함)는 리스트와 같은 iterable의 요소를 누적해서 하나의 값으로 줄임"
   ]
  },
  {
   "cell_type": "code",
   "execution_count": 6,
   "metadata": {},
   "outputs": [
    {
     "name": "stdout",
     "output_type": "stream",
     "text": [
      "10\n"
     ]
    }
   ],
   "source": [
    "from functools import reduce\n",
    "numbers = [1, 2, 3, 4]\n",
    "total = reduce(lambda x, y: x + y, numbers)\n",
    "print(total)    # 10"
   ]
  },
  {
   "cell_type": "markdown",
   "metadata": {},
   "source": [
    "그러면 고차함수는 왜 쓸까?\n",
    "- **고차 함수는 반복적인 작업을 간단하게 표현할 수 있어 코드가 간결해짐** (예를 들어, map()을 사용하여 리스트의 모든 요소에 동일한 작업을 적용할 수 있으며, filter()를 사용하여 조건에 맞는 요소만 간단하게 선택 가능)\n",
    "\n",
    "- **파이썬의 함수형 프로그래밍 스타일을 지원하여 코드의 재사용성을 높이고 함수 조합을 통해 새로운 함수를 생성할 수 있음.**\n",
    "\n",
    "- 또한, **함수의 의도를 명확히 나타내어 가독성을 향상시킴** (예를들어, filter()를 사용하면 데이터에서 원하는 요소만 추출한다는 의도로 for 루프 보다는 더 직관적임)"
   ]
  },
  {
   "cell_type": "markdown",
   "metadata": {},
   "source": [
    "### 문제 4 - Iterable과 Iterator 코드 완성\n",
    "- Iterable 객체는 반복이 가능한 객체로, `__iter__()` 메소드를 포함하여 이터레이터 프로토콜을 지원\n",
    "\n",
    "- Iterator는 이터러블 객체의 요소를 차례로 반환하는 객체로, `__next__()` 메소드를 통해 각 요소를 순서대로 반환하고 끝에 도달하면 StopIteration 예외를 발생\n",
    "  \n",
    "- MyRange 클래스에서 `__iter__()`와 `__next__()` 메소드를 구현하여 이터레이터를 완성\n",
    "\n",
    "- MyRange 클래스는 시작 값과 끝 값을 받아 해당 범위의 숫자를 생성하는 사용자 정의 반복자를 만듦. 이 클래스를 for 루프에서 사용하면 `__iter__` 메서드와 `__next__` 메서드가 호출되어 순차적으로 값을 반환하며, 범위를 넘어서면 StopIteration 예외로 반복이 종료"
   ]
  },
  {
   "cell_type": "code",
   "execution_count": 7,
   "metadata": {},
   "outputs": [
    {
     "name": "stdout",
     "output_type": "stream",
     "text": [
      "1\n",
      "2\n",
      "3\n",
      "4\n",
      "5\n"
     ]
    }
   ],
   "source": [
    "class MyRange:\n",
    "    # 클래스 생성자, start와 end 값을 받아서 객체의 초기 값을 설정함\n",
    "    def __init__(self, start, end):\n",
    "        self.start = start      # 시작 값\n",
    "        self.end = end          # 끝 값 (포함하지 않음)\n",
    "        self.current = start    # 현재 위치를 start로 초기화\n",
    "    \n",
    "    # __iter__ 메소드: 객체 자신을 반복 가능한(iterable) 객체로 반환함\n",
    "    def __iter__(self):\n",
    "        return self     # 반복자를 반환하여 for 루프에서 사용할 수 있게 함\n",
    "    \n",
    "    # __next__ 메소드: 반복 시 호출되어 현재 값을 반환하고, 다음 값을 준비함\n",
    "    def __next__(self):\n",
    "        # 현재 값이 끝 값보다 크면, 반복 종료를 알리기 위해 StopIteration 예외를 발생시킴\n",
    "        if self.current > self.end:\n",
    "            raise StopIteration\n",
    "        value = self.current    # 현재 값을 value에 저장\n",
    "        self.current += 1       # 현재 값을 다음 값으로 증가\n",
    "        return value            #  현재 값 반환\n",
    "    \n",
    "# MyRange 클래스의 객체를 생성하여 1부터 5까지의 숫자를 반복하여 출력함\n",
    "for number in MyRange(1, 5):\n",
    "    print(number)"
   ]
  },
  {
   "cell_type": "markdown",
   "metadata": {},
   "source": [
    "### 문제 6 - Decorator 구현 및 해석\n",
    "- Decorator는 기존 함수에 새로운 기능을 추가하거나 수정할 때 사용합니다. 함수의 동작을 감싸서 제어하는 역할\n",
    "\n",
    "- @ 기호를 사용해 데코레이터를 적용할 수 있으며, 일반적으로 함수 호출 전후에 추가 작업을 실행할 때 사용\n",
    "\n",
    "- logger 데코레이터를 작성하여, 함수 호출 시 함수 이름과 인자를 출력"
   ]
  },
  {
   "cell_type": "code",
   "execution_count": null,
   "metadata": {},
   "outputs": [
    {
     "name": "stdout",
     "output_type": "stream",
     "text": [
      "Calling add with arguments (3, 5) {}\n",
      "8\n"
     ]
    }
   ],
   "source": [
    "# logger 데코레이터 함수 정의: 이 함수는 주어진 함수(func)에 새로운 기능을 추가하는 역할을 함\n",
    "# - 데코레이터는 기존 함수의 동작을 감싸서 제어하고, 추가 작업을 수행할 수 있음\n",
    "# - 이 데코레이터는 함수가 호출될 때 함수 이름과 전달된 인자들을 출력함\n",
    "def logger(func):\n",
    "    # wrapper 함수 정의: 인자로 받은 함수(func)를 감싸고, 실행 전/후 추가 작업을 할 수 있도록 함\n",
    "    # - *args와 **kwargs를 사용하여 함수의 모든 위치 인자와 키워드 인자를 받음\n",
    "    def wrapper(*args, **kwargs):\n",
    "        # 함수 호출 전, 함수 이름과 전달된 인자(args, kwargs)를 출력함\n",
    "        print(f\"Calling {func.__name__} with arguments {args} {kwargs}\")\n",
    "        # 전달된 인자들을 사용하여 실제 func 함수를 호출하고 결과를 저장함\n",
    "        result = func(*args, **kwargs)\n",
    "        return result # func 함수의 결과를 반환함\n",
    "    return wrapper # wrapper 함수를 반환하여 func 함수 대신 호출되도록 함\n",
    "\n",
    "# add 함수에 logger 데코레이터를 적용함\n",
    "# - @logger 구문을 사용하여 add 함수가 호출될 때 logger 데코레이터의 wrapper 함수가 실행되도록 함\n",
    "# - 이 데코레이터는 add 함수 호출 전, 함수 이름과 인자를 출력함\n",
    "@logger\n",
    "def add(a, b):\n",
    "    # 두 숫자를 더하는 간단한 함수\n",
    "    return a + b\n",
    "\n",
    "# - add 함수를 호출하면 logger 데코레이터가 적용되어 wrapper 함수가 먼저 실행됨\n",
    "# - wrapper 함수는 호출된 함수 이름(add)과 인자(3, 5)를 출력한 후, 실제 add 함수를 호출함\n",
    "# - add 함수의 결과인 8이 출력됨\n",
    "print(add(3, 5))    # Calling add with arguments (3, 5) {}"
   ]
  },
  {
   "cell_type": "markdown",
   "metadata": {},
   "source": [
    "### 문제 7 - Singleton 패턴 구현 및 해석\n",
    "- Singleton 패턴은 인스턴스를 단 하나만 생성하여 공유하도록 하는 디자인 패턴. 주로 데이터베이스 연결이나 설정 관리에서 사용\n",
    "- Python에서 Singleton 패턴은 클래스 속성으로 인스턴스를 저장하여 구현\n",
    "- 이 코드는 Singleton 패턴을 구현하여, Singleton 클래스의 인스턴스가 단 하나만 생성되도록 보장\n",
    "- `__new__` 메서드에서 _instance가 None일 때만 새로운 인스턴스를 생성하고, 이미 존재하면 기존 인스턴스를 반환\n",
    "- 이렇게 하면 Singleton 클래스의 여러 인스턴스를 생성하려 해도 항상 동일한 객체를 참조하게 되어, s1과 s2가 같은 인스턴스를 가리킴을 확인 가능"
   ]
  },
  {
   "cell_type": "code",
   "execution_count": 10,
   "metadata": {},
   "outputs": [
    {
     "name": "stdout",
     "output_type": "stream",
     "text": [
      "4597938368 4597938368\n",
      "True\n"
     ]
    }
   ],
   "source": [
    "class Singleton:\n",
    "    # 클래스 변수 _instance를 None으로 초기화하여 인스턴스를 저장할 공간을 만듦\n",
    "    _instance = None\n",
    "    \n",
    "    # __new__ 메서드: 클래스의 인스턴스를 생성하는 메서드로, Singleton 패턴을 구현함\n",
    "    # - cls는 Singleton 클래스 자체를 가리킴\n",
    "    def __new__(cls, *args, **kwargs):\n",
    "        # _instance가 아직 None인 경우에만 새로운 인스턴스를 생성함\n",
    "        if not cls._instance:\n",
    "            # super()를 통해 부모 클래스의 __new__ 메서드를 호출하여 인스턴스를 생성\n",
    "            cls._instance = super(Singleton, cls).__new__(cls)\n",
    "        # 이미 인스턴스가 존재하면 새로운 인스턴스를 생성하지 않고 기존 인스턴스를 반환함\n",
    "        return cls._instance\n",
    "\n",
    "# Singleton 클래스의 인스턴스를 생성하여 s1과 s2에 저장\n",
    "s1 = Singleton()\n",
    "s2 = Singleton()\n",
    "\n",
    "# id(s1)과 id(s2)를 출력하여 두 객체의 메모리 주소가 동일한지 확인함\n",
    "print(id(s1), id(s2))   # 두 객체의 id가 동일함을 확인할 수 있음\n",
    "\n",
    "# s1과 s2가 동일한 인스턴스인지 여부를 출력\n",
    "print(s1 is s2) # True: 두 객체가 같은 인스턴스를 참조하고 있음"
   ]
  },
  {
   "cell_type": "markdown",
   "metadata": {},
   "source": [
    "- Singleton 패턴을 활용하여, 설정 정보를 관리하는 ConfigManager 클래스를 구현하는 예시\n",
    "\n",
    "- 이 클래스는 Singleton 패턴을 사용하여 단 하나의 인스턴스만 생성되도록 보장하면서, 설정 정보를 읽고 업데이트하는 기능을 제공"
   ]
  },
  {
   "cell_type": "code",
   "execution_count": 11,
   "metadata": {},
   "outputs": [
    {
     "name": "stdout",
     "output_type": "stream",
     "text": [
      "Default configuration loaded.\n",
      "Current Configuration:\n",
      "setting_1: default_value_1\n",
      "setting_2: default_value_2\n",
      "setting_3: default_value_3\n",
      "Configuration updated: setting_1 = custom_value_1\n",
      "Configuration updated: new_setting = added_value\n",
      "IDs: 4594374688 4594374688\n",
      "Current Configuration:\n",
      "setting_1: custom_value_1\n",
      "setting_2: default_value_2\n",
      "setting_3: default_value_3\n",
      "new_setting: added_value\n",
      "Is Singleton: True\n"
     ]
    }
   ],
   "source": [
    "class ConfigManager:\n",
    "    _instance = None # Singleton 인스턴스를 저장할 클래스 변수\n",
    "    \n",
    "    # __new__ 메서드를 사용해 Singleton 패턴을 구현하여 인스턴스가 단 하나만 생성되도록 함\n",
    "    def __new__(cls, *args, **kwargs):\n",
    "        if not cls._instance:\n",
    "            cls._instance = super(ConfigManager, cls).__new__(cls)\n",
    "            # 설정이 초기화되는 시점에 딱 한 번만 기본 설정을 불러옴\n",
    "            cls._instance._load_default_config()\n",
    "        return cls._instance\n",
    "    \n",
    "    def _load_default_config(self):\n",
    "        # 기본 설정을 초기화하는 메서드. 딕셔너리를 사용하여 설정 항목을 저장함\n",
    "        self.config = {\n",
    "            \"setting_1\": \"default_value_1\",\n",
    "            \"setting_2\": \"default_value_2\",\n",
    "            \"setting_3\": \"default_value_3\",\n",
    "        }\n",
    "        print(\"Default configuration loaded.\")\n",
    "    \n",
    "    def get(self, key):\n",
    "        # 설정값을 가져오는 메서드. 설정 항목이 존재하지 않으면 None을 반환\n",
    "        return self.config.get(key, None)\n",
    "    \n",
    "    def set(self, key, value):\n",
    "        # 설정값을 업데이트하는 메서드. 새로운 키를 추가하거나 기존 키의 값을 변경\n",
    "        self.config[key] = value\n",
    "        print(f\"Configuration updated: {key} = {value}\")\n",
    "    \n",
    "    def display_config(self):\n",
    "        # 현재 설정 상태를 출력하는 메서드\n",
    "        print(\"Current Configuration:\")\n",
    "        for key, value in self.config.items():\n",
    "            print(f\"{key}: {value}\")\n",
    "\n",
    "# Singleton 패턴이 적용된 ConfigManager 클래스 사용 예시\n",
    "\n",
    "# 첫 번째 ConfigManager 인스턴스를 생성하여 기본 설정 로드\n",
    "config1 = ConfigManager()\n",
    "config1.display_config()    # 기본 설정 출력\n",
    "\n",
    "# 설정값을 업데이트\n",
    "config1.set(\"setting_1\", \"custom_value_1\")\n",
    "config1.set(\"new_setting\", \"added_value\")\n",
    "\n",
    "# 두 번째 ConfigManager 인스턴스를 생성하여 같은 Singleton 인스턴스를 참조함\n",
    "config2 = ConfigManager()\n",
    "\n",
    "# 두 인스턴스의 id 비교 (동일한 인스턴스를 참조하는지 확인)\n",
    "print(\"IDs:\", id(config1), id(config2)) # 같은 ID를 가짐\n",
    "\n",
    "# 설정값 확인: config2에서도 동일한 설정이 반영됨 확인 가능\n",
    "config2.display_config()\n",
    "\n",
    "# Singleton 인스턴스 검증\n",
    "print(\"Is Singleton:\", config1 is config2)  # True"
   ]
  },
  {
   "cell_type": "markdown",
   "metadata": {},
   "source": [
    "- 디자인 패턴은 반복적으로 등장하는 문제를 해결하는 구조적 접근법이며, Python에 맞는 방식으로 설계하여 코드의 재사용성과 유지보수성을 높일 수 있음\n",
    "\n",
    "- 싱글톤 외의 디자인 패턴으로는 객체 생성을 캡슐화하는 **팩토리 패턴**, 기존 객체를 복제하는 **프로토타입 패턴**, 복잡한 객체를 단계적으로 생성하는 **빌더 패턴**, 의존성을 외부에서 주입받는 **의존성 주입**, 알고리즘을 유연하게 교체 가능 **전략 패턴** 등이 있음\n",
    "\n",
    "- 또한 옵저버 패턴, 데코레이터 패턴, 프록시 패턴 등 많은 디자인 패턴이 존재함! 더 상세한 내용은 객체지향 프로그래밍이나 소프트웨어공학 교과목을 참고할 것!!"
   ]
  },
  {
   "cell_type": "markdown",
   "metadata": {},
   "source": [
    "### 1. 매직 메소드와 연산자 오버로딩\n",
    "- 매직 메서드는 Python의 특수한 메서드로, `__init__`, `__str__`, `__add__`, `__len__`과 같은 이름을 가지며, 다양한 내장 동작을 커스터마이징함\n",
    "- 연산자 오버로딩은 Python 객체에서 특정 연산자를 사용할 때 동작을 정의하는 것으로, +, -, == 같은 연산을 객체에 맞게 커스터마이징할 수 있음"
   ]
  },
  {
   "cell_type": "code",
   "execution_count": 13,
   "metadata": {},
   "outputs": [
    {
     "name": "stdout",
     "output_type": "stream",
     "text": [
      "Vector(4, 6)\n",
      "False\n",
      "True\n"
     ]
    }
   ],
   "source": [
    "class Vector:\n",
    "    # 생성자 메서듸 벡터의 x, y 좌표 값을 초기화\n",
    "    def __init__(self, x, y):\n",
    "        self.x = x  # x 좌표 값\n",
    "        self.y = y  # y 좌표 값\n",
    "    \n",
    "    # + 연산자 오버로딩: 두 Vector 객체의 x, y 좌표를 더해 새로운 Vector 객체 반환\n",
    "    def __add__(self, other):\n",
    "        # other가 Vector 타입인지 확인\n",
    "        if isinstance(other, Vector):\n",
    "            # 새로운 Vector 객체를 반환하며, x와 y 값을 각각 더한 결과를 사용\n",
    "            return Vector(self.x + other.x, self.y + other.y)\n",
    "        # Vector 타입이 아닐 경우 TypeError 예외 발생\n",
    "        raise TypeError(\"연산자는 Vector 타입끼리만 사용할 수 있습니다.\")\n",
    "    \n",
    "    # 문자열 표현 메서드: print() 함수로 객체를 출력할 때 호출\n",
    "    def __str__(self):\n",
    "        # 문자열로 표현된 벡터 값을 반환\n",
    "        return f\"Vector({self.x}, {self.y})\"\n",
    "    \n",
    "    # == 연산자 오버로딩: 두 Vector 객체가 같은지 비교\n",
    "    def __eq__(self, other):\n",
    "        # 두 객체의 x, y 좌표 값이 모두 같으면 True 반환, 그렇지 않으면 False 반환\n",
    "        return self.x == other.x and self.y == other.y\n",
    "    \n",
    "# 연산자 오버로딩 사용 예시\n",
    "v1 = Vector(1, 2)   # 첫 번째 Vector 객체 생성 (x=1, y=2)\n",
    "v2 = Vector(3, 4)   # 두 번째 Vector 객체 생성 (x=3, y=4)\n",
    "v3 = v1 + v2        # v1과 v2의 x, y 값을 더한 새로운 Vector 객체 반환\n",
    "\n",
    "print(v3)   # 출력: Vector(4, 6)\n",
    "            # __str__ 메서드가 호출되어 \"Vector(4, 6)\"이 출력됨\n",
    "\n",
    "print(v1 == v2) # 출력: False\n",
    "                # __eq__ 메서드가 호출되어 v1과 v2의 x, y 좌표 값이 다르므로 False 반환\n",
    "\n",
    "print(v1 == Vector(1, 2))   # 출력: True\n",
    "                            # __eq__ 메서드가 호출되어 v1의 x, y 좌표 Vector(1, 2)의 좌표와 같으르로 True 반환"
   ]
  },
  {
   "cell_type": "markdown",
   "metadata": {},
   "source": [
    "### 2. 타입 힌팅\n",
    "- 타입 힌팅은 함수 인자와 반환값에 예상되는 타입을 명시하여 코드의 가독성을 높이고, 에러를 사전에 방지\n",
    "\n",
    "- 정적 분석 도구(mypy 등)는 코드 실행 전 타입 오류를 확인 가능"
   ]
  },
  {
   "cell_type": "code",
   "execution_count": 14,
   "metadata": {},
   "outputs": [
    {
     "name": "stdout",
     "output_type": "stream",
     "text": [
      "30\n",
      "2.5\n"
     ]
    }
   ],
   "source": [
    "from typing import List, Union  # 타입 힌트를 제공하는 typing 모듈에서 List, Union 가져오기\n",
    "\n",
    "# add_numbers 함수: 두 정수를 더한 결과를 반환\n",
    "# x와 y는 int 타입이어야 하며, 바환 타입은 intfh wlwjdehla\n",
    "def add_numbers(x: int, y: int) -> int:\n",
    "    # x와 y를 더한 결과를 반환\n",
    "    return x + y\n",
    "\n",
    "# average 함수: 정수와 실수가 혼함된 리스트의 평균을 계산하여 바환\n",
    "# 매개변수 numbers는 정수 또는 실수로 이루어진 리스트여야 하며, 반환 타입은 float로 지정됨\n",
    "def average(nubers: List[Union[int, float]]) -> float:\n",
    "    # 리스트의 합계를 계산하고 요소 개수로 나누어 평균을 반환\n",
    "    return sum(numbers) / len(numbers)\n",
    "\n",
    "# 타입 힌트를 활용한 함수 호출\n",
    "# add_numbers 호출: 10과 20을 더한 결과인 30을 출력\n",
    "print(add_numbers(10, 20))  # 출력: 30\n",
    "\n",
    "# average 호출: 10, 20, 30.5, 40.2의 평균을 계산해 출력 (25.175)\n",
    "print(average([10, 20, 30.5, 40.2]))    # 출력: 25.175\n",
    "\n",
    "# 잘못된 타입 전달 예씨\n",
    "# add_numbers 함수는 int 타입의 인자만 허용하므로 str 타입의 인자를 전달할 경우 정적 분석 도구에서 오류 발생 가능\n",
    "# print(add_numbers(\"10\", \"20\"))    # 정적 분석 도구(mypy)에서 타입 오류 발생"
   ]
  },
  {
   "cell_type": "markdown",
   "metadata": {},
   "source": [
    "**pip install mypy**로 설치하고, 사용은 **mypy my_script.py** 와 같이 사용하면 됨.\n",
    "\n",
    "타입 안전성을 강화해 버그를 사전에 방지하고 팀 협업 시 코드 유지 보수가 쉬워진다는 장점이 있는데 반해서, 타입 힌트를 추가해야해서 코드 작성 시간이 길어질 수 있고, 런타임에 타입을 확인하는게 아니니가 실행 중에 동적 타입 변환을 사용하는 코드에서는 검사하는데 제약이 있음."
   ]
  }
 ],
 "metadata": {
  "kernelspec": {
   "display_name": "base",
   "language": "python",
   "name": "python3"
  },
  "language_info": {
   "codemirror_mode": {
    "name": "ipython",
    "version": 3
   },
   "file_extension": ".py",
   "mimetype": "text/x-python",
   "name": "python",
   "nbconvert_exporter": "python",
   "pygments_lexer": "ipython3",
   "version": "3.12.7"
  }
 },
 "nbformat": 4,
 "nbformat_minor": 2
}
